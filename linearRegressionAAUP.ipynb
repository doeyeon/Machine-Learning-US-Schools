{
 "cells": [
  {
   "cell_type": "code",
   "execution_count": 65,
   "id": "2920b8ac",
   "metadata": {},
   "outputs": [],
   "source": [
    "import pandas as pd\n",
    "import numpy as np\n",
    "from scipy import stats\n",
    "import plotly.express as px\n",
    "import matplotlib.pyplot as plt\n",
    "import pyspark\n",
    "from pyspark.sql import SparkSession\n",
    "from sklearn.linear_model import LinearRegression\n",
    "from sklearn.model_selection import train_test_split\n",
    "from sklearn import metrics\n",
    "import seaborn as sns\n",
    "%matplotlib inline\n",
    "spark = SparkSession.builder.master('local').getOrCreate()"
   ]
  },
  {
   "cell_type": "code",
   "execution_count": 66,
   "id": "67836d07",
   "metadata": {},
   "outputs": [
    {
     "name": "stdout",
     "output_type": "stream",
     "text": [
      "1161 data entries (raw data)\n",
      "1074 data entries (removed incomplete data)\n"
     ]
    }
   ],
   "source": [
    "'''\n",
    "Prepare data for linear regression. This includes:\n",
    "\n",
    "1. Linear assumptions (dependant vs. independant)\n",
    "2. Removing noise (outliers)\n",
    "3. Removing collinearity \n",
    "4. Transforming into Gaussian Distribution\n",
    "5. Normalize inputs\n",
    "'''\n",
    "\n",
    "# Clean up data by removing incomplete entries. Any row with null values will not be considered for linear regression.\n",
    "# Initial dataset has 1161 data entries. After dropping incomplete data, we have 1074 data entries with no null values.\n",
    "df1 = pd.read_csv('aaup.csv')\n",
    "print(\"{:.0f} data entries (raw data)\".format(len(df1.index)))\n",
    "df2 = df1.dropna()\n",
    "print(\"{:.0f} data entries (removed incomplete data)\".format(len(df2.index)))"
   ]
  },
  {
   "cell_type": "code",
   "execution_count": 67,
   "id": "930af0ac",
   "metadata": {},
   "outputs": [
    {
     "data": {
      "application/vnd.plotly.v1+json": {
       "config": {
        "plotlyServerURL": "https://plot.ly"
       },
       "data": [
        {
         "alignmentgroup": "True",
         "bingroup": "x",
         "hovertemplate": "Full Professor Comp=%{x}<br>count=%{y}<extra></extra>",
         "legendgroup": "",
         "marker": {
          "color": "#636efa",
          "pattern": {
           "shape": ""
          }
         },
         "name": "",
         "nbinsx": 100,
         "offsetgroup": "",
         "orientation": "v",
         "showlegend": false,
         "texttemplate": "%{value}",
         "type": "histogram",
         "x": [
          567,
          914,
          716,
          825,
          530,
          542,
          558,
          692,
          655,
          607,
          421,
          585,
          433,
          436,
          375,
          710,
          518,
          388,
          560,
          487,
          746,
          786,
          771,
          645,
          621,
          561,
          505,
          550,
          646,
          632,
          428,
          561,
          664,
          478,
          651,
          529,
          575,
          686,
          512,
          439,
          723,
          619,
          771,
          573,
          582,
          1204,
          600,
          760,
          762,
          751,
          759,
          763,
          766,
          758,
          757,
          746,
          756,
          750,
          755,
          763,
          892,
          961,
          824,
          909,
          776,
          630,
          542,
          602,
          737,
          806,
          441,
          637,
          930,
          754,
          1144,
          939,
          840,
          870,
          910,
          824,
          888,
          767,
          875,
          832,
          716,
          811,
          938,
          1016,
          666,
          616,
          808,
          751,
          752,
          904,
          911,
          527,
          776,
          565,
          714,
          516,
          508,
          568,
          626,
          559,
          797,
          756,
          546,
          642,
          726,
          856,
          810,
          883,
          894,
          656,
          877,
          686,
          819,
          654,
          901,
          644,
          660,
          936,
          856,
          1127,
          897,
          718,
          814,
          874,
          1080,
          780,
          536,
          686,
          716,
          922,
          565,
          598,
          520,
          556,
          661,
          750,
          676,
          552,
          729,
          678,
          794,
          790,
          895,
          735,
          593,
          698,
          636,
          491,
          719,
          663,
          651,
          578,
          588,
          645,
          650,
          588,
          972,
          596,
          862,
          587,
          623,
          817,
          661,
          686,
          630,
          439,
          768,
          603,
          595,
          571,
          519,
          887,
          731,
          473,
          606,
          572,
          512,
          671,
          693,
          548,
          762,
          490,
          481,
          809,
          842,
          531,
          630,
          495,
          465,
          531,
          645,
          541,
          730,
          443,
          872,
          564,
          420,
          566,
          540,
          588,
          499,
          640,
          648,
          528,
          599,
          679,
          551,
          487,
          857,
          515,
          466,
          621,
          836,
          638,
          529,
          509,
          729,
          486,
          650,
          843,
          561,
          924,
          393,
          539,
          583,
          544,
          566,
          588,
          540,
          667,
          1045,
          476,
          572,
          459,
          610,
          543,
          657,
          616,
          576,
          667,
          1104,
          783,
          755,
          587,
          640,
          694,
          594,
          532,
          666,
          650,
          695,
          639,
          602,
          549,
          479,
          439,
          682,
          544,
          620,
          636,
          852,
          648,
          820,
          665,
          694,
          696,
          679,
          527,
          520,
          492,
          920,
          677,
          797,
          486,
          426,
          382,
          675,
          555,
          485,
          985,
          681,
          770,
          647,
          443,
          415,
          408,
          556,
          567,
          553,
          686,
          394,
          397,
          410,
          415,
          390,
          714,
          719,
          679,
          457,
          374,
          583,
          675,
          422,
          416,
          653,
          438,
          648,
          493,
          576,
          474,
          600,
          601,
          434,
          627,
          383,
          760,
          715,
          432,
          613,
          623,
          625,
          567,
          535,
          491,
          484,
          549,
          711,
          539,
          609,
          728,
          554,
          559,
          500,
          566,
          487,
          876,
          633,
          546,
          538,
          917,
          499,
          610,
          652,
          975,
          894,
          605,
          964,
          557,
          859,
          822,
          524,
          875,
          874,
          578,
          1236,
          805,
          1124,
          672,
          644,
          642,
          662,
          669,
          866,
          880,
          627,
          724,
          932,
          722,
          643,
          657,
          925,
          964,
          880,
          813,
          988,
          823,
          740,
          662,
          923,
          842,
          647,
          493,
          344,
          707,
          646,
          661,
          665,
          972,
          802,
          743,
          563,
          679,
          686,
          692,
          721,
          833,
          865,
          783,
          630,
          637,
          612,
          562,
          824,
          918,
          904,
          594,
          555,
          454,
          545,
          716,
          582,
          418,
          724,
          559,
          716,
          645,
          491,
          604,
          768,
          428,
          722,
          713,
          474,
          726,
          681,
          696,
          576,
          534,
          843,
          854,
          661,
          749,
          831,
          642,
          455,
          701,
          708,
          846,
          755,
          489,
          955,
          559,
          629,
          807,
          595,
          515,
          568,
          702,
          638,
          493,
          625,
          706,
          807,
          662,
          651,
          510,
          686,
          662,
          672,
          595,
          673,
          719,
          697,
          652,
          842,
          597,
          459,
          478,
          630,
          437,
          463,
          546,
          431,
          506,
          477,
          548,
          592,
          580,
          615,
          634,
          407,
          548,
          547,
          612,
          617,
          783,
          729,
          802,
          702,
          699,
          952,
          623,
          549,
          529,
          476,
          534,
          423,
          487,
          511,
          615,
          649,
          456,
          382,
          370,
          676,
          664,
          478,
          459,
          500,
          583,
          602,
          493,
          537,
          473,
          637,
          598,
          647,
          411,
          412,
          434,
          418,
          490,
          801,
          1055,
          672,
          580,
          572,
          640,
          414,
          456,
          615,
          591,
          485,
          462,
          426,
          517,
          416,
          670,
          478,
          655,
          471,
          511,
          466,
          797,
          837,
          686,
          735,
          837,
          627,
          648,
          469,
          587,
          506,
          563,
          572,
          501,
          545,
          593,
          423,
          793,
          404,
          521,
          516,
          618,
          635,
          548,
          584,
          358,
          792,
          585,
          449,
          488,
          1002,
          605,
          551,
          728,
          393,
          541,
          633,
          729,
          622,
          650,
          602,
          490,
          762,
          592,
          840,
          783,
          802,
          976,
          833,
          859,
          1154,
          764,
          1097,
          894,
          600,
          807,
          845,
          1060,
          1045,
          692,
          835,
          790,
          605,
          541,
          648,
          641,
          693,
          741,
          699,
          891,
          641,
          860,
          679,
          549,
          875,
          848,
          693,
          534,
          1136,
          943,
          436,
          872,
          1047,
          847,
          485,
          666,
          945,
          801,
          628,
          749,
          956,
          487,
          756,
          761,
          473,
          684,
          767,
          741,
          546,
          640,
          697,
          525,
          633,
          634,
          1172,
          612,
          851,
          922,
          710,
          609,
          779,
          831,
          667,
          642,
          689,
          635,
          584,
          799,
          617,
          934,
          902,
          961,
          778,
          693,
          691,
          731,
          704,
          758,
          705,
          702,
          701,
          691,
          851,
          642,
          841,
          895,
          879,
          587,
          568,
          825,
          726,
          696,
          701,
          758,
          970,
          706,
          624,
          662,
          466,
          817,
          704,
          948,
          527,
          750,
          575,
          580,
          735,
          609,
          438,
          757,
          526,
          491,
          602,
          717,
          810,
          777,
          515,
          569,
          574,
          789,
          639,
          622,
          786,
          726,
          600,
          593,
          718,
          856,
          765,
          750,
          425,
          476,
          504,
          481,
          704,
          712,
          723,
          846,
          797,
          571,
          781,
          658,
          531,
          606,
          538,
          545,
          554,
          522,
          467,
          527,
          528,
          655,
          515,
          438,
          558,
          567,
          752,
          835,
          496,
          612,
          531,
          749,
          650,
          575,
          762,
          648,
          561,
          693,
          729,
          598,
          762,
          716,
          758,
          648,
          744,
          506,
          652,
          767,
          840,
          994,
          591,
          628,
          578,
          649,
          797,
          843,
          753,
          636,
          718,
          902,
          586,
          527,
          820,
          428,
          876,
          599,
          572,
          859,
          634,
          641,
          873,
          733,
          593,
          955,
          628,
          656,
          635,
          592,
          621,
          624,
          623,
          809,
          870,
          856,
          850,
          884,
          858,
          870,
          847,
          820,
          839,
          842,
          848,
          836,
          821,
          693,
          519,
          724,
          575,
          573,
          764,
          603,
          661,
          868,
          913,
          534,
          1086,
          910,
          619,
          602,
          704,
          736,
          686,
          912,
          689,
          541,
          603,
          612,
          402,
          809,
          594,
          518,
          887,
          824,
          956,
          812,
          827,
          675,
          739,
          620,
          813,
          518,
          381,
          366,
          576,
          728,
          521,
          581,
          515,
          582,
          719,
          557,
          319,
          411,
          637,
          561,
          705,
          563,
          535,
          578,
          662,
          529,
          585,
          576,
          487,
          554,
          498,
          463,
          562,
          521,
          570,
          581,
          573,
          475,
          509,
          561,
          629,
          451,
          454,
          405,
          431,
          520,
          674,
          654,
          465,
          348,
          741,
          595,
          664,
          426,
          496,
          628,
          756,
          615,
          759,
          988,
          757,
          555,
          618,
          629,
          460,
          625,
          457,
          507,
          591,
          525,
          613,
          674,
          577,
          625,
          992,
          633,
          425,
          918,
          619,
          763,
          552,
          744,
          582,
          562,
          616,
          570,
          811,
          589,
          564,
          684,
          762,
          570,
          623,
          860,
          578,
          836,
          724,
          888,
          679,
          502,
          583,
          791,
          570,
          810,
          576,
          685,
          714,
          798,
          604,
          666,
          696,
          628,
          851,
          792,
          688,
          546,
          633,
          578,
          454,
          563,
          827,
          632,
          480,
          531,
          508,
          631,
          568,
          609,
          611,
          567,
          647,
          551,
          616,
          731,
          613,
          632,
          623,
          753,
          624,
          554,
          399,
          666,
          883,
          602,
          552,
          909,
          392,
          668,
          802,
          554,
          618,
          459,
          643,
          842,
          953,
          458,
          580,
          518,
          550,
          584,
          878,
          545,
          675,
          432,
          770,
          596,
          601,
          741,
          617,
          563,
          674,
          441,
          788,
          838,
          403,
          734,
          665,
          717,
          513,
          511,
          660,
          556,
          507,
          691,
          548,
          884,
          609,
          493,
          458,
          619,
          712,
          831,
          761,
          638,
          553,
          642,
          627,
          653,
          661,
          622,
          658,
          642,
          670,
          680,
          688,
          507,
          501,
          483,
          505,
          480,
          526,
          484,
          576,
          484,
          509,
          508,
          513,
          502,
          642,
          572,
          486,
          658
         ],
         "xaxis": "x",
         "yaxis": "y"
        }
       ],
       "layout": {
        "barmode": "relative",
        "legend": {
         "tracegroupgap": 0
        },
        "template": {
         "data": {
          "bar": [
           {
            "error_x": {
             "color": "#2a3f5f"
            },
            "error_y": {
             "color": "#2a3f5f"
            },
            "marker": {
             "line": {
              "color": "#E5ECF6",
              "width": 0.5
             },
             "pattern": {
              "fillmode": "overlay",
              "size": 10,
              "solidity": 0.2
             }
            },
            "type": "bar"
           }
          ],
          "barpolar": [
           {
            "marker": {
             "line": {
              "color": "#E5ECF6",
              "width": 0.5
             },
             "pattern": {
              "fillmode": "overlay",
              "size": 10,
              "solidity": 0.2
             }
            },
            "type": "barpolar"
           }
          ],
          "carpet": [
           {
            "aaxis": {
             "endlinecolor": "#2a3f5f",
             "gridcolor": "white",
             "linecolor": "white",
             "minorgridcolor": "white",
             "startlinecolor": "#2a3f5f"
            },
            "baxis": {
             "endlinecolor": "#2a3f5f",
             "gridcolor": "white",
             "linecolor": "white",
             "minorgridcolor": "white",
             "startlinecolor": "#2a3f5f"
            },
            "type": "carpet"
           }
          ],
          "choropleth": [
           {
            "colorbar": {
             "outlinewidth": 0,
             "ticks": ""
            },
            "type": "choropleth"
           }
          ],
          "contour": [
           {
            "colorbar": {
             "outlinewidth": 0,
             "ticks": ""
            },
            "colorscale": [
             [
              0,
              "#0d0887"
             ],
             [
              0.1111111111111111,
              "#46039f"
             ],
             [
              0.2222222222222222,
              "#7201a8"
             ],
             [
              0.3333333333333333,
              "#9c179e"
             ],
             [
              0.4444444444444444,
              "#bd3786"
             ],
             [
              0.5555555555555556,
              "#d8576b"
             ],
             [
              0.6666666666666666,
              "#ed7953"
             ],
             [
              0.7777777777777778,
              "#fb9f3a"
             ],
             [
              0.8888888888888888,
              "#fdca26"
             ],
             [
              1,
              "#f0f921"
             ]
            ],
            "type": "contour"
           }
          ],
          "contourcarpet": [
           {
            "colorbar": {
             "outlinewidth": 0,
             "ticks": ""
            },
            "type": "contourcarpet"
           }
          ],
          "heatmap": [
           {
            "colorbar": {
             "outlinewidth": 0,
             "ticks": ""
            },
            "colorscale": [
             [
              0,
              "#0d0887"
             ],
             [
              0.1111111111111111,
              "#46039f"
             ],
             [
              0.2222222222222222,
              "#7201a8"
             ],
             [
              0.3333333333333333,
              "#9c179e"
             ],
             [
              0.4444444444444444,
              "#bd3786"
             ],
             [
              0.5555555555555556,
              "#d8576b"
             ],
             [
              0.6666666666666666,
              "#ed7953"
             ],
             [
              0.7777777777777778,
              "#fb9f3a"
             ],
             [
              0.8888888888888888,
              "#fdca26"
             ],
             [
              1,
              "#f0f921"
             ]
            ],
            "type": "heatmap"
           }
          ],
          "heatmapgl": [
           {
            "colorbar": {
             "outlinewidth": 0,
             "ticks": ""
            },
            "colorscale": [
             [
              0,
              "#0d0887"
             ],
             [
              0.1111111111111111,
              "#46039f"
             ],
             [
              0.2222222222222222,
              "#7201a8"
             ],
             [
              0.3333333333333333,
              "#9c179e"
             ],
             [
              0.4444444444444444,
              "#bd3786"
             ],
             [
              0.5555555555555556,
              "#d8576b"
             ],
             [
              0.6666666666666666,
              "#ed7953"
             ],
             [
              0.7777777777777778,
              "#fb9f3a"
             ],
             [
              0.8888888888888888,
              "#fdca26"
             ],
             [
              1,
              "#f0f921"
             ]
            ],
            "type": "heatmapgl"
           }
          ],
          "histogram": [
           {
            "marker": {
             "pattern": {
              "fillmode": "overlay",
              "size": 10,
              "solidity": 0.2
             }
            },
            "type": "histogram"
           }
          ],
          "histogram2d": [
           {
            "colorbar": {
             "outlinewidth": 0,
             "ticks": ""
            },
            "colorscale": [
             [
              0,
              "#0d0887"
             ],
             [
              0.1111111111111111,
              "#46039f"
             ],
             [
              0.2222222222222222,
              "#7201a8"
             ],
             [
              0.3333333333333333,
              "#9c179e"
             ],
             [
              0.4444444444444444,
              "#bd3786"
             ],
             [
              0.5555555555555556,
              "#d8576b"
             ],
             [
              0.6666666666666666,
              "#ed7953"
             ],
             [
              0.7777777777777778,
              "#fb9f3a"
             ],
             [
              0.8888888888888888,
              "#fdca26"
             ],
             [
              1,
              "#f0f921"
             ]
            ],
            "type": "histogram2d"
           }
          ],
          "histogram2dcontour": [
           {
            "colorbar": {
             "outlinewidth": 0,
             "ticks": ""
            },
            "colorscale": [
             [
              0,
              "#0d0887"
             ],
             [
              0.1111111111111111,
              "#46039f"
             ],
             [
              0.2222222222222222,
              "#7201a8"
             ],
             [
              0.3333333333333333,
              "#9c179e"
             ],
             [
              0.4444444444444444,
              "#bd3786"
             ],
             [
              0.5555555555555556,
              "#d8576b"
             ],
             [
              0.6666666666666666,
              "#ed7953"
             ],
             [
              0.7777777777777778,
              "#fb9f3a"
             ],
             [
              0.8888888888888888,
              "#fdca26"
             ],
             [
              1,
              "#f0f921"
             ]
            ],
            "type": "histogram2dcontour"
           }
          ],
          "mesh3d": [
           {
            "colorbar": {
             "outlinewidth": 0,
             "ticks": ""
            },
            "type": "mesh3d"
           }
          ],
          "parcoords": [
           {
            "line": {
             "colorbar": {
              "outlinewidth": 0,
              "ticks": ""
             }
            },
            "type": "parcoords"
           }
          ],
          "pie": [
           {
            "automargin": true,
            "type": "pie"
           }
          ],
          "scatter": [
           {
            "marker": {
             "colorbar": {
              "outlinewidth": 0,
              "ticks": ""
             }
            },
            "type": "scatter"
           }
          ],
          "scatter3d": [
           {
            "line": {
             "colorbar": {
              "outlinewidth": 0,
              "ticks": ""
             }
            },
            "marker": {
             "colorbar": {
              "outlinewidth": 0,
              "ticks": ""
             }
            },
            "type": "scatter3d"
           }
          ],
          "scattercarpet": [
           {
            "marker": {
             "colorbar": {
              "outlinewidth": 0,
              "ticks": ""
             }
            },
            "type": "scattercarpet"
           }
          ],
          "scattergeo": [
           {
            "marker": {
             "colorbar": {
              "outlinewidth": 0,
              "ticks": ""
             }
            },
            "type": "scattergeo"
           }
          ],
          "scattergl": [
           {
            "marker": {
             "colorbar": {
              "outlinewidth": 0,
              "ticks": ""
             }
            },
            "type": "scattergl"
           }
          ],
          "scattermapbox": [
           {
            "marker": {
             "colorbar": {
              "outlinewidth": 0,
              "ticks": ""
             }
            },
            "type": "scattermapbox"
           }
          ],
          "scatterpolar": [
           {
            "marker": {
             "colorbar": {
              "outlinewidth": 0,
              "ticks": ""
             }
            },
            "type": "scatterpolar"
           }
          ],
          "scatterpolargl": [
           {
            "marker": {
             "colorbar": {
              "outlinewidth": 0,
              "ticks": ""
             }
            },
            "type": "scatterpolargl"
           }
          ],
          "scatterternary": [
           {
            "marker": {
             "colorbar": {
              "outlinewidth": 0,
              "ticks": ""
             }
            },
            "type": "scatterternary"
           }
          ],
          "surface": [
           {
            "colorbar": {
             "outlinewidth": 0,
             "ticks": ""
            },
            "colorscale": [
             [
              0,
              "#0d0887"
             ],
             [
              0.1111111111111111,
              "#46039f"
             ],
             [
              0.2222222222222222,
              "#7201a8"
             ],
             [
              0.3333333333333333,
              "#9c179e"
             ],
             [
              0.4444444444444444,
              "#bd3786"
             ],
             [
              0.5555555555555556,
              "#d8576b"
             ],
             [
              0.6666666666666666,
              "#ed7953"
             ],
             [
              0.7777777777777778,
              "#fb9f3a"
             ],
             [
              0.8888888888888888,
              "#fdca26"
             ],
             [
              1,
              "#f0f921"
             ]
            ],
            "type": "surface"
           }
          ],
          "table": [
           {
            "cells": {
             "fill": {
              "color": "#EBF0F8"
             },
             "line": {
              "color": "white"
             }
            },
            "header": {
             "fill": {
              "color": "#C8D4E3"
             },
             "line": {
              "color": "white"
             }
            },
            "type": "table"
           }
          ]
         },
         "layout": {
          "annotationdefaults": {
           "arrowcolor": "#2a3f5f",
           "arrowhead": 0,
           "arrowwidth": 1
          },
          "autotypenumbers": "strict",
          "coloraxis": {
           "colorbar": {
            "outlinewidth": 0,
            "ticks": ""
           }
          },
          "colorscale": {
           "diverging": [
            [
             0,
             "#8e0152"
            ],
            [
             0.1,
             "#c51b7d"
            ],
            [
             0.2,
             "#de77ae"
            ],
            [
             0.3,
             "#f1b6da"
            ],
            [
             0.4,
             "#fde0ef"
            ],
            [
             0.5,
             "#f7f7f7"
            ],
            [
             0.6,
             "#e6f5d0"
            ],
            [
             0.7,
             "#b8e186"
            ],
            [
             0.8,
             "#7fbc41"
            ],
            [
             0.9,
             "#4d9221"
            ],
            [
             1,
             "#276419"
            ]
           ],
           "sequential": [
            [
             0,
             "#0d0887"
            ],
            [
             0.1111111111111111,
             "#46039f"
            ],
            [
             0.2222222222222222,
             "#7201a8"
            ],
            [
             0.3333333333333333,
             "#9c179e"
            ],
            [
             0.4444444444444444,
             "#bd3786"
            ],
            [
             0.5555555555555556,
             "#d8576b"
            ],
            [
             0.6666666666666666,
             "#ed7953"
            ],
            [
             0.7777777777777778,
             "#fb9f3a"
            ],
            [
             0.8888888888888888,
             "#fdca26"
            ],
            [
             1,
             "#f0f921"
            ]
           ],
           "sequentialminus": [
            [
             0,
             "#0d0887"
            ],
            [
             0.1111111111111111,
             "#46039f"
            ],
            [
             0.2222222222222222,
             "#7201a8"
            ],
            [
             0.3333333333333333,
             "#9c179e"
            ],
            [
             0.4444444444444444,
             "#bd3786"
            ],
            [
             0.5555555555555556,
             "#d8576b"
            ],
            [
             0.6666666666666666,
             "#ed7953"
            ],
            [
             0.7777777777777778,
             "#fb9f3a"
            ],
            [
             0.8888888888888888,
             "#fdca26"
            ],
            [
             1,
             "#f0f921"
            ]
           ]
          },
          "colorway": [
           "#636efa",
           "#EF553B",
           "#00cc96",
           "#ab63fa",
           "#FFA15A",
           "#19d3f3",
           "#FF6692",
           "#B6E880",
           "#FF97FF",
           "#FECB52"
          ],
          "font": {
           "color": "#2a3f5f"
          },
          "geo": {
           "bgcolor": "white",
           "lakecolor": "white",
           "landcolor": "#E5ECF6",
           "showlakes": true,
           "showland": true,
           "subunitcolor": "white"
          },
          "hoverlabel": {
           "align": "left"
          },
          "hovermode": "closest",
          "mapbox": {
           "style": "light"
          },
          "paper_bgcolor": "white",
          "plot_bgcolor": "#E5ECF6",
          "polar": {
           "angularaxis": {
            "gridcolor": "white",
            "linecolor": "white",
            "ticks": ""
           },
           "bgcolor": "#E5ECF6",
           "radialaxis": {
            "gridcolor": "white",
            "linecolor": "white",
            "ticks": ""
           }
          },
          "scene": {
           "xaxis": {
            "backgroundcolor": "#E5ECF6",
            "gridcolor": "white",
            "gridwidth": 2,
            "linecolor": "white",
            "showbackground": true,
            "ticks": "",
            "zerolinecolor": "white"
           },
           "yaxis": {
            "backgroundcolor": "#E5ECF6",
            "gridcolor": "white",
            "gridwidth": 2,
            "linecolor": "white",
            "showbackground": true,
            "ticks": "",
            "zerolinecolor": "white"
           },
           "zaxis": {
            "backgroundcolor": "#E5ECF6",
            "gridcolor": "white",
            "gridwidth": 2,
            "linecolor": "white",
            "showbackground": true,
            "ticks": "",
            "zerolinecolor": "white"
           }
          },
          "shapedefaults": {
           "line": {
            "color": "#2a3f5f"
           }
          },
          "ternary": {
           "aaxis": {
            "gridcolor": "white",
            "linecolor": "white",
            "ticks": ""
           },
           "baxis": {
            "gridcolor": "white",
            "linecolor": "white",
            "ticks": ""
           },
           "bgcolor": "#E5ECF6",
           "caxis": {
            "gridcolor": "white",
            "linecolor": "white",
            "ticks": ""
           }
          },
          "title": {
           "x": 0.05
          },
          "xaxis": {
           "automargin": true,
           "gridcolor": "white",
           "linecolor": "white",
           "ticks": "",
           "title": {
            "standoff": 15
           },
           "zerolinecolor": "white",
           "zerolinewidth": 2
          },
          "yaxis": {
           "automargin": true,
           "gridcolor": "white",
           "linecolor": "white",
           "ticks": "",
           "title": {
            "standoff": 15
           },
           "zerolinecolor": "white",
           "zerolinewidth": 2
          }
         }
        },
        "title": {
         "text": "Count of Full Professor Compensations"
        },
        "xaxis": {
         "anchor": "y",
         "domain": [
          0,
          1
         ],
         "title": {
          "text": "Full Professor Comp"
         }
        },
        "yaxis": {
         "anchor": "x",
         "domain": [
          0,
          1
         ],
         "title": {
          "text": "count"
         }
        }
       }
      },
      "text/html": [
       "<div>                            <div id=\"0373f734-09be-4b9d-b34f-aeff6a2c84bf\" class=\"plotly-graph-div\" style=\"height:525px; width:100%;\"></div>            <script type=\"text/javascript\">                require([\"plotly\"], function(Plotly) {                    window.PLOTLYENV=window.PLOTLYENV || {};                                    if (document.getElementById(\"0373f734-09be-4b9d-b34f-aeff6a2c84bf\")) {                    Plotly.newPlot(                        \"0373f734-09be-4b9d-b34f-aeff6a2c84bf\",                        [{\"alignmentgroup\":\"True\",\"bingroup\":\"x\",\"hovertemplate\":\"Full Professor Comp=%{x}<br>count=%{y}<extra></extra>\",\"legendgroup\":\"\",\"marker\":{\"color\":\"#636efa\",\"pattern\":{\"shape\":\"\"}},\"name\":\"\",\"nbinsx\":100,\"offsetgroup\":\"\",\"orientation\":\"v\",\"showlegend\":false,\"texttemplate\":\"%{value}\",\"x\":[567.0,914.0,716.0,825.0,530.0,542.0,558.0,692.0,655.0,607.0,421.0,585.0,433.0,436.0,375.0,710.0,518.0,388.0,560.0,487.0,746.0,786.0,771.0,645.0,621.0,561.0,505.0,550.0,646.0,632.0,428.0,561.0,664.0,478.0,651.0,529.0,575.0,686.0,512.0,439.0,723.0,619.0,771.0,573.0,582.0,1204.0,600.0,760.0,762.0,751.0,759.0,763.0,766.0,758.0,757.0,746.0,756.0,750.0,755.0,763.0,892.0,961.0,824.0,909.0,776.0,630.0,542.0,602.0,737.0,806.0,441.0,637.0,930.0,754.0,1144.0,939.0,840.0,870.0,910.0,824.0,888.0,767.0,875.0,832.0,716.0,811.0,938.0,1016.0,666.0,616.0,808.0,751.0,752.0,904.0,911.0,527.0,776.0,565.0,714.0,516.0,508.0,568.0,626.0,559.0,797.0,756.0,546.0,642.0,726.0,856.0,810.0,883.0,894.0,656.0,877.0,686.0,819.0,654.0,901.0,644.0,660.0,936.0,856.0,1127.0,897.0,718.0,814.0,874.0,1080.0,780.0,536.0,686.0,716.0,922.0,565.0,598.0,520.0,556.0,661.0,750.0,676.0,552.0,729.0,678.0,794.0,790.0,895.0,735.0,593.0,698.0,636.0,491.0,719.0,663.0,651.0,578.0,588.0,645.0,650.0,588.0,972.0,596.0,862.0,587.0,623.0,817.0,661.0,686.0,630.0,439.0,768.0,603.0,595.0,571.0,519.0,887.0,731.0,473.0,606.0,572.0,512.0,671.0,693.0,548.0,762.0,490.0,481.0,809.0,842.0,531.0,630.0,495.0,465.0,531.0,645.0,541.0,730.0,443.0,872.0,564.0,420.0,566.0,540.0,588.0,499.0,640.0,648.0,528.0,599.0,679.0,551.0,487.0,857.0,515.0,466.0,621.0,836.0,638.0,529.0,509.0,729.0,486.0,650.0,843.0,561.0,924.0,393.0,539.0,583.0,544.0,566.0,588.0,540.0,667.0,1045.0,476.0,572.0,459.0,610.0,543.0,657.0,616.0,576.0,667.0,1104.0,783.0,755.0,587.0,640.0,694.0,594.0,532.0,666.0,650.0,695.0,639.0,602.0,549.0,479.0,439.0,682.0,544.0,620.0,636.0,852.0,648.0,820.0,665.0,694.0,696.0,679.0,527.0,520.0,492.0,920.0,677.0,797.0,486.0,426.0,382.0,675.0,555.0,485.0,985.0,681.0,770.0,647.0,443.0,415.0,408.0,556.0,567.0,553.0,686.0,394.0,397.0,410.0,415.0,390.0,714.0,719.0,679.0,457.0,374.0,583.0,675.0,422.0,416.0,653.0,438.0,648.0,493.0,576.0,474.0,600.0,601.0,434.0,627.0,383.0,760.0,715.0,432.0,613.0,623.0,625.0,567.0,535.0,491.0,484.0,549.0,711.0,539.0,609.0,728.0,554.0,559.0,500.0,566.0,487.0,876.0,633.0,546.0,538.0,917.0,499.0,610.0,652.0,975.0,894.0,605.0,964.0,557.0,859.0,822.0,524.0,875.0,874.0,578.0,1236.0,805.0,1124.0,672.0,644.0,642.0,662.0,669.0,866.0,880.0,627.0,724.0,932.0,722.0,643.0,657.0,925.0,964.0,880.0,813.0,988.0,823.0,740.0,662.0,923.0,842.0,647.0,493.0,344.0,707.0,646.0,661.0,665.0,972.0,802.0,743.0,563.0,679.0,686.0,692.0,721.0,833.0,865.0,783.0,630.0,637.0,612.0,562.0,824.0,918.0,904.0,594.0,555.0,454.0,545.0,716.0,582.0,418.0,724.0,559.0,716.0,645.0,491.0,604.0,768.0,428.0,722.0,713.0,474.0,726.0,681.0,696.0,576.0,534.0,843.0,854.0,661.0,749.0,831.0,642.0,455.0,701.0,708.0,846.0,755.0,489.0,955.0,559.0,629.0,807.0,595.0,515.0,568.0,702.0,638.0,493.0,625.0,706.0,807.0,662.0,651.0,510.0,686.0,662.0,672.0,595.0,673.0,719.0,697.0,652.0,842.0,597.0,459.0,478.0,630.0,437.0,463.0,546.0,431.0,506.0,477.0,548.0,592.0,580.0,615.0,634.0,407.0,548.0,547.0,612.0,617.0,783.0,729.0,802.0,702.0,699.0,952.0,623.0,549.0,529.0,476.0,534.0,423.0,487.0,511.0,615.0,649.0,456.0,382.0,370.0,676.0,664.0,478.0,459.0,500.0,583.0,602.0,493.0,537.0,473.0,637.0,598.0,647.0,411.0,412.0,434.0,418.0,490.0,801.0,1055.0,672.0,580.0,572.0,640.0,414.0,456.0,615.0,591.0,485.0,462.0,426.0,517.0,416.0,670.0,478.0,655.0,471.0,511.0,466.0,797.0,837.0,686.0,735.0,837.0,627.0,648.0,469.0,587.0,506.0,563.0,572.0,501.0,545.0,593.0,423.0,793.0,404.0,521.0,516.0,618.0,635.0,548.0,584.0,358.0,792.0,585.0,449.0,488.0,1002.0,605.0,551.0,728.0,393.0,541.0,633.0,729.0,622.0,650.0,602.0,490.0,762.0,592.0,840.0,783.0,802.0,976.0,833.0,859.0,1154.0,764.0,1097.0,894.0,600.0,807.0,845.0,1060.0,1045.0,692.0,835.0,790.0,605.0,541.0,648.0,641.0,693.0,741.0,699.0,891.0,641.0,860.0,679.0,549.0,875.0,848.0,693.0,534.0,1136.0,943.0,436.0,872.0,1047.0,847.0,485.0,666.0,945.0,801.0,628.0,749.0,956.0,487.0,756.0,761.0,473.0,684.0,767.0,741.0,546.0,640.0,697.0,525.0,633.0,634.0,1172.0,612.0,851.0,922.0,710.0,609.0,779.0,831.0,667.0,642.0,689.0,635.0,584.0,799.0,617.0,934.0,902.0,961.0,778.0,693.0,691.0,731.0,704.0,758.0,705.0,702.0,701.0,691.0,851.0,642.0,841.0,895.0,879.0,587.0,568.0,825.0,726.0,696.0,701.0,758.0,970.0,706.0,624.0,662.0,466.0,817.0,704.0,948.0,527.0,750.0,575.0,580.0,735.0,609.0,438.0,757.0,526.0,491.0,602.0,717.0,810.0,777.0,515.0,569.0,574.0,789.0,639.0,622.0,786.0,726.0,600.0,593.0,718.0,856.0,765.0,750.0,425.0,476.0,504.0,481.0,704.0,712.0,723.0,846.0,797.0,571.0,781.0,658.0,531.0,606.0,538.0,545.0,554.0,522.0,467.0,527.0,528.0,655.0,515.0,438.0,558.0,567.0,752.0,835.0,496.0,612.0,531.0,749.0,650.0,575.0,762.0,648.0,561.0,693.0,729.0,598.0,762.0,716.0,758.0,648.0,744.0,506.0,652.0,767.0,840.0,994.0,591.0,628.0,578.0,649.0,797.0,843.0,753.0,636.0,718.0,902.0,586.0,527.0,820.0,428.0,876.0,599.0,572.0,859.0,634.0,641.0,873.0,733.0,593.0,955.0,628.0,656.0,635.0,592.0,621.0,624.0,623.0,809.0,870.0,856.0,850.0,884.0,858.0,870.0,847.0,820.0,839.0,842.0,848.0,836.0,821.0,693.0,519.0,724.0,575.0,573.0,764.0,603.0,661.0,868.0,913.0,534.0,1086.0,910.0,619.0,602.0,704.0,736.0,686.0,912.0,689.0,541.0,603.0,612.0,402.0,809.0,594.0,518.0,887.0,824.0,956.0,812.0,827.0,675.0,739.0,620.0,813.0,518.0,381.0,366.0,576.0,728.0,521.0,581.0,515.0,582.0,719.0,557.0,319.0,411.0,637.0,561.0,705.0,563.0,535.0,578.0,662.0,529.0,585.0,576.0,487.0,554.0,498.0,463.0,562.0,521.0,570.0,581.0,573.0,475.0,509.0,561.0,629.0,451.0,454.0,405.0,431.0,520.0,674.0,654.0,465.0,348.0,741.0,595.0,664.0,426.0,496.0,628.0,756.0,615.0,759.0,988.0,757.0,555.0,618.0,629.0,460.0,625.0,457.0,507.0,591.0,525.0,613.0,674.0,577.0,625.0,992.0,633.0,425.0,918.0,619.0,763.0,552.0,744.0,582.0,562.0,616.0,570.0,811.0,589.0,564.0,684.0,762.0,570.0,623.0,860.0,578.0,836.0,724.0,888.0,679.0,502.0,583.0,791.0,570.0,810.0,576.0,685.0,714.0,798.0,604.0,666.0,696.0,628.0,851.0,792.0,688.0,546.0,633.0,578.0,454.0,563.0,827.0,632.0,480.0,531.0,508.0,631.0,568.0,609.0,611.0,567.0,647.0,551.0,616.0,731.0,613.0,632.0,623.0,753.0,624.0,554.0,399.0,666.0,883.0,602.0,552.0,909.0,392.0,668.0,802.0,554.0,618.0,459.0,643.0,842.0,953.0,458.0,580.0,518.0,550.0,584.0,878.0,545.0,675.0,432.0,770.0,596.0,601.0,741.0,617.0,563.0,674.0,441.0,788.0,838.0,403.0,734.0,665.0,717.0,513.0,511.0,660.0,556.0,507.0,691.0,548.0,884.0,609.0,493.0,458.0,619.0,712.0,831.0,761.0,638.0,553.0,642.0,627.0,653.0,661.0,622.0,658.0,642.0,670.0,680.0,688.0,507.0,501.0,483.0,505.0,480.0,526.0,484.0,576.0,484.0,509.0,508.0,513.0,502.0,642.0,572.0,486.0,658.0],\"xaxis\":\"x\",\"yaxis\":\"y\",\"type\":\"histogram\"}],                        {\"template\":{\"data\":{\"bar\":[{\"error_x\":{\"color\":\"#2a3f5f\"},\"error_y\":{\"color\":\"#2a3f5f\"},\"marker\":{\"line\":{\"color\":\"#E5ECF6\",\"width\":0.5},\"pattern\":{\"fillmode\":\"overlay\",\"size\":10,\"solidity\":0.2}},\"type\":\"bar\"}],\"barpolar\":[{\"marker\":{\"line\":{\"color\":\"#E5ECF6\",\"width\":0.5},\"pattern\":{\"fillmode\":\"overlay\",\"size\":10,\"solidity\":0.2}},\"type\":\"barpolar\"}],\"carpet\":[{\"aaxis\":{\"endlinecolor\":\"#2a3f5f\",\"gridcolor\":\"white\",\"linecolor\":\"white\",\"minorgridcolor\":\"white\",\"startlinecolor\":\"#2a3f5f\"},\"baxis\":{\"endlinecolor\":\"#2a3f5f\",\"gridcolor\":\"white\",\"linecolor\":\"white\",\"minorgridcolor\":\"white\",\"startlinecolor\":\"#2a3f5f\"},\"type\":\"carpet\"}],\"choropleth\":[{\"colorbar\":{\"outlinewidth\":0,\"ticks\":\"\"},\"type\":\"choropleth\"}],\"contour\":[{\"colorbar\":{\"outlinewidth\":0,\"ticks\":\"\"},\"colorscale\":[[0.0,\"#0d0887\"],[0.1111111111111111,\"#46039f\"],[0.2222222222222222,\"#7201a8\"],[0.3333333333333333,\"#9c179e\"],[0.4444444444444444,\"#bd3786\"],[0.5555555555555556,\"#d8576b\"],[0.6666666666666666,\"#ed7953\"],[0.7777777777777778,\"#fb9f3a\"],[0.8888888888888888,\"#fdca26\"],[1.0,\"#f0f921\"]],\"type\":\"contour\"}],\"contourcarpet\":[{\"colorbar\":{\"outlinewidth\":0,\"ticks\":\"\"},\"type\":\"contourcarpet\"}],\"heatmap\":[{\"colorbar\":{\"outlinewidth\":0,\"ticks\":\"\"},\"colorscale\":[[0.0,\"#0d0887\"],[0.1111111111111111,\"#46039f\"],[0.2222222222222222,\"#7201a8\"],[0.3333333333333333,\"#9c179e\"],[0.4444444444444444,\"#bd3786\"],[0.5555555555555556,\"#d8576b\"],[0.6666666666666666,\"#ed7953\"],[0.7777777777777778,\"#fb9f3a\"],[0.8888888888888888,\"#fdca26\"],[1.0,\"#f0f921\"]],\"type\":\"heatmap\"}],\"heatmapgl\":[{\"colorbar\":{\"outlinewidth\":0,\"ticks\":\"\"},\"colorscale\":[[0.0,\"#0d0887\"],[0.1111111111111111,\"#46039f\"],[0.2222222222222222,\"#7201a8\"],[0.3333333333333333,\"#9c179e\"],[0.4444444444444444,\"#bd3786\"],[0.5555555555555556,\"#d8576b\"],[0.6666666666666666,\"#ed7953\"],[0.7777777777777778,\"#fb9f3a\"],[0.8888888888888888,\"#fdca26\"],[1.0,\"#f0f921\"]],\"type\":\"heatmapgl\"}],\"histogram\":[{\"marker\":{\"pattern\":{\"fillmode\":\"overlay\",\"size\":10,\"solidity\":0.2}},\"type\":\"histogram\"}],\"histogram2d\":[{\"colorbar\":{\"outlinewidth\":0,\"ticks\":\"\"},\"colorscale\":[[0.0,\"#0d0887\"],[0.1111111111111111,\"#46039f\"],[0.2222222222222222,\"#7201a8\"],[0.3333333333333333,\"#9c179e\"],[0.4444444444444444,\"#bd3786\"],[0.5555555555555556,\"#d8576b\"],[0.6666666666666666,\"#ed7953\"],[0.7777777777777778,\"#fb9f3a\"],[0.8888888888888888,\"#fdca26\"],[1.0,\"#f0f921\"]],\"type\":\"histogram2d\"}],\"histogram2dcontour\":[{\"colorbar\":{\"outlinewidth\":0,\"ticks\":\"\"},\"colorscale\":[[0.0,\"#0d0887\"],[0.1111111111111111,\"#46039f\"],[0.2222222222222222,\"#7201a8\"],[0.3333333333333333,\"#9c179e\"],[0.4444444444444444,\"#bd3786\"],[0.5555555555555556,\"#d8576b\"],[0.6666666666666666,\"#ed7953\"],[0.7777777777777778,\"#fb9f3a\"],[0.8888888888888888,\"#fdca26\"],[1.0,\"#f0f921\"]],\"type\":\"histogram2dcontour\"}],\"mesh3d\":[{\"colorbar\":{\"outlinewidth\":0,\"ticks\":\"\"},\"type\":\"mesh3d\"}],\"parcoords\":[{\"line\":{\"colorbar\":{\"outlinewidth\":0,\"ticks\":\"\"}},\"type\":\"parcoords\"}],\"pie\":[{\"automargin\":true,\"type\":\"pie\"}],\"scatter\":[{\"marker\":{\"colorbar\":{\"outlinewidth\":0,\"ticks\":\"\"}},\"type\":\"scatter\"}],\"scatter3d\":[{\"line\":{\"colorbar\":{\"outlinewidth\":0,\"ticks\":\"\"}},\"marker\":{\"colorbar\":{\"outlinewidth\":0,\"ticks\":\"\"}},\"type\":\"scatter3d\"}],\"scattercarpet\":[{\"marker\":{\"colorbar\":{\"outlinewidth\":0,\"ticks\":\"\"}},\"type\":\"scattercarpet\"}],\"scattergeo\":[{\"marker\":{\"colorbar\":{\"outlinewidth\":0,\"ticks\":\"\"}},\"type\":\"scattergeo\"}],\"scattergl\":[{\"marker\":{\"colorbar\":{\"outlinewidth\":0,\"ticks\":\"\"}},\"type\":\"scattergl\"}],\"scattermapbox\":[{\"marker\":{\"colorbar\":{\"outlinewidth\":0,\"ticks\":\"\"}},\"type\":\"scattermapbox\"}],\"scatterpolar\":[{\"marker\":{\"colorbar\":{\"outlinewidth\":0,\"ticks\":\"\"}},\"type\":\"scatterpolar\"}],\"scatterpolargl\":[{\"marker\":{\"colorbar\":{\"outlinewidth\":0,\"ticks\":\"\"}},\"type\":\"scatterpolargl\"}],\"scatterternary\":[{\"marker\":{\"colorbar\":{\"outlinewidth\":0,\"ticks\":\"\"}},\"type\":\"scatterternary\"}],\"surface\":[{\"colorbar\":{\"outlinewidth\":0,\"ticks\":\"\"},\"colorscale\":[[0.0,\"#0d0887\"],[0.1111111111111111,\"#46039f\"],[0.2222222222222222,\"#7201a8\"],[0.3333333333333333,\"#9c179e\"],[0.4444444444444444,\"#bd3786\"],[0.5555555555555556,\"#d8576b\"],[0.6666666666666666,\"#ed7953\"],[0.7777777777777778,\"#fb9f3a\"],[0.8888888888888888,\"#fdca26\"],[1.0,\"#f0f921\"]],\"type\":\"surface\"}],\"table\":[{\"cells\":{\"fill\":{\"color\":\"#EBF0F8\"},\"line\":{\"color\":\"white\"}},\"header\":{\"fill\":{\"color\":\"#C8D4E3\"},\"line\":{\"color\":\"white\"}},\"type\":\"table\"}]},\"layout\":{\"annotationdefaults\":{\"arrowcolor\":\"#2a3f5f\",\"arrowhead\":0,\"arrowwidth\":1},\"autotypenumbers\":\"strict\",\"coloraxis\":{\"colorbar\":{\"outlinewidth\":0,\"ticks\":\"\"}},\"colorscale\":{\"diverging\":[[0,\"#8e0152\"],[0.1,\"#c51b7d\"],[0.2,\"#de77ae\"],[0.3,\"#f1b6da\"],[0.4,\"#fde0ef\"],[0.5,\"#f7f7f7\"],[0.6,\"#e6f5d0\"],[0.7,\"#b8e186\"],[0.8,\"#7fbc41\"],[0.9,\"#4d9221\"],[1,\"#276419\"]],\"sequential\":[[0.0,\"#0d0887\"],[0.1111111111111111,\"#46039f\"],[0.2222222222222222,\"#7201a8\"],[0.3333333333333333,\"#9c179e\"],[0.4444444444444444,\"#bd3786\"],[0.5555555555555556,\"#d8576b\"],[0.6666666666666666,\"#ed7953\"],[0.7777777777777778,\"#fb9f3a\"],[0.8888888888888888,\"#fdca26\"],[1.0,\"#f0f921\"]],\"sequentialminus\":[[0.0,\"#0d0887\"],[0.1111111111111111,\"#46039f\"],[0.2222222222222222,\"#7201a8\"],[0.3333333333333333,\"#9c179e\"],[0.4444444444444444,\"#bd3786\"],[0.5555555555555556,\"#d8576b\"],[0.6666666666666666,\"#ed7953\"],[0.7777777777777778,\"#fb9f3a\"],[0.8888888888888888,\"#fdca26\"],[1.0,\"#f0f921\"]]},\"colorway\":[\"#636efa\",\"#EF553B\",\"#00cc96\",\"#ab63fa\",\"#FFA15A\",\"#19d3f3\",\"#FF6692\",\"#B6E880\",\"#FF97FF\",\"#FECB52\"],\"font\":{\"color\":\"#2a3f5f\"},\"geo\":{\"bgcolor\":\"white\",\"lakecolor\":\"white\",\"landcolor\":\"#E5ECF6\",\"showlakes\":true,\"showland\":true,\"subunitcolor\":\"white\"},\"hoverlabel\":{\"align\":\"left\"},\"hovermode\":\"closest\",\"mapbox\":{\"style\":\"light\"},\"paper_bgcolor\":\"white\",\"plot_bgcolor\":\"#E5ECF6\",\"polar\":{\"angularaxis\":{\"gridcolor\":\"white\",\"linecolor\":\"white\",\"ticks\":\"\"},\"bgcolor\":\"#E5ECF6\",\"radialaxis\":{\"gridcolor\":\"white\",\"linecolor\":\"white\",\"ticks\":\"\"}},\"scene\":{\"xaxis\":{\"backgroundcolor\":\"#E5ECF6\",\"gridcolor\":\"white\",\"gridwidth\":2,\"linecolor\":\"white\",\"showbackground\":true,\"ticks\":\"\",\"zerolinecolor\":\"white\"},\"yaxis\":{\"backgroundcolor\":\"#E5ECF6\",\"gridcolor\":\"white\",\"gridwidth\":2,\"linecolor\":\"white\",\"showbackground\":true,\"ticks\":\"\",\"zerolinecolor\":\"white\"},\"zaxis\":{\"backgroundcolor\":\"#E5ECF6\",\"gridcolor\":\"white\",\"gridwidth\":2,\"linecolor\":\"white\",\"showbackground\":true,\"ticks\":\"\",\"zerolinecolor\":\"white\"}},\"shapedefaults\":{\"line\":{\"color\":\"#2a3f5f\"}},\"ternary\":{\"aaxis\":{\"gridcolor\":\"white\",\"linecolor\":\"white\",\"ticks\":\"\"},\"baxis\":{\"gridcolor\":\"white\",\"linecolor\":\"white\",\"ticks\":\"\"},\"bgcolor\":\"#E5ECF6\",\"caxis\":{\"gridcolor\":\"white\",\"linecolor\":\"white\",\"ticks\":\"\"}},\"title\":{\"x\":0.05},\"xaxis\":{\"automargin\":true,\"gridcolor\":\"white\",\"linecolor\":\"white\",\"ticks\":\"\",\"title\":{\"standoff\":15},\"zerolinecolor\":\"white\",\"zerolinewidth\":2},\"yaxis\":{\"automargin\":true,\"gridcolor\":\"white\",\"linecolor\":\"white\",\"ticks\":\"\",\"title\":{\"standoff\":15},\"zerolinecolor\":\"white\",\"zerolinewidth\":2}}},\"xaxis\":{\"anchor\":\"y\",\"domain\":[0.0,1.0],\"title\":{\"text\":\"Full Professor Comp\"}},\"yaxis\":{\"anchor\":\"x\",\"domain\":[0.0,1.0],\"title\":{\"text\":\"count\"}},\"legend\":{\"tracegroupgap\":0},\"title\":{\"text\":\"Count of Full Professor Compensations\"},\"barmode\":\"relative\"},                        {\"responsive\": true}                    ).then(function(){\n",
       "                            \n",
       "var gd = document.getElementById('0373f734-09be-4b9d-b34f-aeff6a2c84bf');\n",
       "var x = new MutationObserver(function (mutations, observer) {{\n",
       "        var display = window.getComputedStyle(gd).display;\n",
       "        if (!display || display === 'none') {{\n",
       "            console.log([gd, 'removed!']);\n",
       "            Plotly.purge(gd);\n",
       "            observer.disconnect();\n",
       "        }}\n",
       "}});\n",
       "\n",
       "// Listen for the removal of the full notebook cells\n",
       "var notebookContainer = gd.closest('#notebook-container');\n",
       "if (notebookContainer) {{\n",
       "    x.observe(notebookContainer, {childList: true});\n",
       "}}\n",
       "\n",
       "// Listen for the clearing of the current output cell\n",
       "var outputEl = gd.closest('.output');\n",
       "if (outputEl) {{\n",
       "    x.observe(outputEl, {childList: true});\n",
       "}}\n",
       "\n",
       "                        })                };                });            </script>        </div>"
      ]
     },
     "metadata": {},
     "output_type": "display_data"
    },
    {
     "data": {
      "application/vnd.plotly.v1+json": {
       "config": {
        "plotlyServerURL": "https://plot.ly"
       },
       "data": [
        {
         "alignmentgroup": "True",
         "bingroup": "x",
         "hovertemplate": "Associate Professor Comp=%{x}<br>count=%{y}<extra></extra>",
         "legendgroup": "",
         "marker": {
          "color": "#636efa",
          "pattern": {
           "shape": ""
          }
         },
         "name": "",
         "nbinsx": 100,
         "offsetgroup": "",
         "orientation": "v",
         "showlegend": false,
         "texttemplate": "%{value}",
         "type": "histogram",
         "x": [
          485,
          753,
          663,
          681,
          444,
          473,
          476,
          527,
          501,
          508,
          371,
          496,
          369,
          401,
          363,
          556,
          425,
          354,
          467,
          415,
          563,
          569,
          540,
          514,
          507,
          448,
          457,
          479,
          541,
          507,
          383,
          480,
          534,
          414,
          506,
          445,
          484,
          531,
          461,
          395,
          549,
          518,
          561,
          494,
          462,
          909,
          501,
          637,
          629,
          610,
          606,
          635,
          630,
          631,
          612,
          603,
          615,
          623,
          592,
          627,
          661,
          739,
          572,
          658,
          588,
          503,
          443,
          478,
          571,
          593,
          398,
          523,
          737,
          616,
          814,
          631,
          588,
          599,
          611,
          567,
          598,
          552,
          581,
          570,
          592,
          644,
          704,
          751,
          528,
          524,
          601,
          619,
          619,
          678,
          724,
          444,
          621,
          463,
          534,
          452,
          427,
          485,
          531,
          498,
          615,
          588,
          460,
          524,
          561,
          700,
          613,
          711,
          733,
          576,
          686,
          566,
          673,
          544,
          650,
          551,
          566,
          641,
          689,
          643,
          641,
          533,
          638,
          653,
          710,
          591,
          435,
          586,
          583,
          693,
          449,
          508,
          570,
          452,
          543,
          559,
          547,
          473,
          525,
          519,
          561,
          567,
          654,
          547,
          513,
          527,
          505,
          451,
          553,
          544,
          528,
          519,
          457,
          520,
          519,
          491,
          686,
          490,
          665,
          496,
          509,
          594,
          542,
          538,
          550,
          368,
          553,
          496,
          502,
          496,
          492,
          677,
          591,
          412,
          522,
          507,
          445,
          541,
          534,
          470,
          578,
          401,
          405,
          641,
          635,
          438,
          548,
          414,
          427,
          477,
          473,
          471,
          591,
          392,
          643,
          469,
          386,
          498,
          430,
          487,
          425,
          514,
          523,
          461,
          473,
          562,
          524,
          435,
          681,
          438,
          424,
          503,
          606,
          514,
          439,
          425,
          593,
          445,
          518,
          650,
          481,
          664,
          334,
          493,
          501,
          412,
          472,
          501,
          426,
          509,
          735,
          412,
          540,
          462,
          517,
          479,
          517,
          520,
          493,
          548,
          724,
          574,
          555,
          500,
          569,
          660,
          516,
          427,
          537,
          551,
          570,
          483,
          505,
          453,
          410,
          372,
          539,
          455,
          515,
          545,
          615,
          534,
          604,
          548,
          575,
          571,
          526,
          416,
          411,
          431,
          631,
          541,
          679,
          478,
          350,
          295,
          509,
          486,
          395,
          701,
          525,
          602,
          513,
          396,
          360,
          356,
          475,
          484,
          499,
          530,
          343,
          353,
          348,
          388,
          358,
          529,
          540,
          518,
          378,
          368,
          480,
          518,
          350,
          370,
          514,
          362,
          551,
          418,
          505,
          404,
          498,
          520,
          377,
          526,
          353,
          574,
          547,
          394,
          517,
          529,
          468,
          437,
          439,
          437,
          427,
          494,
          527,
          498,
          453,
          560,
          458,
          458,
          432,
          486,
          397,
          646,
          493,
          456,
          464,
          661,
          470,
          518,
          518,
          769,
          708,
          491,
          717,
          450,
          619,
          593,
          429,
          627,
          652,
          467,
          723,
          662,
          806,
          583,
          540,
          507,
          530,
          585,
          645,
          689,
          542,
          592,
          646,
          611,
          501,
          541,
          706,
          710,
          680,
          679,
          712,
          632,
          539,
          518,
          669,
          680,
          554,
          441,
          329,
          559,
          538,
          489,
          530,
          677,
          640,
          651,
          487,
          562,
          533,
          565,
          556,
          693,
          608,
          571,
          572,
          532,
          489,
          453,
          600,
          651,
          622,
          448,
          442,
          401,
          468,
          552,
          459,
          313,
          558,
          466,
          573,
          515,
          376,
          527,
          612,
          377,
          590,
          631,
          376,
          619,
          559,
          569,
          465,
          450,
          663,
          638,
          596,
          609,
          690,
          586,
          398,
          583,
          582,
          664,
          620,
          413,
          731,
          449,
          520,
          604,
          512,
          448,
          466,
          538,
          503,
          443,
          507,
          575,
          622,
          567,
          544,
          454,
          551,
          546,
          523,
          483,
          509,
          591,
          534,
          537,
          613,
          464,
          404,
          403,
          538,
          375,
          406,
          483,
          370,
          413,
          422,
          434,
          496,
          483,
          502,
          490,
          388,
          460,
          483,
          527,
          510,
          575,
          560,
          626,
          545,
          561,
          652,
          542,
          481,
          458,
          374,
          473,
          355,
          413,
          471,
          478,
          521,
          423,
          313,
          327,
          524,
          520,
          413,
          367,
          440,
          484,
          487,
          425,
          442,
          407,
          547,
          505,
          532,
          372,
          360,
          392,
          437,
          394,
          591,
          728,
          525,
          510,
          482,
          536,
          357,
          400,
          505,
          496,
          427,
          410,
          378,
          442,
          371,
          547,
          385,
          495,
          381,
          437,
          451,
          578,
          620,
          546,
          540,
          641,
          537,
          511,
          385,
          516,
          432,
          477,
          489,
          462,
          458,
          500,
          390,
          562,
          368,
          465,
          434,
          533,
          540,
          468,
          493,
          359,
          584,
          501,
          404,
          468,
          686,
          487,
          437,
          558,
          383,
          419,
          508,
          575,
          532,
          518,
          547,
          437,
          580,
          509,
          697,
          668,
          661,
          790,
          691,
          687,
          686,
          668,
          812,
          683,
          498,
          634,
          691,
          805,
          780,
          579,
          701,
          607,
          466,
          454,
          512,
          531,
          521,
          558,
          564,
          822,
          538,
          605,
          599,
          445,
          658,
          637,
          579,
          503,
          767,
          652,
          366,
          673,
          748,
          691,
          456,
          449,
          729,
          608,
          517,
          579,
          692,
          424,
          594,
          605,
          412,
          576,
          627,
          643,
          442,
          493,
          551,
          446,
          505,
          533,
          785,
          524,
          643,
          703,
          603,
          506,
          610,
          639,
          567,
          535,
          607,
          512,
          478,
          613,
          526,
          679,
          665,
          688,
          651,
          560,
          537,
          569,
          536,
          594,
          557,
          556,
          566,
          539,
          645,
          520,
          677,
          626,
          669,
          477,
          454,
          672,
          642,
          565,
          591,
          616,
          704,
          562,
          530,
          552,
          389,
          644,
          540,
          663,
          459,
          575,
          482,
          440,
          518,
          508,
          388,
          528,
          470,
          407,
          469,
          586,
          602,
          552,
          441,
          464,
          461,
          605,
          546,
          526,
          618,
          584,
          467,
          470,
          567,
          622,
          616,
          572,
          314,
          410,
          427,
          430,
          543,
          586,
          562,
          603,
          614,
          457,
          580,
          563,
          452,
          536,
          488,
          454,
          462,
          479,
          420,
          454,
          459,
          509,
          444,
          381,
          493,
          528,
          563,
          608,
          414,
          482,
          468,
          570,
          522,
          470,
          615,
          574,
          469,
          564,
          545,
          491,
          579,
          542,
          524,
          514,
          537,
          370,
          532,
          605,
          637,
          691,
          495,
          503,
          508,
          511,
          601,
          619,
          597,
          413,
          581,
          653,
          489,
          475,
          630,
          383,
          702,
          504,
          521,
          708,
          497,
          548,
          668,
          616,
          512,
          700,
          492,
          575,
          524,
          497,
          514,
          516,
          490,
          568,
          714,
          710,
          700,
          732,
          696,
          714,
          707,
          675,
          690,
          723,
          706,
          670,
          680,
          571,
          430,
          576,
          479,
          481,
          628,
          540,
          519,
          651,
          724,
          443,
          831,
          653,
          517,
          507,
          538,
          632,
          547,
          698,
          608,
          453,
          498,
          534,
          366,
          664,
          532,
          438,
          642,
          694,
          659,
          746,
          712,
          581,
          576,
          496,
          622,
          430,
          311,
          311,
          502,
          544,
          425,
          505,
          441,
          495,
          530,
          472,
          328,
          344,
          478,
          467,
          532,
          481,
          464,
          474,
          519,
          452,
          488,
          519,
          409,
          427,
          402,
          388,
          495,
          440,
          438,
          445,
          445,
          405,
          435,
          473,
          548,
          437,
          401,
          380,
          407,
          419,
          522,
          511,
          404,
          331,
          566,
          524,
          527,
          396,
          454,
          525,
          570,
          509,
          571,
          651,
          576,
          491,
          549,
          500,
          409,
          487,
          380,
          456,
          475,
          431,
          528,
          550,
          469,
          536,
          682,
          523,
          363,
          636,
          521,
          581,
          454,
          560,
          478,
          474,
          542,
          516,
          599,
          502,
          456,
          573,
          550,
          656,
          507,
          610,
          550,
          585,
          557,
          599,
          552,
          338,
          457,
          610,
          554,
          634,
          501,
          562,
          475,
          587,
          513,
          548,
          605,
          507,
          668,
          574,
          546,
          473,
          522,
          459,
          395,
          483,
          621,
          553,
          411,
          439,
          417,
          481,
          440,
          512,
          529,
          484,
          560,
          457,
          493,
          564,
          488,
          484,
          512,
          611,
          523,
          464,
          368,
          524,
          686,
          507,
          442,
          650,
          373,
          573,
          582,
          510,
          545,
          404,
          534,
          605,
          653,
          389,
          484,
          448,
          478,
          501,
          599,
          468,
          548,
          407,
          586,
          447,
          514,
          527,
          513,
          485,
          572,
          418,
          599,
          606,
          382,
          559,
          553,
          571,
          426,
          411,
          512,
          485,
          509,
          521,
          464,
          662,
          522,
          393,
          354,
          479,
          585,
          628,
          598,
          541,
          441,
          513,
          533,
          549,
          542,
          519,
          548,
          533,
          562,
          553,
          562,
          402,
          485,
          388,
          438,
          388,
          446,
          405,
          478,
          440,
          429,
          421,
          404,
          419,
          521,
          494,
          416,
          507
         ],
         "xaxis": "x",
         "yaxis": "y"
        }
       ],
       "layout": {
        "barmode": "relative",
        "legend": {
         "tracegroupgap": 0
        },
        "template": {
         "data": {
          "bar": [
           {
            "error_x": {
             "color": "#2a3f5f"
            },
            "error_y": {
             "color": "#2a3f5f"
            },
            "marker": {
             "line": {
              "color": "#E5ECF6",
              "width": 0.5
             },
             "pattern": {
              "fillmode": "overlay",
              "size": 10,
              "solidity": 0.2
             }
            },
            "type": "bar"
           }
          ],
          "barpolar": [
           {
            "marker": {
             "line": {
              "color": "#E5ECF6",
              "width": 0.5
             },
             "pattern": {
              "fillmode": "overlay",
              "size": 10,
              "solidity": 0.2
             }
            },
            "type": "barpolar"
           }
          ],
          "carpet": [
           {
            "aaxis": {
             "endlinecolor": "#2a3f5f",
             "gridcolor": "white",
             "linecolor": "white",
             "minorgridcolor": "white",
             "startlinecolor": "#2a3f5f"
            },
            "baxis": {
             "endlinecolor": "#2a3f5f",
             "gridcolor": "white",
             "linecolor": "white",
             "minorgridcolor": "white",
             "startlinecolor": "#2a3f5f"
            },
            "type": "carpet"
           }
          ],
          "choropleth": [
           {
            "colorbar": {
             "outlinewidth": 0,
             "ticks": ""
            },
            "type": "choropleth"
           }
          ],
          "contour": [
           {
            "colorbar": {
             "outlinewidth": 0,
             "ticks": ""
            },
            "colorscale": [
             [
              0,
              "#0d0887"
             ],
             [
              0.1111111111111111,
              "#46039f"
             ],
             [
              0.2222222222222222,
              "#7201a8"
             ],
             [
              0.3333333333333333,
              "#9c179e"
             ],
             [
              0.4444444444444444,
              "#bd3786"
             ],
             [
              0.5555555555555556,
              "#d8576b"
             ],
             [
              0.6666666666666666,
              "#ed7953"
             ],
             [
              0.7777777777777778,
              "#fb9f3a"
             ],
             [
              0.8888888888888888,
              "#fdca26"
             ],
             [
              1,
              "#f0f921"
             ]
            ],
            "type": "contour"
           }
          ],
          "contourcarpet": [
           {
            "colorbar": {
             "outlinewidth": 0,
             "ticks": ""
            },
            "type": "contourcarpet"
           }
          ],
          "heatmap": [
           {
            "colorbar": {
             "outlinewidth": 0,
             "ticks": ""
            },
            "colorscale": [
             [
              0,
              "#0d0887"
             ],
             [
              0.1111111111111111,
              "#46039f"
             ],
             [
              0.2222222222222222,
              "#7201a8"
             ],
             [
              0.3333333333333333,
              "#9c179e"
             ],
             [
              0.4444444444444444,
              "#bd3786"
             ],
             [
              0.5555555555555556,
              "#d8576b"
             ],
             [
              0.6666666666666666,
              "#ed7953"
             ],
             [
              0.7777777777777778,
              "#fb9f3a"
             ],
             [
              0.8888888888888888,
              "#fdca26"
             ],
             [
              1,
              "#f0f921"
             ]
            ],
            "type": "heatmap"
           }
          ],
          "heatmapgl": [
           {
            "colorbar": {
             "outlinewidth": 0,
             "ticks": ""
            },
            "colorscale": [
             [
              0,
              "#0d0887"
             ],
             [
              0.1111111111111111,
              "#46039f"
             ],
             [
              0.2222222222222222,
              "#7201a8"
             ],
             [
              0.3333333333333333,
              "#9c179e"
             ],
             [
              0.4444444444444444,
              "#bd3786"
             ],
             [
              0.5555555555555556,
              "#d8576b"
             ],
             [
              0.6666666666666666,
              "#ed7953"
             ],
             [
              0.7777777777777778,
              "#fb9f3a"
             ],
             [
              0.8888888888888888,
              "#fdca26"
             ],
             [
              1,
              "#f0f921"
             ]
            ],
            "type": "heatmapgl"
           }
          ],
          "histogram": [
           {
            "marker": {
             "pattern": {
              "fillmode": "overlay",
              "size": 10,
              "solidity": 0.2
             }
            },
            "type": "histogram"
           }
          ],
          "histogram2d": [
           {
            "colorbar": {
             "outlinewidth": 0,
             "ticks": ""
            },
            "colorscale": [
             [
              0,
              "#0d0887"
             ],
             [
              0.1111111111111111,
              "#46039f"
             ],
             [
              0.2222222222222222,
              "#7201a8"
             ],
             [
              0.3333333333333333,
              "#9c179e"
             ],
             [
              0.4444444444444444,
              "#bd3786"
             ],
             [
              0.5555555555555556,
              "#d8576b"
             ],
             [
              0.6666666666666666,
              "#ed7953"
             ],
             [
              0.7777777777777778,
              "#fb9f3a"
             ],
             [
              0.8888888888888888,
              "#fdca26"
             ],
             [
              1,
              "#f0f921"
             ]
            ],
            "type": "histogram2d"
           }
          ],
          "histogram2dcontour": [
           {
            "colorbar": {
             "outlinewidth": 0,
             "ticks": ""
            },
            "colorscale": [
             [
              0,
              "#0d0887"
             ],
             [
              0.1111111111111111,
              "#46039f"
             ],
             [
              0.2222222222222222,
              "#7201a8"
             ],
             [
              0.3333333333333333,
              "#9c179e"
             ],
             [
              0.4444444444444444,
              "#bd3786"
             ],
             [
              0.5555555555555556,
              "#d8576b"
             ],
             [
              0.6666666666666666,
              "#ed7953"
             ],
             [
              0.7777777777777778,
              "#fb9f3a"
             ],
             [
              0.8888888888888888,
              "#fdca26"
             ],
             [
              1,
              "#f0f921"
             ]
            ],
            "type": "histogram2dcontour"
           }
          ],
          "mesh3d": [
           {
            "colorbar": {
             "outlinewidth": 0,
             "ticks": ""
            },
            "type": "mesh3d"
           }
          ],
          "parcoords": [
           {
            "line": {
             "colorbar": {
              "outlinewidth": 0,
              "ticks": ""
             }
            },
            "type": "parcoords"
           }
          ],
          "pie": [
           {
            "automargin": true,
            "type": "pie"
           }
          ],
          "scatter": [
           {
            "marker": {
             "colorbar": {
              "outlinewidth": 0,
              "ticks": ""
             }
            },
            "type": "scatter"
           }
          ],
          "scatter3d": [
           {
            "line": {
             "colorbar": {
              "outlinewidth": 0,
              "ticks": ""
             }
            },
            "marker": {
             "colorbar": {
              "outlinewidth": 0,
              "ticks": ""
             }
            },
            "type": "scatter3d"
           }
          ],
          "scattercarpet": [
           {
            "marker": {
             "colorbar": {
              "outlinewidth": 0,
              "ticks": ""
             }
            },
            "type": "scattercarpet"
           }
          ],
          "scattergeo": [
           {
            "marker": {
             "colorbar": {
              "outlinewidth": 0,
              "ticks": ""
             }
            },
            "type": "scattergeo"
           }
          ],
          "scattergl": [
           {
            "marker": {
             "colorbar": {
              "outlinewidth": 0,
              "ticks": ""
             }
            },
            "type": "scattergl"
           }
          ],
          "scattermapbox": [
           {
            "marker": {
             "colorbar": {
              "outlinewidth": 0,
              "ticks": ""
             }
            },
            "type": "scattermapbox"
           }
          ],
          "scatterpolar": [
           {
            "marker": {
             "colorbar": {
              "outlinewidth": 0,
              "ticks": ""
             }
            },
            "type": "scatterpolar"
           }
          ],
          "scatterpolargl": [
           {
            "marker": {
             "colorbar": {
              "outlinewidth": 0,
              "ticks": ""
             }
            },
            "type": "scatterpolargl"
           }
          ],
          "scatterternary": [
           {
            "marker": {
             "colorbar": {
              "outlinewidth": 0,
              "ticks": ""
             }
            },
            "type": "scatterternary"
           }
          ],
          "surface": [
           {
            "colorbar": {
             "outlinewidth": 0,
             "ticks": ""
            },
            "colorscale": [
             [
              0,
              "#0d0887"
             ],
             [
              0.1111111111111111,
              "#46039f"
             ],
             [
              0.2222222222222222,
              "#7201a8"
             ],
             [
              0.3333333333333333,
              "#9c179e"
             ],
             [
              0.4444444444444444,
              "#bd3786"
             ],
             [
              0.5555555555555556,
              "#d8576b"
             ],
             [
              0.6666666666666666,
              "#ed7953"
             ],
             [
              0.7777777777777778,
              "#fb9f3a"
             ],
             [
              0.8888888888888888,
              "#fdca26"
             ],
             [
              1,
              "#f0f921"
             ]
            ],
            "type": "surface"
           }
          ],
          "table": [
           {
            "cells": {
             "fill": {
              "color": "#EBF0F8"
             },
             "line": {
              "color": "white"
             }
            },
            "header": {
             "fill": {
              "color": "#C8D4E3"
             },
             "line": {
              "color": "white"
             }
            },
            "type": "table"
           }
          ]
         },
         "layout": {
          "annotationdefaults": {
           "arrowcolor": "#2a3f5f",
           "arrowhead": 0,
           "arrowwidth": 1
          },
          "autotypenumbers": "strict",
          "coloraxis": {
           "colorbar": {
            "outlinewidth": 0,
            "ticks": ""
           }
          },
          "colorscale": {
           "diverging": [
            [
             0,
             "#8e0152"
            ],
            [
             0.1,
             "#c51b7d"
            ],
            [
             0.2,
             "#de77ae"
            ],
            [
             0.3,
             "#f1b6da"
            ],
            [
             0.4,
             "#fde0ef"
            ],
            [
             0.5,
             "#f7f7f7"
            ],
            [
             0.6,
             "#e6f5d0"
            ],
            [
             0.7,
             "#b8e186"
            ],
            [
             0.8,
             "#7fbc41"
            ],
            [
             0.9,
             "#4d9221"
            ],
            [
             1,
             "#276419"
            ]
           ],
           "sequential": [
            [
             0,
             "#0d0887"
            ],
            [
             0.1111111111111111,
             "#46039f"
            ],
            [
             0.2222222222222222,
             "#7201a8"
            ],
            [
             0.3333333333333333,
             "#9c179e"
            ],
            [
             0.4444444444444444,
             "#bd3786"
            ],
            [
             0.5555555555555556,
             "#d8576b"
            ],
            [
             0.6666666666666666,
             "#ed7953"
            ],
            [
             0.7777777777777778,
             "#fb9f3a"
            ],
            [
             0.8888888888888888,
             "#fdca26"
            ],
            [
             1,
             "#f0f921"
            ]
           ],
           "sequentialminus": [
            [
             0,
             "#0d0887"
            ],
            [
             0.1111111111111111,
             "#46039f"
            ],
            [
             0.2222222222222222,
             "#7201a8"
            ],
            [
             0.3333333333333333,
             "#9c179e"
            ],
            [
             0.4444444444444444,
             "#bd3786"
            ],
            [
             0.5555555555555556,
             "#d8576b"
            ],
            [
             0.6666666666666666,
             "#ed7953"
            ],
            [
             0.7777777777777778,
             "#fb9f3a"
            ],
            [
             0.8888888888888888,
             "#fdca26"
            ],
            [
             1,
             "#f0f921"
            ]
           ]
          },
          "colorway": [
           "#636efa",
           "#EF553B",
           "#00cc96",
           "#ab63fa",
           "#FFA15A",
           "#19d3f3",
           "#FF6692",
           "#B6E880",
           "#FF97FF",
           "#FECB52"
          ],
          "font": {
           "color": "#2a3f5f"
          },
          "geo": {
           "bgcolor": "white",
           "lakecolor": "white",
           "landcolor": "#E5ECF6",
           "showlakes": true,
           "showland": true,
           "subunitcolor": "white"
          },
          "hoverlabel": {
           "align": "left"
          },
          "hovermode": "closest",
          "mapbox": {
           "style": "light"
          },
          "paper_bgcolor": "white",
          "plot_bgcolor": "#E5ECF6",
          "polar": {
           "angularaxis": {
            "gridcolor": "white",
            "linecolor": "white",
            "ticks": ""
           },
           "bgcolor": "#E5ECF6",
           "radialaxis": {
            "gridcolor": "white",
            "linecolor": "white",
            "ticks": ""
           }
          },
          "scene": {
           "xaxis": {
            "backgroundcolor": "#E5ECF6",
            "gridcolor": "white",
            "gridwidth": 2,
            "linecolor": "white",
            "showbackground": true,
            "ticks": "",
            "zerolinecolor": "white"
           },
           "yaxis": {
            "backgroundcolor": "#E5ECF6",
            "gridcolor": "white",
            "gridwidth": 2,
            "linecolor": "white",
            "showbackground": true,
            "ticks": "",
            "zerolinecolor": "white"
           },
           "zaxis": {
            "backgroundcolor": "#E5ECF6",
            "gridcolor": "white",
            "gridwidth": 2,
            "linecolor": "white",
            "showbackground": true,
            "ticks": "",
            "zerolinecolor": "white"
           }
          },
          "shapedefaults": {
           "line": {
            "color": "#2a3f5f"
           }
          },
          "ternary": {
           "aaxis": {
            "gridcolor": "white",
            "linecolor": "white",
            "ticks": ""
           },
           "baxis": {
            "gridcolor": "white",
            "linecolor": "white",
            "ticks": ""
           },
           "bgcolor": "#E5ECF6",
           "caxis": {
            "gridcolor": "white",
            "linecolor": "white",
            "ticks": ""
           }
          },
          "title": {
           "x": 0.05
          },
          "xaxis": {
           "automargin": true,
           "gridcolor": "white",
           "linecolor": "white",
           "ticks": "",
           "title": {
            "standoff": 15
           },
           "zerolinecolor": "white",
           "zerolinewidth": 2
          },
          "yaxis": {
           "automargin": true,
           "gridcolor": "white",
           "linecolor": "white",
           "ticks": "",
           "title": {
            "standoff": 15
           },
           "zerolinecolor": "white",
           "zerolinewidth": 2
          }
         }
        },
        "title": {
         "text": "Count of Associate Professor Compensations"
        },
        "xaxis": {
         "anchor": "y",
         "domain": [
          0,
          1
         ],
         "title": {
          "text": "Associate Professor Comp"
         }
        },
        "yaxis": {
         "anchor": "x",
         "domain": [
          0,
          1
         ],
         "title": {
          "text": "count"
         }
        }
       }
      },
      "text/html": [
       "<div>                            <div id=\"7e976dc0-083a-4f4a-8800-1632bc0ef751\" class=\"plotly-graph-div\" style=\"height:525px; width:100%;\"></div>            <script type=\"text/javascript\">                require([\"plotly\"], function(Plotly) {                    window.PLOTLYENV=window.PLOTLYENV || {};                                    if (document.getElementById(\"7e976dc0-083a-4f4a-8800-1632bc0ef751\")) {                    Plotly.newPlot(                        \"7e976dc0-083a-4f4a-8800-1632bc0ef751\",                        [{\"alignmentgroup\":\"True\",\"bingroup\":\"x\",\"hovertemplate\":\"Associate Professor Comp=%{x}<br>count=%{y}<extra></extra>\",\"legendgroup\":\"\",\"marker\":{\"color\":\"#636efa\",\"pattern\":{\"shape\":\"\"}},\"name\":\"\",\"nbinsx\":100,\"offsetgroup\":\"\",\"orientation\":\"v\",\"showlegend\":false,\"texttemplate\":\"%{value}\",\"x\":[485.0,753.0,663.0,681.0,444.0,473.0,476.0,527.0,501.0,508.0,371.0,496.0,369.0,401.0,363.0,556.0,425.0,354.0,467.0,415.0,563.0,569.0,540.0,514.0,507.0,448.0,457.0,479.0,541.0,507.0,383.0,480.0,534.0,414.0,506.0,445.0,484.0,531.0,461.0,395.0,549.0,518.0,561.0,494.0,462.0,909.0,501.0,637.0,629.0,610.0,606.0,635.0,630.0,631.0,612.0,603.0,615.0,623.0,592.0,627.0,661.0,739.0,572.0,658.0,588.0,503.0,443.0,478.0,571.0,593.0,398.0,523.0,737.0,616.0,814.0,631.0,588.0,599.0,611.0,567.0,598.0,552.0,581.0,570.0,592.0,644.0,704.0,751.0,528.0,524.0,601.0,619.0,619.0,678.0,724.0,444.0,621.0,463.0,534.0,452.0,427.0,485.0,531.0,498.0,615.0,588.0,460.0,524.0,561.0,700.0,613.0,711.0,733.0,576.0,686.0,566.0,673.0,544.0,650.0,551.0,566.0,641.0,689.0,643.0,641.0,533.0,638.0,653.0,710.0,591.0,435.0,586.0,583.0,693.0,449.0,508.0,570.0,452.0,543.0,559.0,547.0,473.0,525.0,519.0,561.0,567.0,654.0,547.0,513.0,527.0,505.0,451.0,553.0,544.0,528.0,519.0,457.0,520.0,519.0,491.0,686.0,490.0,665.0,496.0,509.0,594.0,542.0,538.0,550.0,368.0,553.0,496.0,502.0,496.0,492.0,677.0,591.0,412.0,522.0,507.0,445.0,541.0,534.0,470.0,578.0,401.0,405.0,641.0,635.0,438.0,548.0,414.0,427.0,477.0,473.0,471.0,591.0,392.0,643.0,469.0,386.0,498.0,430.0,487.0,425.0,514.0,523.0,461.0,473.0,562.0,524.0,435.0,681.0,438.0,424.0,503.0,606.0,514.0,439.0,425.0,593.0,445.0,518.0,650.0,481.0,664.0,334.0,493.0,501.0,412.0,472.0,501.0,426.0,509.0,735.0,412.0,540.0,462.0,517.0,479.0,517.0,520.0,493.0,548.0,724.0,574.0,555.0,500.0,569.0,660.0,516.0,427.0,537.0,551.0,570.0,483.0,505.0,453.0,410.0,372.0,539.0,455.0,515.0,545.0,615.0,534.0,604.0,548.0,575.0,571.0,526.0,416.0,411.0,431.0,631.0,541.0,679.0,478.0,350.0,295.0,509.0,486.0,395.0,701.0,525.0,602.0,513.0,396.0,360.0,356.0,475.0,484.0,499.0,530.0,343.0,353.0,348.0,388.0,358.0,529.0,540.0,518.0,378.0,368.0,480.0,518.0,350.0,370.0,514.0,362.0,551.0,418.0,505.0,404.0,498.0,520.0,377.0,526.0,353.0,574.0,547.0,394.0,517.0,529.0,468.0,437.0,439.0,437.0,427.0,494.0,527.0,498.0,453.0,560.0,458.0,458.0,432.0,486.0,397.0,646.0,493.0,456.0,464.0,661.0,470.0,518.0,518.0,769.0,708.0,491.0,717.0,450.0,619.0,593.0,429.0,627.0,652.0,467.0,723.0,662.0,806.0,583.0,540.0,507.0,530.0,585.0,645.0,689.0,542.0,592.0,646.0,611.0,501.0,541.0,706.0,710.0,680.0,679.0,712.0,632.0,539.0,518.0,669.0,680.0,554.0,441.0,329.0,559.0,538.0,489.0,530.0,677.0,640.0,651.0,487.0,562.0,533.0,565.0,556.0,693.0,608.0,571.0,572.0,532.0,489.0,453.0,600.0,651.0,622.0,448.0,442.0,401.0,468.0,552.0,459.0,313.0,558.0,466.0,573.0,515.0,376.0,527.0,612.0,377.0,590.0,631.0,376.0,619.0,559.0,569.0,465.0,450.0,663.0,638.0,596.0,609.0,690.0,586.0,398.0,583.0,582.0,664.0,620.0,413.0,731.0,449.0,520.0,604.0,512.0,448.0,466.0,538.0,503.0,443.0,507.0,575.0,622.0,567.0,544.0,454.0,551.0,546.0,523.0,483.0,509.0,591.0,534.0,537.0,613.0,464.0,404.0,403.0,538.0,375.0,406.0,483.0,370.0,413.0,422.0,434.0,496.0,483.0,502.0,490.0,388.0,460.0,483.0,527.0,510.0,575.0,560.0,626.0,545.0,561.0,652.0,542.0,481.0,458.0,374.0,473.0,355.0,413.0,471.0,478.0,521.0,423.0,313.0,327.0,524.0,520.0,413.0,367.0,440.0,484.0,487.0,425.0,442.0,407.0,547.0,505.0,532.0,372.0,360.0,392.0,437.0,394.0,591.0,728.0,525.0,510.0,482.0,536.0,357.0,400.0,505.0,496.0,427.0,410.0,378.0,442.0,371.0,547.0,385.0,495.0,381.0,437.0,451.0,578.0,620.0,546.0,540.0,641.0,537.0,511.0,385.0,516.0,432.0,477.0,489.0,462.0,458.0,500.0,390.0,562.0,368.0,465.0,434.0,533.0,540.0,468.0,493.0,359.0,584.0,501.0,404.0,468.0,686.0,487.0,437.0,558.0,383.0,419.0,508.0,575.0,532.0,518.0,547.0,437.0,580.0,509.0,697.0,668.0,661.0,790.0,691.0,687.0,686.0,668.0,812.0,683.0,498.0,634.0,691.0,805.0,780.0,579.0,701.0,607.0,466.0,454.0,512.0,531.0,521.0,558.0,564.0,822.0,538.0,605.0,599.0,445.0,658.0,637.0,579.0,503.0,767.0,652.0,366.0,673.0,748.0,691.0,456.0,449.0,729.0,608.0,517.0,579.0,692.0,424.0,594.0,605.0,412.0,576.0,627.0,643.0,442.0,493.0,551.0,446.0,505.0,533.0,785.0,524.0,643.0,703.0,603.0,506.0,610.0,639.0,567.0,535.0,607.0,512.0,478.0,613.0,526.0,679.0,665.0,688.0,651.0,560.0,537.0,569.0,536.0,594.0,557.0,556.0,566.0,539.0,645.0,520.0,677.0,626.0,669.0,477.0,454.0,672.0,642.0,565.0,591.0,616.0,704.0,562.0,530.0,552.0,389.0,644.0,540.0,663.0,459.0,575.0,482.0,440.0,518.0,508.0,388.0,528.0,470.0,407.0,469.0,586.0,602.0,552.0,441.0,464.0,461.0,605.0,546.0,526.0,618.0,584.0,467.0,470.0,567.0,622.0,616.0,572.0,314.0,410.0,427.0,430.0,543.0,586.0,562.0,603.0,614.0,457.0,580.0,563.0,452.0,536.0,488.0,454.0,462.0,479.0,420.0,454.0,459.0,509.0,444.0,381.0,493.0,528.0,563.0,608.0,414.0,482.0,468.0,570.0,522.0,470.0,615.0,574.0,469.0,564.0,545.0,491.0,579.0,542.0,524.0,514.0,537.0,370.0,532.0,605.0,637.0,691.0,495.0,503.0,508.0,511.0,601.0,619.0,597.0,413.0,581.0,653.0,489.0,475.0,630.0,383.0,702.0,504.0,521.0,708.0,497.0,548.0,668.0,616.0,512.0,700.0,492.0,575.0,524.0,497.0,514.0,516.0,490.0,568.0,714.0,710.0,700.0,732.0,696.0,714.0,707.0,675.0,690.0,723.0,706.0,670.0,680.0,571.0,430.0,576.0,479.0,481.0,628.0,540.0,519.0,651.0,724.0,443.0,831.0,653.0,517.0,507.0,538.0,632.0,547.0,698.0,608.0,453.0,498.0,534.0,366.0,664.0,532.0,438.0,642.0,694.0,659.0,746.0,712.0,581.0,576.0,496.0,622.0,430.0,311.0,311.0,502.0,544.0,425.0,505.0,441.0,495.0,530.0,472.0,328.0,344.0,478.0,467.0,532.0,481.0,464.0,474.0,519.0,452.0,488.0,519.0,409.0,427.0,402.0,388.0,495.0,440.0,438.0,445.0,445.0,405.0,435.0,473.0,548.0,437.0,401.0,380.0,407.0,419.0,522.0,511.0,404.0,331.0,566.0,524.0,527.0,396.0,454.0,525.0,570.0,509.0,571.0,651.0,576.0,491.0,549.0,500.0,409.0,487.0,380.0,456.0,475.0,431.0,528.0,550.0,469.0,536.0,682.0,523.0,363.0,636.0,521.0,581.0,454.0,560.0,478.0,474.0,542.0,516.0,599.0,502.0,456.0,573.0,550.0,656.0,507.0,610.0,550.0,585.0,557.0,599.0,552.0,338.0,457.0,610.0,554.0,634.0,501.0,562.0,475.0,587.0,513.0,548.0,605.0,507.0,668.0,574.0,546.0,473.0,522.0,459.0,395.0,483.0,621.0,553.0,411.0,439.0,417.0,481.0,440.0,512.0,529.0,484.0,560.0,457.0,493.0,564.0,488.0,484.0,512.0,611.0,523.0,464.0,368.0,524.0,686.0,507.0,442.0,650.0,373.0,573.0,582.0,510.0,545.0,404.0,534.0,605.0,653.0,389.0,484.0,448.0,478.0,501.0,599.0,468.0,548.0,407.0,586.0,447.0,514.0,527.0,513.0,485.0,572.0,418.0,599.0,606.0,382.0,559.0,553.0,571.0,426.0,411.0,512.0,485.0,509.0,521.0,464.0,662.0,522.0,393.0,354.0,479.0,585.0,628.0,598.0,541.0,441.0,513.0,533.0,549.0,542.0,519.0,548.0,533.0,562.0,553.0,562.0,402.0,485.0,388.0,438.0,388.0,446.0,405.0,478.0,440.0,429.0,421.0,404.0,419.0,521.0,494.0,416.0,507.0],\"xaxis\":\"x\",\"yaxis\":\"y\",\"type\":\"histogram\"}],                        {\"template\":{\"data\":{\"bar\":[{\"error_x\":{\"color\":\"#2a3f5f\"},\"error_y\":{\"color\":\"#2a3f5f\"},\"marker\":{\"line\":{\"color\":\"#E5ECF6\",\"width\":0.5},\"pattern\":{\"fillmode\":\"overlay\",\"size\":10,\"solidity\":0.2}},\"type\":\"bar\"}],\"barpolar\":[{\"marker\":{\"line\":{\"color\":\"#E5ECF6\",\"width\":0.5},\"pattern\":{\"fillmode\":\"overlay\",\"size\":10,\"solidity\":0.2}},\"type\":\"barpolar\"}],\"carpet\":[{\"aaxis\":{\"endlinecolor\":\"#2a3f5f\",\"gridcolor\":\"white\",\"linecolor\":\"white\",\"minorgridcolor\":\"white\",\"startlinecolor\":\"#2a3f5f\"},\"baxis\":{\"endlinecolor\":\"#2a3f5f\",\"gridcolor\":\"white\",\"linecolor\":\"white\",\"minorgridcolor\":\"white\",\"startlinecolor\":\"#2a3f5f\"},\"type\":\"carpet\"}],\"choropleth\":[{\"colorbar\":{\"outlinewidth\":0,\"ticks\":\"\"},\"type\":\"choropleth\"}],\"contour\":[{\"colorbar\":{\"outlinewidth\":0,\"ticks\":\"\"},\"colorscale\":[[0.0,\"#0d0887\"],[0.1111111111111111,\"#46039f\"],[0.2222222222222222,\"#7201a8\"],[0.3333333333333333,\"#9c179e\"],[0.4444444444444444,\"#bd3786\"],[0.5555555555555556,\"#d8576b\"],[0.6666666666666666,\"#ed7953\"],[0.7777777777777778,\"#fb9f3a\"],[0.8888888888888888,\"#fdca26\"],[1.0,\"#f0f921\"]],\"type\":\"contour\"}],\"contourcarpet\":[{\"colorbar\":{\"outlinewidth\":0,\"ticks\":\"\"},\"type\":\"contourcarpet\"}],\"heatmap\":[{\"colorbar\":{\"outlinewidth\":0,\"ticks\":\"\"},\"colorscale\":[[0.0,\"#0d0887\"],[0.1111111111111111,\"#46039f\"],[0.2222222222222222,\"#7201a8\"],[0.3333333333333333,\"#9c179e\"],[0.4444444444444444,\"#bd3786\"],[0.5555555555555556,\"#d8576b\"],[0.6666666666666666,\"#ed7953\"],[0.7777777777777778,\"#fb9f3a\"],[0.8888888888888888,\"#fdca26\"],[1.0,\"#f0f921\"]],\"type\":\"heatmap\"}],\"heatmapgl\":[{\"colorbar\":{\"outlinewidth\":0,\"ticks\":\"\"},\"colorscale\":[[0.0,\"#0d0887\"],[0.1111111111111111,\"#46039f\"],[0.2222222222222222,\"#7201a8\"],[0.3333333333333333,\"#9c179e\"],[0.4444444444444444,\"#bd3786\"],[0.5555555555555556,\"#d8576b\"],[0.6666666666666666,\"#ed7953\"],[0.7777777777777778,\"#fb9f3a\"],[0.8888888888888888,\"#fdca26\"],[1.0,\"#f0f921\"]],\"type\":\"heatmapgl\"}],\"histogram\":[{\"marker\":{\"pattern\":{\"fillmode\":\"overlay\",\"size\":10,\"solidity\":0.2}},\"type\":\"histogram\"}],\"histogram2d\":[{\"colorbar\":{\"outlinewidth\":0,\"ticks\":\"\"},\"colorscale\":[[0.0,\"#0d0887\"],[0.1111111111111111,\"#46039f\"],[0.2222222222222222,\"#7201a8\"],[0.3333333333333333,\"#9c179e\"],[0.4444444444444444,\"#bd3786\"],[0.5555555555555556,\"#d8576b\"],[0.6666666666666666,\"#ed7953\"],[0.7777777777777778,\"#fb9f3a\"],[0.8888888888888888,\"#fdca26\"],[1.0,\"#f0f921\"]],\"type\":\"histogram2d\"}],\"histogram2dcontour\":[{\"colorbar\":{\"outlinewidth\":0,\"ticks\":\"\"},\"colorscale\":[[0.0,\"#0d0887\"],[0.1111111111111111,\"#46039f\"],[0.2222222222222222,\"#7201a8\"],[0.3333333333333333,\"#9c179e\"],[0.4444444444444444,\"#bd3786\"],[0.5555555555555556,\"#d8576b\"],[0.6666666666666666,\"#ed7953\"],[0.7777777777777778,\"#fb9f3a\"],[0.8888888888888888,\"#fdca26\"],[1.0,\"#f0f921\"]],\"type\":\"histogram2dcontour\"}],\"mesh3d\":[{\"colorbar\":{\"outlinewidth\":0,\"ticks\":\"\"},\"type\":\"mesh3d\"}],\"parcoords\":[{\"line\":{\"colorbar\":{\"outlinewidth\":0,\"ticks\":\"\"}},\"type\":\"parcoords\"}],\"pie\":[{\"automargin\":true,\"type\":\"pie\"}],\"scatter\":[{\"marker\":{\"colorbar\":{\"outlinewidth\":0,\"ticks\":\"\"}},\"type\":\"scatter\"}],\"scatter3d\":[{\"line\":{\"colorbar\":{\"outlinewidth\":0,\"ticks\":\"\"}},\"marker\":{\"colorbar\":{\"outlinewidth\":0,\"ticks\":\"\"}},\"type\":\"scatter3d\"}],\"scattercarpet\":[{\"marker\":{\"colorbar\":{\"outlinewidth\":0,\"ticks\":\"\"}},\"type\":\"scattercarpet\"}],\"scattergeo\":[{\"marker\":{\"colorbar\":{\"outlinewidth\":0,\"ticks\":\"\"}},\"type\":\"scattergeo\"}],\"scattergl\":[{\"marker\":{\"colorbar\":{\"outlinewidth\":0,\"ticks\":\"\"}},\"type\":\"scattergl\"}],\"scattermapbox\":[{\"marker\":{\"colorbar\":{\"outlinewidth\":0,\"ticks\":\"\"}},\"type\":\"scattermapbox\"}],\"scatterpolar\":[{\"marker\":{\"colorbar\":{\"outlinewidth\":0,\"ticks\":\"\"}},\"type\":\"scatterpolar\"}],\"scatterpolargl\":[{\"marker\":{\"colorbar\":{\"outlinewidth\":0,\"ticks\":\"\"}},\"type\":\"scatterpolargl\"}],\"scatterternary\":[{\"marker\":{\"colorbar\":{\"outlinewidth\":0,\"ticks\":\"\"}},\"type\":\"scatterternary\"}],\"surface\":[{\"colorbar\":{\"outlinewidth\":0,\"ticks\":\"\"},\"colorscale\":[[0.0,\"#0d0887\"],[0.1111111111111111,\"#46039f\"],[0.2222222222222222,\"#7201a8\"],[0.3333333333333333,\"#9c179e\"],[0.4444444444444444,\"#bd3786\"],[0.5555555555555556,\"#d8576b\"],[0.6666666666666666,\"#ed7953\"],[0.7777777777777778,\"#fb9f3a\"],[0.8888888888888888,\"#fdca26\"],[1.0,\"#f0f921\"]],\"type\":\"surface\"}],\"table\":[{\"cells\":{\"fill\":{\"color\":\"#EBF0F8\"},\"line\":{\"color\":\"white\"}},\"header\":{\"fill\":{\"color\":\"#C8D4E3\"},\"line\":{\"color\":\"white\"}},\"type\":\"table\"}]},\"layout\":{\"annotationdefaults\":{\"arrowcolor\":\"#2a3f5f\",\"arrowhead\":0,\"arrowwidth\":1},\"autotypenumbers\":\"strict\",\"coloraxis\":{\"colorbar\":{\"outlinewidth\":0,\"ticks\":\"\"}},\"colorscale\":{\"diverging\":[[0,\"#8e0152\"],[0.1,\"#c51b7d\"],[0.2,\"#de77ae\"],[0.3,\"#f1b6da\"],[0.4,\"#fde0ef\"],[0.5,\"#f7f7f7\"],[0.6,\"#e6f5d0\"],[0.7,\"#b8e186\"],[0.8,\"#7fbc41\"],[0.9,\"#4d9221\"],[1,\"#276419\"]],\"sequential\":[[0.0,\"#0d0887\"],[0.1111111111111111,\"#46039f\"],[0.2222222222222222,\"#7201a8\"],[0.3333333333333333,\"#9c179e\"],[0.4444444444444444,\"#bd3786\"],[0.5555555555555556,\"#d8576b\"],[0.6666666666666666,\"#ed7953\"],[0.7777777777777778,\"#fb9f3a\"],[0.8888888888888888,\"#fdca26\"],[1.0,\"#f0f921\"]],\"sequentialminus\":[[0.0,\"#0d0887\"],[0.1111111111111111,\"#46039f\"],[0.2222222222222222,\"#7201a8\"],[0.3333333333333333,\"#9c179e\"],[0.4444444444444444,\"#bd3786\"],[0.5555555555555556,\"#d8576b\"],[0.6666666666666666,\"#ed7953\"],[0.7777777777777778,\"#fb9f3a\"],[0.8888888888888888,\"#fdca26\"],[1.0,\"#f0f921\"]]},\"colorway\":[\"#636efa\",\"#EF553B\",\"#00cc96\",\"#ab63fa\",\"#FFA15A\",\"#19d3f3\",\"#FF6692\",\"#B6E880\",\"#FF97FF\",\"#FECB52\"],\"font\":{\"color\":\"#2a3f5f\"},\"geo\":{\"bgcolor\":\"white\",\"lakecolor\":\"white\",\"landcolor\":\"#E5ECF6\",\"showlakes\":true,\"showland\":true,\"subunitcolor\":\"white\"},\"hoverlabel\":{\"align\":\"left\"},\"hovermode\":\"closest\",\"mapbox\":{\"style\":\"light\"},\"paper_bgcolor\":\"white\",\"plot_bgcolor\":\"#E5ECF6\",\"polar\":{\"angularaxis\":{\"gridcolor\":\"white\",\"linecolor\":\"white\",\"ticks\":\"\"},\"bgcolor\":\"#E5ECF6\",\"radialaxis\":{\"gridcolor\":\"white\",\"linecolor\":\"white\",\"ticks\":\"\"}},\"scene\":{\"xaxis\":{\"backgroundcolor\":\"#E5ECF6\",\"gridcolor\":\"white\",\"gridwidth\":2,\"linecolor\":\"white\",\"showbackground\":true,\"ticks\":\"\",\"zerolinecolor\":\"white\"},\"yaxis\":{\"backgroundcolor\":\"#E5ECF6\",\"gridcolor\":\"white\",\"gridwidth\":2,\"linecolor\":\"white\",\"showbackground\":true,\"ticks\":\"\",\"zerolinecolor\":\"white\"},\"zaxis\":{\"backgroundcolor\":\"#E5ECF6\",\"gridcolor\":\"white\",\"gridwidth\":2,\"linecolor\":\"white\",\"showbackground\":true,\"ticks\":\"\",\"zerolinecolor\":\"white\"}},\"shapedefaults\":{\"line\":{\"color\":\"#2a3f5f\"}},\"ternary\":{\"aaxis\":{\"gridcolor\":\"white\",\"linecolor\":\"white\",\"ticks\":\"\"},\"baxis\":{\"gridcolor\":\"white\",\"linecolor\":\"white\",\"ticks\":\"\"},\"bgcolor\":\"#E5ECF6\",\"caxis\":{\"gridcolor\":\"white\",\"linecolor\":\"white\",\"ticks\":\"\"}},\"title\":{\"x\":0.05},\"xaxis\":{\"automargin\":true,\"gridcolor\":\"white\",\"linecolor\":\"white\",\"ticks\":\"\",\"title\":{\"standoff\":15},\"zerolinecolor\":\"white\",\"zerolinewidth\":2},\"yaxis\":{\"automargin\":true,\"gridcolor\":\"white\",\"linecolor\":\"white\",\"ticks\":\"\",\"title\":{\"standoff\":15},\"zerolinecolor\":\"white\",\"zerolinewidth\":2}}},\"xaxis\":{\"anchor\":\"y\",\"domain\":[0.0,1.0],\"title\":{\"text\":\"Associate Professor Comp\"}},\"yaxis\":{\"anchor\":\"x\",\"domain\":[0.0,1.0],\"title\":{\"text\":\"count\"}},\"legend\":{\"tracegroupgap\":0},\"title\":{\"text\":\"Count of Associate Professor Compensations\"},\"barmode\":\"relative\"},                        {\"responsive\": true}                    ).then(function(){\n",
       "                            \n",
       "var gd = document.getElementById('7e976dc0-083a-4f4a-8800-1632bc0ef751');\n",
       "var x = new MutationObserver(function (mutations, observer) {{\n",
       "        var display = window.getComputedStyle(gd).display;\n",
       "        if (!display || display === 'none') {{\n",
       "            console.log([gd, 'removed!']);\n",
       "            Plotly.purge(gd);\n",
       "            observer.disconnect();\n",
       "        }}\n",
       "}});\n",
       "\n",
       "// Listen for the removal of the full notebook cells\n",
       "var notebookContainer = gd.closest('#notebook-container');\n",
       "if (notebookContainer) {{\n",
       "    x.observe(notebookContainer, {childList: true});\n",
       "}}\n",
       "\n",
       "// Listen for the clearing of the current output cell\n",
       "var outputEl = gd.closest('.output');\n",
       "if (outputEl) {{\n",
       "    x.observe(outputEl, {childList: true});\n",
       "}}\n",
       "\n",
       "                        })                };                });            </script>        </div>"
      ]
     },
     "metadata": {},
     "output_type": "display_data"
    },
    {
     "data": {
      "application/vnd.plotly.v1+json": {
       "config": {
        "plotlyServerURL": "https://plot.ly"
       },
       "data": [
        {
         "alignmentgroup": "True",
         "bingroup": "x",
         "hovertemplate": "Assistant Professor Comp=%{x}<br>count=%{y}<extra></extra>",
         "legendgroup": "",
         "marker": {
          "color": "#636efa",
          "pattern": {
           "shape": ""
          }
         },
         "name": "",
         "nbinsx": 100,
         "offsetgroup": "",
         "orientation": "v",
         "showlegend": false,
         "texttemplate": "%{value}",
         "type": "histogram",
         "x": [
          471,
          572,
          442,
          557,
          376,
          383,
          427,
          451,
          404,
          445,
          347,
          436,
          313,
          346,
          355,
          476,
          374,
          312,
          392,
          362,
          483,
          475,
          455,
          450,
          411,
          402,
          415,
          427,
          431,
          416,
          376,
          435,
          453,
          375,
          450,
          375,
          402,
          461,
          401,
          332,
          489,
          446,
          498,
          428,
          371,
          717,
          433,
          506,
          503,
          521,
          593,
          514,
          531,
          518,
          500,
          507,
          524,
          526,
          497,
          573,
          510,
          588,
          482,
          530,
          495,
          443,
          311,
          396,
          507,
          482,
          376,
          468,
          645,
          497,
          653,
          533,
          496,
          520,
          517,
          479,
          493,
          467,
          493,
          481,
          495,
          538,
          624,
          636,
          468,
          429,
          416,
          518,
          495,
          569,
          543,
          400,
          509,
          399,
          481,
          402,
          363,
          424,
          428,
          425,
          519,
          525,
          406,
          480,
          508,
          536,
          477,
          652,
          603,
          513,
          531,
          478,
          516,
          432,
          494,
          463,
          492,
          539,
          547,
          548,
          505,
          459,
          534,
          536,
          546,
          494,
          349,
          482,
          491,
          554,
          396,
          424,
          421,
          383,
          460,
          517,
          472,
          409,
          494,
          378,
          467,
          527,
          514,
          483,
          438,
          465,
          458,
          390,
          509,
          462,
          441,
          437,
          391,
          431,
          439,
          437,
          567,
          439,
          594,
          460,
          407,
          493,
          445,
          435,
          390,
          355,
          464,
          445,
          454,
          440,
          390,
          587,
          534,
          359,
          440,
          405,
          379,
          459,
          463,
          406,
          496,
          366,
          377,
          496,
          514,
          378,
          445,
          365,
          396,
          394,
          434,
          401,
          491,
          358,
          549,
          385,
          335,
          453,
          338,
          433,
          381,
          472,
          449,
          402,
          394,
          449,
          435,
          374,
          527,
          393,
          370,
          410,
          558,
          445,
          418,
          371,
          477,
          366,
          416,
          543,
          407,
          536,
          307,
          407,
          383,
          385,
          394,
          437,
          352,
          443,
          602,
          346,
          414,
          351,
          464,
          454,
          431,
          462,
          403,
          471,
          636,
          494,
          483,
          414,
          461,
          480,
          447,
          389,
          438,
          447,
          465,
          414,
          415,
          411,
          344,
          334,
          455,
          379,
          433,
          477,
          507,
          444,
          514,
          482,
          449,
          495,
          470,
          348,
          379,
          367,
          548,
          479,
          568,
          400,
          316,
          246,
          435,
          382,
          356,
          573,
          459,
          482,
          438,
          346,
          308,
          336,
          412,
          425,
          427,
          466,
          299,
          313,
          309,
          341,
          313,
          458,
          416,
          450,
          329,
          327,
          396,
          421,
          318,
          333,
          423,
          337,
          468,
          352,
          416,
          358,
          410,
          451,
          332,
          424,
          304,
          504,
          449,
          345,
          442,
          432,
          396,
          398,
          385,
          369,
          401,
          418,
          461,
          403,
          423,
          482,
          398,
          396,
          375,
          398,
          361,
          514,
          434,
          386,
          398,
          546,
          377,
          413,
          407,
          700,
          599,
          405,
          604,
          384,
          496,
          488,
          371,
          500,
          494,
          424,
          653,
          577,
          678,
          542,
          501,
          468,
          478,
          483,
          496,
          599,
          426,
          482,
          502,
          535,
          399,
          458,
          599,
          607,
          557,
          563,
          570,
          545,
          448,
          433,
          566,
          557,
          452,
          365,
          325,
          476,
          468,
          452,
          434,
          551,
          511,
          558,
          382,
          458,
          430,
          505,
          466,
          612,
          505,
          491,
          493,
          421,
          400,
          389,
          494,
          503,
          453,
          377,
          415,
          338,
          396,
          463,
          366,
          313,
          459,
          407,
          437,
          423,
          331,
          461,
          534,
          340,
          519,
          566,
          326,
          508,
          455,
          440,
          430,
          358,
          569,
          563,
          473,
          468,
          582,
          482,
          370,
          531,
          522,
          560,
          505,
          331,
          595,
          387,
          443,
          505,
          405,
          385,
          421,
          465,
          426,
          394,
          423,
          424,
          500,
          482,
          461,
          406,
          466,
          464,
          435,
          358,
          430,
          520,
          457,
          454,
          552,
          404,
          349,
          308,
          467,
          336,
          347,
          400,
          374,
          350,
          354,
          378,
          430,
          414,
          422,
          425,
          336,
          422,
          425,
          441,
          441,
          484,
          499,
          557,
          467,
          503,
          540,
          414,
          361,
          391,
          350,
          414,
          348,
          386,
          407,
          381,
          471,
          370,
          337,
          289,
          471,
          420,
          344,
          312,
          364,
          416,
          427,
          384,
          395,
          359,
          496,
          448,
          430,
          349,
          335,
          350,
          346,
          345,
          440,
          553,
          462,
          420,
          401,
          460,
          349,
          367,
          407,
          407,
          367,
          357,
          309,
          387,
          353,
          460,
          360,
          421,
          321,
          384,
          349,
          508,
          498,
          470,
          461,
          508,
          448,
          449,
          366,
          451,
          376,
          416,
          431,
          383,
          420,
          406,
          357,
          418,
          336,
          391,
          369,
          448,
          507,
          400,
          385,
          334,
          505,
          399,
          346,
          349,
          532,
          412,
          313,
          464,
          312,
          392,
          435,
          483,
          439,
          458,
          443,
          384,
          479,
          450,
          558,
          523,
          541,
          670,
          582,
          541,
          534,
          604,
          682,
          507,
          412,
          525,
          557,
          664,
          624,
          517,
          563,
          490,
          399,
          386,
          494,
          444,
          459,
          458,
          468,
          679,
          467,
          481,
          450,
          374,
          593,
          497,
          499,
          403,
          646,
          509,
          363,
          600,
          640,
          598,
          390,
          395,
          557,
          475,
          409,
          431,
          579,
          343,
          496,
          461,
          335,
          465,
          495,
          481,
          383,
          423,
          463,
          322,
          424,
          425,
          674,
          448,
          556,
          601,
          527,
          435,
          495,
          516,
          474,
          495,
          457,
          451,
          419,
          472,
          454,
          524,
          528,
          526,
          509,
          464,
          439,
          451,
          448,
          480,
          467,
          435,
          441,
          436,
          528,
          439,
          501,
          520,
          512,
          438,
          389,
          520,
          546,
          468,
          529,
          485,
          534,
          468,
          437,
          464,
          347,
          530,
          429,
          600,
          379,
          495,
          401,
          405,
          429,
          412,
          330,
          439,
          369,
          349,
          379,
          490,
          505,
          475,
          383,
          367,
          378,
          491,
          465,
          426,
          512,
          500,
          399,
          410,
          497,
          506,
          495,
          481,
          297,
          361,
          352,
          364,
          436,
          467,
          461,
          516,
          487,
          398,
          485,
          502,
          415,
          469,
          429,
          383,
          431,
          390,
          359,
          371,
          434,
          460,
          386,
          327,
          425,
          474,
          468,
          493,
          389,
          412,
          371,
          440,
          448,
          417,
          522,
          512,
          421,
          498,
          463,
          417,
          488,
          470,
          466,
          451,
          418,
          347,
          462,
          478,
          542,
          617,
          392,
          407,
          420,
          426,
          478,
          570,
          497,
          398,
          465,
          519,
          434,
          402,
          516,
          330,
          551,
          432,
          399,
          571,
          427,
          444,
          536,
          543,
          466,
          568,
          433,
          442,
          443,
          390,
          446,
          430,
          397,
          463,
          567,
          580,
          578,
          530,
          556,
          570,
          558,
          527,
          568,
          576,
          567,
          552,
          554,
          452,
          363,
          513,
          403,
          403,
          539,
          406,
          443,
          526,
          568,
          376,
          712,
          537,
          419,
          401,
          401,
          571,
          458,
          586,
          494,
          399,
          394,
          408,
          315,
          537,
          429,
          355,
          525,
          549,
          554,
          629,
          544,
          504,
          484,
          406,
          548,
          359,
          289,
          261,
          415,
          465,
          378,
          399,
          402,
          402,
          430,
          427,
          287,
          290,
          395,
          382,
          472,
          392,
          389,
          413,
          469,
          376,
          410,
          429,
          366,
          419,
          362,
          364,
          435,
          392,
          410,
          390,
          377,
          339,
          395,
          374,
          441,
          314,
          346,
          363,
          334,
          348,
          464,
          416,
          337,
          322,
          428,
          420,
          439,
          340,
          396,
          452,
          500,
          426,
          447,
          538,
          502,
          418,
          484,
          390,
          403,
          456,
          357,
          397,
          417,
          428,
          463,
          479,
          399,
          439,
          593,
          451,
          313,
          570,
          426,
          465,
          392,
          452,
          434,
          410,
          455,
          455,
          518,
          450,
          386,
          469,
          472,
          370,
          438,
          497,
          446,
          510,
          506,
          548,
          488,
          362,
          419,
          504,
          494,
          571,
          449,
          489,
          482,
          509,
          440,
          496,
          520,
          429,
          577,
          514,
          497,
          413,
          458,
          399,
          342,
          417,
          484,
          458,
          355,
          351,
          362,
          419,
          374,
          374,
          431,
          396,
          466,
          380,
          434,
          468,
          443,
          385,
          424,
          501,
          422,
          394,
          341,
          445,
          512,
          421,
          397,
          550,
          333,
          465,
          506,
          462,
          456,
          302,
          447,
          480,
          545,
          322,
          410,
          390,
          429,
          411,
          493,
          394,
          457,
          365,
          486,
          374,
          451,
          432,
          434,
          422,
          495,
          360,
          495,
          524,
          367,
          488,
          461,
          468,
          345,
          332,
          428,
          406,
          434,
          439,
          373,
          525,
          427,
          327,
          344,
          401,
          457,
          566,
          544,
          468,
          395,
          460,
          487,
          502,
          470,
          449,
          464,
          459,
          483,
          510,
          490,
          349,
          358,
          341,
          372,
          339,
          394,
          341,
          384,
          413,
          368,
          383,
          294,
          369,
          438,
          434,
          348,
          464
         ],
         "xaxis": "x",
         "yaxis": "y"
        }
       ],
       "layout": {
        "barmode": "relative",
        "legend": {
         "tracegroupgap": 0
        },
        "template": {
         "data": {
          "bar": [
           {
            "error_x": {
             "color": "#2a3f5f"
            },
            "error_y": {
             "color": "#2a3f5f"
            },
            "marker": {
             "line": {
              "color": "#E5ECF6",
              "width": 0.5
             },
             "pattern": {
              "fillmode": "overlay",
              "size": 10,
              "solidity": 0.2
             }
            },
            "type": "bar"
           }
          ],
          "barpolar": [
           {
            "marker": {
             "line": {
              "color": "#E5ECF6",
              "width": 0.5
             },
             "pattern": {
              "fillmode": "overlay",
              "size": 10,
              "solidity": 0.2
             }
            },
            "type": "barpolar"
           }
          ],
          "carpet": [
           {
            "aaxis": {
             "endlinecolor": "#2a3f5f",
             "gridcolor": "white",
             "linecolor": "white",
             "minorgridcolor": "white",
             "startlinecolor": "#2a3f5f"
            },
            "baxis": {
             "endlinecolor": "#2a3f5f",
             "gridcolor": "white",
             "linecolor": "white",
             "minorgridcolor": "white",
             "startlinecolor": "#2a3f5f"
            },
            "type": "carpet"
           }
          ],
          "choropleth": [
           {
            "colorbar": {
             "outlinewidth": 0,
             "ticks": ""
            },
            "type": "choropleth"
           }
          ],
          "contour": [
           {
            "colorbar": {
             "outlinewidth": 0,
             "ticks": ""
            },
            "colorscale": [
             [
              0,
              "#0d0887"
             ],
             [
              0.1111111111111111,
              "#46039f"
             ],
             [
              0.2222222222222222,
              "#7201a8"
             ],
             [
              0.3333333333333333,
              "#9c179e"
             ],
             [
              0.4444444444444444,
              "#bd3786"
             ],
             [
              0.5555555555555556,
              "#d8576b"
             ],
             [
              0.6666666666666666,
              "#ed7953"
             ],
             [
              0.7777777777777778,
              "#fb9f3a"
             ],
             [
              0.8888888888888888,
              "#fdca26"
             ],
             [
              1,
              "#f0f921"
             ]
            ],
            "type": "contour"
           }
          ],
          "contourcarpet": [
           {
            "colorbar": {
             "outlinewidth": 0,
             "ticks": ""
            },
            "type": "contourcarpet"
           }
          ],
          "heatmap": [
           {
            "colorbar": {
             "outlinewidth": 0,
             "ticks": ""
            },
            "colorscale": [
             [
              0,
              "#0d0887"
             ],
             [
              0.1111111111111111,
              "#46039f"
             ],
             [
              0.2222222222222222,
              "#7201a8"
             ],
             [
              0.3333333333333333,
              "#9c179e"
             ],
             [
              0.4444444444444444,
              "#bd3786"
             ],
             [
              0.5555555555555556,
              "#d8576b"
             ],
             [
              0.6666666666666666,
              "#ed7953"
             ],
             [
              0.7777777777777778,
              "#fb9f3a"
             ],
             [
              0.8888888888888888,
              "#fdca26"
             ],
             [
              1,
              "#f0f921"
             ]
            ],
            "type": "heatmap"
           }
          ],
          "heatmapgl": [
           {
            "colorbar": {
             "outlinewidth": 0,
             "ticks": ""
            },
            "colorscale": [
             [
              0,
              "#0d0887"
             ],
             [
              0.1111111111111111,
              "#46039f"
             ],
             [
              0.2222222222222222,
              "#7201a8"
             ],
             [
              0.3333333333333333,
              "#9c179e"
             ],
             [
              0.4444444444444444,
              "#bd3786"
             ],
             [
              0.5555555555555556,
              "#d8576b"
             ],
             [
              0.6666666666666666,
              "#ed7953"
             ],
             [
              0.7777777777777778,
              "#fb9f3a"
             ],
             [
              0.8888888888888888,
              "#fdca26"
             ],
             [
              1,
              "#f0f921"
             ]
            ],
            "type": "heatmapgl"
           }
          ],
          "histogram": [
           {
            "marker": {
             "pattern": {
              "fillmode": "overlay",
              "size": 10,
              "solidity": 0.2
             }
            },
            "type": "histogram"
           }
          ],
          "histogram2d": [
           {
            "colorbar": {
             "outlinewidth": 0,
             "ticks": ""
            },
            "colorscale": [
             [
              0,
              "#0d0887"
             ],
             [
              0.1111111111111111,
              "#46039f"
             ],
             [
              0.2222222222222222,
              "#7201a8"
             ],
             [
              0.3333333333333333,
              "#9c179e"
             ],
             [
              0.4444444444444444,
              "#bd3786"
             ],
             [
              0.5555555555555556,
              "#d8576b"
             ],
             [
              0.6666666666666666,
              "#ed7953"
             ],
             [
              0.7777777777777778,
              "#fb9f3a"
             ],
             [
              0.8888888888888888,
              "#fdca26"
             ],
             [
              1,
              "#f0f921"
             ]
            ],
            "type": "histogram2d"
           }
          ],
          "histogram2dcontour": [
           {
            "colorbar": {
             "outlinewidth": 0,
             "ticks": ""
            },
            "colorscale": [
             [
              0,
              "#0d0887"
             ],
             [
              0.1111111111111111,
              "#46039f"
             ],
             [
              0.2222222222222222,
              "#7201a8"
             ],
             [
              0.3333333333333333,
              "#9c179e"
             ],
             [
              0.4444444444444444,
              "#bd3786"
             ],
             [
              0.5555555555555556,
              "#d8576b"
             ],
             [
              0.6666666666666666,
              "#ed7953"
             ],
             [
              0.7777777777777778,
              "#fb9f3a"
             ],
             [
              0.8888888888888888,
              "#fdca26"
             ],
             [
              1,
              "#f0f921"
             ]
            ],
            "type": "histogram2dcontour"
           }
          ],
          "mesh3d": [
           {
            "colorbar": {
             "outlinewidth": 0,
             "ticks": ""
            },
            "type": "mesh3d"
           }
          ],
          "parcoords": [
           {
            "line": {
             "colorbar": {
              "outlinewidth": 0,
              "ticks": ""
             }
            },
            "type": "parcoords"
           }
          ],
          "pie": [
           {
            "automargin": true,
            "type": "pie"
           }
          ],
          "scatter": [
           {
            "marker": {
             "colorbar": {
              "outlinewidth": 0,
              "ticks": ""
             }
            },
            "type": "scatter"
           }
          ],
          "scatter3d": [
           {
            "line": {
             "colorbar": {
              "outlinewidth": 0,
              "ticks": ""
             }
            },
            "marker": {
             "colorbar": {
              "outlinewidth": 0,
              "ticks": ""
             }
            },
            "type": "scatter3d"
           }
          ],
          "scattercarpet": [
           {
            "marker": {
             "colorbar": {
              "outlinewidth": 0,
              "ticks": ""
             }
            },
            "type": "scattercarpet"
           }
          ],
          "scattergeo": [
           {
            "marker": {
             "colorbar": {
              "outlinewidth": 0,
              "ticks": ""
             }
            },
            "type": "scattergeo"
           }
          ],
          "scattergl": [
           {
            "marker": {
             "colorbar": {
              "outlinewidth": 0,
              "ticks": ""
             }
            },
            "type": "scattergl"
           }
          ],
          "scattermapbox": [
           {
            "marker": {
             "colorbar": {
              "outlinewidth": 0,
              "ticks": ""
             }
            },
            "type": "scattermapbox"
           }
          ],
          "scatterpolar": [
           {
            "marker": {
             "colorbar": {
              "outlinewidth": 0,
              "ticks": ""
             }
            },
            "type": "scatterpolar"
           }
          ],
          "scatterpolargl": [
           {
            "marker": {
             "colorbar": {
              "outlinewidth": 0,
              "ticks": ""
             }
            },
            "type": "scatterpolargl"
           }
          ],
          "scatterternary": [
           {
            "marker": {
             "colorbar": {
              "outlinewidth": 0,
              "ticks": ""
             }
            },
            "type": "scatterternary"
           }
          ],
          "surface": [
           {
            "colorbar": {
             "outlinewidth": 0,
             "ticks": ""
            },
            "colorscale": [
             [
              0,
              "#0d0887"
             ],
             [
              0.1111111111111111,
              "#46039f"
             ],
             [
              0.2222222222222222,
              "#7201a8"
             ],
             [
              0.3333333333333333,
              "#9c179e"
             ],
             [
              0.4444444444444444,
              "#bd3786"
             ],
             [
              0.5555555555555556,
              "#d8576b"
             ],
             [
              0.6666666666666666,
              "#ed7953"
             ],
             [
              0.7777777777777778,
              "#fb9f3a"
             ],
             [
              0.8888888888888888,
              "#fdca26"
             ],
             [
              1,
              "#f0f921"
             ]
            ],
            "type": "surface"
           }
          ],
          "table": [
           {
            "cells": {
             "fill": {
              "color": "#EBF0F8"
             },
             "line": {
              "color": "white"
             }
            },
            "header": {
             "fill": {
              "color": "#C8D4E3"
             },
             "line": {
              "color": "white"
             }
            },
            "type": "table"
           }
          ]
         },
         "layout": {
          "annotationdefaults": {
           "arrowcolor": "#2a3f5f",
           "arrowhead": 0,
           "arrowwidth": 1
          },
          "autotypenumbers": "strict",
          "coloraxis": {
           "colorbar": {
            "outlinewidth": 0,
            "ticks": ""
           }
          },
          "colorscale": {
           "diverging": [
            [
             0,
             "#8e0152"
            ],
            [
             0.1,
             "#c51b7d"
            ],
            [
             0.2,
             "#de77ae"
            ],
            [
             0.3,
             "#f1b6da"
            ],
            [
             0.4,
             "#fde0ef"
            ],
            [
             0.5,
             "#f7f7f7"
            ],
            [
             0.6,
             "#e6f5d0"
            ],
            [
             0.7,
             "#b8e186"
            ],
            [
             0.8,
             "#7fbc41"
            ],
            [
             0.9,
             "#4d9221"
            ],
            [
             1,
             "#276419"
            ]
           ],
           "sequential": [
            [
             0,
             "#0d0887"
            ],
            [
             0.1111111111111111,
             "#46039f"
            ],
            [
             0.2222222222222222,
             "#7201a8"
            ],
            [
             0.3333333333333333,
             "#9c179e"
            ],
            [
             0.4444444444444444,
             "#bd3786"
            ],
            [
             0.5555555555555556,
             "#d8576b"
            ],
            [
             0.6666666666666666,
             "#ed7953"
            ],
            [
             0.7777777777777778,
             "#fb9f3a"
            ],
            [
             0.8888888888888888,
             "#fdca26"
            ],
            [
             1,
             "#f0f921"
            ]
           ],
           "sequentialminus": [
            [
             0,
             "#0d0887"
            ],
            [
             0.1111111111111111,
             "#46039f"
            ],
            [
             0.2222222222222222,
             "#7201a8"
            ],
            [
             0.3333333333333333,
             "#9c179e"
            ],
            [
             0.4444444444444444,
             "#bd3786"
            ],
            [
             0.5555555555555556,
             "#d8576b"
            ],
            [
             0.6666666666666666,
             "#ed7953"
            ],
            [
             0.7777777777777778,
             "#fb9f3a"
            ],
            [
             0.8888888888888888,
             "#fdca26"
            ],
            [
             1,
             "#f0f921"
            ]
           ]
          },
          "colorway": [
           "#636efa",
           "#EF553B",
           "#00cc96",
           "#ab63fa",
           "#FFA15A",
           "#19d3f3",
           "#FF6692",
           "#B6E880",
           "#FF97FF",
           "#FECB52"
          ],
          "font": {
           "color": "#2a3f5f"
          },
          "geo": {
           "bgcolor": "white",
           "lakecolor": "white",
           "landcolor": "#E5ECF6",
           "showlakes": true,
           "showland": true,
           "subunitcolor": "white"
          },
          "hoverlabel": {
           "align": "left"
          },
          "hovermode": "closest",
          "mapbox": {
           "style": "light"
          },
          "paper_bgcolor": "white",
          "plot_bgcolor": "#E5ECF6",
          "polar": {
           "angularaxis": {
            "gridcolor": "white",
            "linecolor": "white",
            "ticks": ""
           },
           "bgcolor": "#E5ECF6",
           "radialaxis": {
            "gridcolor": "white",
            "linecolor": "white",
            "ticks": ""
           }
          },
          "scene": {
           "xaxis": {
            "backgroundcolor": "#E5ECF6",
            "gridcolor": "white",
            "gridwidth": 2,
            "linecolor": "white",
            "showbackground": true,
            "ticks": "",
            "zerolinecolor": "white"
           },
           "yaxis": {
            "backgroundcolor": "#E5ECF6",
            "gridcolor": "white",
            "gridwidth": 2,
            "linecolor": "white",
            "showbackground": true,
            "ticks": "",
            "zerolinecolor": "white"
           },
           "zaxis": {
            "backgroundcolor": "#E5ECF6",
            "gridcolor": "white",
            "gridwidth": 2,
            "linecolor": "white",
            "showbackground": true,
            "ticks": "",
            "zerolinecolor": "white"
           }
          },
          "shapedefaults": {
           "line": {
            "color": "#2a3f5f"
           }
          },
          "ternary": {
           "aaxis": {
            "gridcolor": "white",
            "linecolor": "white",
            "ticks": ""
           },
           "baxis": {
            "gridcolor": "white",
            "linecolor": "white",
            "ticks": ""
           },
           "bgcolor": "#E5ECF6",
           "caxis": {
            "gridcolor": "white",
            "linecolor": "white",
            "ticks": ""
           }
          },
          "title": {
           "x": 0.05
          },
          "xaxis": {
           "automargin": true,
           "gridcolor": "white",
           "linecolor": "white",
           "ticks": "",
           "title": {
            "standoff": 15
           },
           "zerolinecolor": "white",
           "zerolinewidth": 2
          },
          "yaxis": {
           "automargin": true,
           "gridcolor": "white",
           "linecolor": "white",
           "ticks": "",
           "title": {
            "standoff": 15
           },
           "zerolinecolor": "white",
           "zerolinewidth": 2
          }
         }
        },
        "title": {
         "text": "Count of Assistant Professor Compensations"
        },
        "xaxis": {
         "anchor": "y",
         "domain": [
          0,
          1
         ],
         "title": {
          "text": "Assistant Professor Comp"
         }
        },
        "yaxis": {
         "anchor": "x",
         "domain": [
          0,
          1
         ],
         "title": {
          "text": "count"
         }
        }
       }
      },
      "text/html": [
       "<div>                            <div id=\"4b11978b-01f6-464e-a4b5-25de58e04bf7\" class=\"plotly-graph-div\" style=\"height:525px; width:100%;\"></div>            <script type=\"text/javascript\">                require([\"plotly\"], function(Plotly) {                    window.PLOTLYENV=window.PLOTLYENV || {};                                    if (document.getElementById(\"4b11978b-01f6-464e-a4b5-25de58e04bf7\")) {                    Plotly.newPlot(                        \"4b11978b-01f6-464e-a4b5-25de58e04bf7\",                        [{\"alignmentgroup\":\"True\",\"bingroup\":\"x\",\"hovertemplate\":\"Assistant Professor Comp=%{x}<br>count=%{y}<extra></extra>\",\"legendgroup\":\"\",\"marker\":{\"color\":\"#636efa\",\"pattern\":{\"shape\":\"\"}},\"name\":\"\",\"nbinsx\":100,\"offsetgroup\":\"\",\"orientation\":\"v\",\"showlegend\":false,\"texttemplate\":\"%{value}\",\"x\":[471.0,572.0,442.0,557.0,376.0,383.0,427.0,451.0,404.0,445.0,347.0,436.0,313.0,346.0,355.0,476.0,374.0,312.0,392.0,362.0,483.0,475.0,455.0,450.0,411.0,402.0,415.0,427.0,431.0,416.0,376.0,435.0,453.0,375.0,450.0,375.0,402.0,461.0,401.0,332.0,489.0,446.0,498.0,428.0,371.0,717.0,433.0,506.0,503.0,521.0,593.0,514.0,531.0,518.0,500.0,507.0,524.0,526.0,497.0,573.0,510.0,588.0,482.0,530.0,495.0,443.0,311.0,396.0,507.0,482.0,376.0,468.0,645.0,497.0,653.0,533.0,496.0,520.0,517.0,479.0,493.0,467.0,493.0,481.0,495.0,538.0,624.0,636.0,468.0,429.0,416.0,518.0,495.0,569.0,543.0,400.0,509.0,399.0,481.0,402.0,363.0,424.0,428.0,425.0,519.0,525.0,406.0,480.0,508.0,536.0,477.0,652.0,603.0,513.0,531.0,478.0,516.0,432.0,494.0,463.0,492.0,539.0,547.0,548.0,505.0,459.0,534.0,536.0,546.0,494.0,349.0,482.0,491.0,554.0,396.0,424.0,421.0,383.0,460.0,517.0,472.0,409.0,494.0,378.0,467.0,527.0,514.0,483.0,438.0,465.0,458.0,390.0,509.0,462.0,441.0,437.0,391.0,431.0,439.0,437.0,567.0,439.0,594.0,460.0,407.0,493.0,445.0,435.0,390.0,355.0,464.0,445.0,454.0,440.0,390.0,587.0,534.0,359.0,440.0,405.0,379.0,459.0,463.0,406.0,496.0,366.0,377.0,496.0,514.0,378.0,445.0,365.0,396.0,394.0,434.0,401.0,491.0,358.0,549.0,385.0,335.0,453.0,338.0,433.0,381.0,472.0,449.0,402.0,394.0,449.0,435.0,374.0,527.0,393.0,370.0,410.0,558.0,445.0,418.0,371.0,477.0,366.0,416.0,543.0,407.0,536.0,307.0,407.0,383.0,385.0,394.0,437.0,352.0,443.0,602.0,346.0,414.0,351.0,464.0,454.0,431.0,462.0,403.0,471.0,636.0,494.0,483.0,414.0,461.0,480.0,447.0,389.0,438.0,447.0,465.0,414.0,415.0,411.0,344.0,334.0,455.0,379.0,433.0,477.0,507.0,444.0,514.0,482.0,449.0,495.0,470.0,348.0,379.0,367.0,548.0,479.0,568.0,400.0,316.0,246.0,435.0,382.0,356.0,573.0,459.0,482.0,438.0,346.0,308.0,336.0,412.0,425.0,427.0,466.0,299.0,313.0,309.0,341.0,313.0,458.0,416.0,450.0,329.0,327.0,396.0,421.0,318.0,333.0,423.0,337.0,468.0,352.0,416.0,358.0,410.0,451.0,332.0,424.0,304.0,504.0,449.0,345.0,442.0,432.0,396.0,398.0,385.0,369.0,401.0,418.0,461.0,403.0,423.0,482.0,398.0,396.0,375.0,398.0,361.0,514.0,434.0,386.0,398.0,546.0,377.0,413.0,407.0,700.0,599.0,405.0,604.0,384.0,496.0,488.0,371.0,500.0,494.0,424.0,653.0,577.0,678.0,542.0,501.0,468.0,478.0,483.0,496.0,599.0,426.0,482.0,502.0,535.0,399.0,458.0,599.0,607.0,557.0,563.0,570.0,545.0,448.0,433.0,566.0,557.0,452.0,365.0,325.0,476.0,468.0,452.0,434.0,551.0,511.0,558.0,382.0,458.0,430.0,505.0,466.0,612.0,505.0,491.0,493.0,421.0,400.0,389.0,494.0,503.0,453.0,377.0,415.0,338.0,396.0,463.0,366.0,313.0,459.0,407.0,437.0,423.0,331.0,461.0,534.0,340.0,519.0,566.0,326.0,508.0,455.0,440.0,430.0,358.0,569.0,563.0,473.0,468.0,582.0,482.0,370.0,531.0,522.0,560.0,505.0,331.0,595.0,387.0,443.0,505.0,405.0,385.0,421.0,465.0,426.0,394.0,423.0,424.0,500.0,482.0,461.0,406.0,466.0,464.0,435.0,358.0,430.0,520.0,457.0,454.0,552.0,404.0,349.0,308.0,467.0,336.0,347.0,400.0,374.0,350.0,354.0,378.0,430.0,414.0,422.0,425.0,336.0,422.0,425.0,441.0,441.0,484.0,499.0,557.0,467.0,503.0,540.0,414.0,361.0,391.0,350.0,414.0,348.0,386.0,407.0,381.0,471.0,370.0,337.0,289.0,471.0,420.0,344.0,312.0,364.0,416.0,427.0,384.0,395.0,359.0,496.0,448.0,430.0,349.0,335.0,350.0,346.0,345.0,440.0,553.0,462.0,420.0,401.0,460.0,349.0,367.0,407.0,407.0,367.0,357.0,309.0,387.0,353.0,460.0,360.0,421.0,321.0,384.0,349.0,508.0,498.0,470.0,461.0,508.0,448.0,449.0,366.0,451.0,376.0,416.0,431.0,383.0,420.0,406.0,357.0,418.0,336.0,391.0,369.0,448.0,507.0,400.0,385.0,334.0,505.0,399.0,346.0,349.0,532.0,412.0,313.0,464.0,312.0,392.0,435.0,483.0,439.0,458.0,443.0,384.0,479.0,450.0,558.0,523.0,541.0,670.0,582.0,541.0,534.0,604.0,682.0,507.0,412.0,525.0,557.0,664.0,624.0,517.0,563.0,490.0,399.0,386.0,494.0,444.0,459.0,458.0,468.0,679.0,467.0,481.0,450.0,374.0,593.0,497.0,499.0,403.0,646.0,509.0,363.0,600.0,640.0,598.0,390.0,395.0,557.0,475.0,409.0,431.0,579.0,343.0,496.0,461.0,335.0,465.0,495.0,481.0,383.0,423.0,463.0,322.0,424.0,425.0,674.0,448.0,556.0,601.0,527.0,435.0,495.0,516.0,474.0,495.0,457.0,451.0,419.0,472.0,454.0,524.0,528.0,526.0,509.0,464.0,439.0,451.0,448.0,480.0,467.0,435.0,441.0,436.0,528.0,439.0,501.0,520.0,512.0,438.0,389.0,520.0,546.0,468.0,529.0,485.0,534.0,468.0,437.0,464.0,347.0,530.0,429.0,600.0,379.0,495.0,401.0,405.0,429.0,412.0,330.0,439.0,369.0,349.0,379.0,490.0,505.0,475.0,383.0,367.0,378.0,491.0,465.0,426.0,512.0,500.0,399.0,410.0,497.0,506.0,495.0,481.0,297.0,361.0,352.0,364.0,436.0,467.0,461.0,516.0,487.0,398.0,485.0,502.0,415.0,469.0,429.0,383.0,431.0,390.0,359.0,371.0,434.0,460.0,386.0,327.0,425.0,474.0,468.0,493.0,389.0,412.0,371.0,440.0,448.0,417.0,522.0,512.0,421.0,498.0,463.0,417.0,488.0,470.0,466.0,451.0,418.0,347.0,462.0,478.0,542.0,617.0,392.0,407.0,420.0,426.0,478.0,570.0,497.0,398.0,465.0,519.0,434.0,402.0,516.0,330.0,551.0,432.0,399.0,571.0,427.0,444.0,536.0,543.0,466.0,568.0,433.0,442.0,443.0,390.0,446.0,430.0,397.0,463.0,567.0,580.0,578.0,530.0,556.0,570.0,558.0,527.0,568.0,576.0,567.0,552.0,554.0,452.0,363.0,513.0,403.0,403.0,539.0,406.0,443.0,526.0,568.0,376.0,712.0,537.0,419.0,401.0,401.0,571.0,458.0,586.0,494.0,399.0,394.0,408.0,315.0,537.0,429.0,355.0,525.0,549.0,554.0,629.0,544.0,504.0,484.0,406.0,548.0,359.0,289.0,261.0,415.0,465.0,378.0,399.0,402.0,402.0,430.0,427.0,287.0,290.0,395.0,382.0,472.0,392.0,389.0,413.0,469.0,376.0,410.0,429.0,366.0,419.0,362.0,364.0,435.0,392.0,410.0,390.0,377.0,339.0,395.0,374.0,441.0,314.0,346.0,363.0,334.0,348.0,464.0,416.0,337.0,322.0,428.0,420.0,439.0,340.0,396.0,452.0,500.0,426.0,447.0,538.0,502.0,418.0,484.0,390.0,403.0,456.0,357.0,397.0,417.0,428.0,463.0,479.0,399.0,439.0,593.0,451.0,313.0,570.0,426.0,465.0,392.0,452.0,434.0,410.0,455.0,455.0,518.0,450.0,386.0,469.0,472.0,370.0,438.0,497.0,446.0,510.0,506.0,548.0,488.0,362.0,419.0,504.0,494.0,571.0,449.0,489.0,482.0,509.0,440.0,496.0,520.0,429.0,577.0,514.0,497.0,413.0,458.0,399.0,342.0,417.0,484.0,458.0,355.0,351.0,362.0,419.0,374.0,374.0,431.0,396.0,466.0,380.0,434.0,468.0,443.0,385.0,424.0,501.0,422.0,394.0,341.0,445.0,512.0,421.0,397.0,550.0,333.0,465.0,506.0,462.0,456.0,302.0,447.0,480.0,545.0,322.0,410.0,390.0,429.0,411.0,493.0,394.0,457.0,365.0,486.0,374.0,451.0,432.0,434.0,422.0,495.0,360.0,495.0,524.0,367.0,488.0,461.0,468.0,345.0,332.0,428.0,406.0,434.0,439.0,373.0,525.0,427.0,327.0,344.0,401.0,457.0,566.0,544.0,468.0,395.0,460.0,487.0,502.0,470.0,449.0,464.0,459.0,483.0,510.0,490.0,349.0,358.0,341.0,372.0,339.0,394.0,341.0,384.0,413.0,368.0,383.0,294.0,369.0,438.0,434.0,348.0,464.0],\"xaxis\":\"x\",\"yaxis\":\"y\",\"type\":\"histogram\"}],                        {\"template\":{\"data\":{\"bar\":[{\"error_x\":{\"color\":\"#2a3f5f\"},\"error_y\":{\"color\":\"#2a3f5f\"},\"marker\":{\"line\":{\"color\":\"#E5ECF6\",\"width\":0.5},\"pattern\":{\"fillmode\":\"overlay\",\"size\":10,\"solidity\":0.2}},\"type\":\"bar\"}],\"barpolar\":[{\"marker\":{\"line\":{\"color\":\"#E5ECF6\",\"width\":0.5},\"pattern\":{\"fillmode\":\"overlay\",\"size\":10,\"solidity\":0.2}},\"type\":\"barpolar\"}],\"carpet\":[{\"aaxis\":{\"endlinecolor\":\"#2a3f5f\",\"gridcolor\":\"white\",\"linecolor\":\"white\",\"minorgridcolor\":\"white\",\"startlinecolor\":\"#2a3f5f\"},\"baxis\":{\"endlinecolor\":\"#2a3f5f\",\"gridcolor\":\"white\",\"linecolor\":\"white\",\"minorgridcolor\":\"white\",\"startlinecolor\":\"#2a3f5f\"},\"type\":\"carpet\"}],\"choropleth\":[{\"colorbar\":{\"outlinewidth\":0,\"ticks\":\"\"},\"type\":\"choropleth\"}],\"contour\":[{\"colorbar\":{\"outlinewidth\":0,\"ticks\":\"\"},\"colorscale\":[[0.0,\"#0d0887\"],[0.1111111111111111,\"#46039f\"],[0.2222222222222222,\"#7201a8\"],[0.3333333333333333,\"#9c179e\"],[0.4444444444444444,\"#bd3786\"],[0.5555555555555556,\"#d8576b\"],[0.6666666666666666,\"#ed7953\"],[0.7777777777777778,\"#fb9f3a\"],[0.8888888888888888,\"#fdca26\"],[1.0,\"#f0f921\"]],\"type\":\"contour\"}],\"contourcarpet\":[{\"colorbar\":{\"outlinewidth\":0,\"ticks\":\"\"},\"type\":\"contourcarpet\"}],\"heatmap\":[{\"colorbar\":{\"outlinewidth\":0,\"ticks\":\"\"},\"colorscale\":[[0.0,\"#0d0887\"],[0.1111111111111111,\"#46039f\"],[0.2222222222222222,\"#7201a8\"],[0.3333333333333333,\"#9c179e\"],[0.4444444444444444,\"#bd3786\"],[0.5555555555555556,\"#d8576b\"],[0.6666666666666666,\"#ed7953\"],[0.7777777777777778,\"#fb9f3a\"],[0.8888888888888888,\"#fdca26\"],[1.0,\"#f0f921\"]],\"type\":\"heatmap\"}],\"heatmapgl\":[{\"colorbar\":{\"outlinewidth\":0,\"ticks\":\"\"},\"colorscale\":[[0.0,\"#0d0887\"],[0.1111111111111111,\"#46039f\"],[0.2222222222222222,\"#7201a8\"],[0.3333333333333333,\"#9c179e\"],[0.4444444444444444,\"#bd3786\"],[0.5555555555555556,\"#d8576b\"],[0.6666666666666666,\"#ed7953\"],[0.7777777777777778,\"#fb9f3a\"],[0.8888888888888888,\"#fdca26\"],[1.0,\"#f0f921\"]],\"type\":\"heatmapgl\"}],\"histogram\":[{\"marker\":{\"pattern\":{\"fillmode\":\"overlay\",\"size\":10,\"solidity\":0.2}},\"type\":\"histogram\"}],\"histogram2d\":[{\"colorbar\":{\"outlinewidth\":0,\"ticks\":\"\"},\"colorscale\":[[0.0,\"#0d0887\"],[0.1111111111111111,\"#46039f\"],[0.2222222222222222,\"#7201a8\"],[0.3333333333333333,\"#9c179e\"],[0.4444444444444444,\"#bd3786\"],[0.5555555555555556,\"#d8576b\"],[0.6666666666666666,\"#ed7953\"],[0.7777777777777778,\"#fb9f3a\"],[0.8888888888888888,\"#fdca26\"],[1.0,\"#f0f921\"]],\"type\":\"histogram2d\"}],\"histogram2dcontour\":[{\"colorbar\":{\"outlinewidth\":0,\"ticks\":\"\"},\"colorscale\":[[0.0,\"#0d0887\"],[0.1111111111111111,\"#46039f\"],[0.2222222222222222,\"#7201a8\"],[0.3333333333333333,\"#9c179e\"],[0.4444444444444444,\"#bd3786\"],[0.5555555555555556,\"#d8576b\"],[0.6666666666666666,\"#ed7953\"],[0.7777777777777778,\"#fb9f3a\"],[0.8888888888888888,\"#fdca26\"],[1.0,\"#f0f921\"]],\"type\":\"histogram2dcontour\"}],\"mesh3d\":[{\"colorbar\":{\"outlinewidth\":0,\"ticks\":\"\"},\"type\":\"mesh3d\"}],\"parcoords\":[{\"line\":{\"colorbar\":{\"outlinewidth\":0,\"ticks\":\"\"}},\"type\":\"parcoords\"}],\"pie\":[{\"automargin\":true,\"type\":\"pie\"}],\"scatter\":[{\"marker\":{\"colorbar\":{\"outlinewidth\":0,\"ticks\":\"\"}},\"type\":\"scatter\"}],\"scatter3d\":[{\"line\":{\"colorbar\":{\"outlinewidth\":0,\"ticks\":\"\"}},\"marker\":{\"colorbar\":{\"outlinewidth\":0,\"ticks\":\"\"}},\"type\":\"scatter3d\"}],\"scattercarpet\":[{\"marker\":{\"colorbar\":{\"outlinewidth\":0,\"ticks\":\"\"}},\"type\":\"scattercarpet\"}],\"scattergeo\":[{\"marker\":{\"colorbar\":{\"outlinewidth\":0,\"ticks\":\"\"}},\"type\":\"scattergeo\"}],\"scattergl\":[{\"marker\":{\"colorbar\":{\"outlinewidth\":0,\"ticks\":\"\"}},\"type\":\"scattergl\"}],\"scattermapbox\":[{\"marker\":{\"colorbar\":{\"outlinewidth\":0,\"ticks\":\"\"}},\"type\":\"scattermapbox\"}],\"scatterpolar\":[{\"marker\":{\"colorbar\":{\"outlinewidth\":0,\"ticks\":\"\"}},\"type\":\"scatterpolar\"}],\"scatterpolargl\":[{\"marker\":{\"colorbar\":{\"outlinewidth\":0,\"ticks\":\"\"}},\"type\":\"scatterpolargl\"}],\"scatterternary\":[{\"marker\":{\"colorbar\":{\"outlinewidth\":0,\"ticks\":\"\"}},\"type\":\"scatterternary\"}],\"surface\":[{\"colorbar\":{\"outlinewidth\":0,\"ticks\":\"\"},\"colorscale\":[[0.0,\"#0d0887\"],[0.1111111111111111,\"#46039f\"],[0.2222222222222222,\"#7201a8\"],[0.3333333333333333,\"#9c179e\"],[0.4444444444444444,\"#bd3786\"],[0.5555555555555556,\"#d8576b\"],[0.6666666666666666,\"#ed7953\"],[0.7777777777777778,\"#fb9f3a\"],[0.8888888888888888,\"#fdca26\"],[1.0,\"#f0f921\"]],\"type\":\"surface\"}],\"table\":[{\"cells\":{\"fill\":{\"color\":\"#EBF0F8\"},\"line\":{\"color\":\"white\"}},\"header\":{\"fill\":{\"color\":\"#C8D4E3\"},\"line\":{\"color\":\"white\"}},\"type\":\"table\"}]},\"layout\":{\"annotationdefaults\":{\"arrowcolor\":\"#2a3f5f\",\"arrowhead\":0,\"arrowwidth\":1},\"autotypenumbers\":\"strict\",\"coloraxis\":{\"colorbar\":{\"outlinewidth\":0,\"ticks\":\"\"}},\"colorscale\":{\"diverging\":[[0,\"#8e0152\"],[0.1,\"#c51b7d\"],[0.2,\"#de77ae\"],[0.3,\"#f1b6da\"],[0.4,\"#fde0ef\"],[0.5,\"#f7f7f7\"],[0.6,\"#e6f5d0\"],[0.7,\"#b8e186\"],[0.8,\"#7fbc41\"],[0.9,\"#4d9221\"],[1,\"#276419\"]],\"sequential\":[[0.0,\"#0d0887\"],[0.1111111111111111,\"#46039f\"],[0.2222222222222222,\"#7201a8\"],[0.3333333333333333,\"#9c179e\"],[0.4444444444444444,\"#bd3786\"],[0.5555555555555556,\"#d8576b\"],[0.6666666666666666,\"#ed7953\"],[0.7777777777777778,\"#fb9f3a\"],[0.8888888888888888,\"#fdca26\"],[1.0,\"#f0f921\"]],\"sequentialminus\":[[0.0,\"#0d0887\"],[0.1111111111111111,\"#46039f\"],[0.2222222222222222,\"#7201a8\"],[0.3333333333333333,\"#9c179e\"],[0.4444444444444444,\"#bd3786\"],[0.5555555555555556,\"#d8576b\"],[0.6666666666666666,\"#ed7953\"],[0.7777777777777778,\"#fb9f3a\"],[0.8888888888888888,\"#fdca26\"],[1.0,\"#f0f921\"]]},\"colorway\":[\"#636efa\",\"#EF553B\",\"#00cc96\",\"#ab63fa\",\"#FFA15A\",\"#19d3f3\",\"#FF6692\",\"#B6E880\",\"#FF97FF\",\"#FECB52\"],\"font\":{\"color\":\"#2a3f5f\"},\"geo\":{\"bgcolor\":\"white\",\"lakecolor\":\"white\",\"landcolor\":\"#E5ECF6\",\"showlakes\":true,\"showland\":true,\"subunitcolor\":\"white\"},\"hoverlabel\":{\"align\":\"left\"},\"hovermode\":\"closest\",\"mapbox\":{\"style\":\"light\"},\"paper_bgcolor\":\"white\",\"plot_bgcolor\":\"#E5ECF6\",\"polar\":{\"angularaxis\":{\"gridcolor\":\"white\",\"linecolor\":\"white\",\"ticks\":\"\"},\"bgcolor\":\"#E5ECF6\",\"radialaxis\":{\"gridcolor\":\"white\",\"linecolor\":\"white\",\"ticks\":\"\"}},\"scene\":{\"xaxis\":{\"backgroundcolor\":\"#E5ECF6\",\"gridcolor\":\"white\",\"gridwidth\":2,\"linecolor\":\"white\",\"showbackground\":true,\"ticks\":\"\",\"zerolinecolor\":\"white\"},\"yaxis\":{\"backgroundcolor\":\"#E5ECF6\",\"gridcolor\":\"white\",\"gridwidth\":2,\"linecolor\":\"white\",\"showbackground\":true,\"ticks\":\"\",\"zerolinecolor\":\"white\"},\"zaxis\":{\"backgroundcolor\":\"#E5ECF6\",\"gridcolor\":\"white\",\"gridwidth\":2,\"linecolor\":\"white\",\"showbackground\":true,\"ticks\":\"\",\"zerolinecolor\":\"white\"}},\"shapedefaults\":{\"line\":{\"color\":\"#2a3f5f\"}},\"ternary\":{\"aaxis\":{\"gridcolor\":\"white\",\"linecolor\":\"white\",\"ticks\":\"\"},\"baxis\":{\"gridcolor\":\"white\",\"linecolor\":\"white\",\"ticks\":\"\"},\"bgcolor\":\"#E5ECF6\",\"caxis\":{\"gridcolor\":\"white\",\"linecolor\":\"white\",\"ticks\":\"\"}},\"title\":{\"x\":0.05},\"xaxis\":{\"automargin\":true,\"gridcolor\":\"white\",\"linecolor\":\"white\",\"ticks\":\"\",\"title\":{\"standoff\":15},\"zerolinecolor\":\"white\",\"zerolinewidth\":2},\"yaxis\":{\"automargin\":true,\"gridcolor\":\"white\",\"linecolor\":\"white\",\"ticks\":\"\",\"title\":{\"standoff\":15},\"zerolinecolor\":\"white\",\"zerolinewidth\":2}}},\"xaxis\":{\"anchor\":\"y\",\"domain\":[0.0,1.0],\"title\":{\"text\":\"Assistant Professor Comp\"}},\"yaxis\":{\"anchor\":\"x\",\"domain\":[0.0,1.0],\"title\":{\"text\":\"count\"}},\"legend\":{\"tracegroupgap\":0},\"title\":{\"text\":\"Count of Assistant Professor Compensations\"},\"barmode\":\"relative\"},                        {\"responsive\": true}                    ).then(function(){\n",
       "                            \n",
       "var gd = document.getElementById('4b11978b-01f6-464e-a4b5-25de58e04bf7');\n",
       "var x = new MutationObserver(function (mutations, observer) {{\n",
       "        var display = window.getComputedStyle(gd).display;\n",
       "        if (!display || display === 'none') {{\n",
       "            console.log([gd, 'removed!']);\n",
       "            Plotly.purge(gd);\n",
       "            observer.disconnect();\n",
       "        }}\n",
       "}});\n",
       "\n",
       "// Listen for the removal of the full notebook cells\n",
       "var notebookContainer = gd.closest('#notebook-container');\n",
       "if (notebookContainer) {{\n",
       "    x.observe(notebookContainer, {childList: true});\n",
       "}}\n",
       "\n",
       "// Listen for the clearing of the current output cell\n",
       "var outputEl = gd.closest('.output');\n",
       "if (outputEl) {{\n",
       "    x.observe(outputEl, {childList: true});\n",
       "}}\n",
       "\n",
       "                        })                };                });            </script>        </div>"
      ]
     },
     "metadata": {},
     "output_type": "display_data"
    },
    {
     "data": {
      "application/vnd.plotly.v1+json": {
       "config": {
        "plotlyServerURL": "https://plot.ly"
       },
       "data": [
        {
         "alignmentgroup": "True",
         "bingroup": "x",
         "hovertemplate": "All Rank Comp=%{x}<br>count=%{y}<extra></extra>",
         "legendgroup": "",
         "marker": {
          "color": "#636efa",
          "pattern": {
           "shape": ""
          }
         },
         "name": "",
         "nbinsx": 100,
         "offsetgroup": "",
         "orientation": "v",
         "showlegend": false,
         "texttemplate": "%{value}",
         "type": "histogram",
         "x": [
          487,
          677,
          559,
          670,
          423,
          477,
          478,
          546,
          523,
          503,
          366,
          493,
          363,
          363,
          362,
          578,
          449,
          335,
          426,
          387,
          580,
          587,
          548,
          504,
          483,
          428,
          419,
          471,
          498,
          482,
          391,
          477,
          562,
          426,
          504,
          435,
          453,
          550,
          460,
          363,
          593,
          507,
          645,
          488,
          464,
          1075,
          507,
          690,
          699,
          685,
          705,
          721,
          707,
          707,
          699,
          688,
          693,
          669,
          699,
          656,
          751,
          805,
          695,
          708,
          658,
          535,
          413,
          494,
          612,
          621,
          403,
          549,
          829,
          618,
          1000,
          799,
          689,
          705,
          748,
          632,
          732,
          639,
          711,
          660,
          610,
          680,
          729,
          825,
          570,
          526,
          642,
          684,
          637,
          725,
          754,
          444,
          665,
          458,
          617,
          460,
          410,
          498,
          527,
          468,
          649,
          620,
          490,
          558,
          576,
          680,
          654,
          778,
          721,
          596,
          701,
          553,
          678,
          517,
          704,
          553,
          558,
          761,
          714,
          863,
          673,
          570,
          637,
          733,
          785,
          587,
          415,
          604,
          515,
          721,
          456,
          477,
          480,
          446,
          540,
          601,
          563,
          463,
          616,
          564,
          605,
          653,
          659,
          591,
          497,
          545,
          507,
          412,
          562,
          547,
          528,
          484,
          434,
          489,
          509,
          515,
          753,
          487,
          711,
          511,
          453,
          624,
          506,
          540,
          546,
          379,
          607,
          500,
          502,
          479,
          484,
          719,
          598,
          398,
          486,
          483,
          407,
          570,
          574,
          472,
          600,
          418,
          416,
          638,
          666,
          445,
          531,
          425,
          405,
          434,
          504,
          450,
          561,
          396,
          723,
          451,
          363,
          498,
          428,
          471,
          436,
          550,
          517,
          447,
          474,
          529,
          489,
          435,
          648,
          428,
          422,
          502,
          636,
          541,
          455,
          399,
          572,
          438,
          544,
          662,
          437,
          701,
          318,
          467,
          472,
          464,
          405,
          497,
          431,
          515,
          868,
          395,
          490,
          427,
          531,
          468,
          500,
          531,
          511,
          531,
          916,
          659,
          596,
          493,
          574,
          591,
          516,
          437,
          501,
          544,
          587,
          551,
          496,
          477,
          418,
          395,
          524,
          444,
          469,
          491,
          685,
          503,
          599,
          504,
          522,
          537,
          540,
          420,
          411,
          418,
          722,
          530,
          715,
          443,
          353,
          290,
          505,
          480,
          415,
          787,
          548,
          637,
          545,
          397,
          350,
          358,
          474,
          477,
          471,
          554,
          340,
          342,
          338,
          380,
          335,
          603,
          561,
          514,
          372,
          342,
          482,
          525,
          347,
          363,
          532,
          355,
          555,
          420,
          474,
          405,
          472,
          503,
          367,
          521,
          335,
          628,
          584,
          382,
          524,
          478,
          512,
          406,
          412,
          391,
          440,
          467,
          559,
          458,
          483,
          587,
          446,
          418,
          403,
          421,
          387,
          699,
          483,
          413,
          434,
          774,
          416,
          492,
          510,
          790,
          712,
          466,
          761,
          435,
          686,
          651,
          415,
          644,
          632,
          505,
          989,
          717,
          951,
          617,
          560,
          546,
          578,
          593,
          678,
          705,
          513,
          593,
          747,
          665,
          467,
          539,
          777,
          777,
          762,
          686,
          779,
          682,
          601,
          505,
          719,
          693,
          515,
          419,
          329,
          554,
          530,
          518,
          502,
          734,
          617,
          571,
          448,
          513,
          526,
          573,
          600,
          719,
          669,
          577,
          482,
          562,
          530,
          440,
          635,
          682,
          629,
          496,
          456,
          374,
          434,
          566,
          462,
          340,
          578,
          493,
          589,
          527,
          392,
          571,
          648,
          369,
          605,
          628,
          371,
          604,
          585,
          571,
          459,
          429,
          732,
          671,
          557,
          619,
          710,
          580,
          400,
          582,
          555,
          669,
          633,
          442,
          760,
          450,
          539,
          659,
          468,
          427,
          436,
          508,
          496,
          433,
          518,
          583,
          645,
          580,
          540,
          441,
          602,
          570,
          532,
          473,
          543,
          606,
          522,
          547,
          719,
          503,
          377,
          374,
          526,
          364,
          388,
          460,
          377,
          381,
          392,
          442,
          476,
          474,
          473,
          461,
          356,
          448,
          482,
          508,
          502,
          600,
          592,
          686,
          577,
          579,
          730,
          495,
          465,
          463,
          390,
          406,
          366,
          413,
          436,
          475,
          548,
          382,
          318,
          318,
          537,
          520,
          394,
          364,
          430,
          512,
          498,
          411,
          474,
          386,
          526,
          518,
          510,
          365,
          347,
          384,
          375,
          418,
          644,
          862,
          507,
          489,
          456,
          499,
          371,
          404,
          503,
          435,
          394,
          426,
          372,
          431,
          379,
          518,
          389,
          505,
          401,
          422,
          407,
          610,
          678,
          536,
          529,
          674,
          506,
          514,
          394,
          500,
          397,
          436,
          473,
          425,
          467,
          476,
          393,
          529,
          364,
          431,
          426,
          502,
          547,
          481,
          452,
          354,
          635,
          482,
          378,
          410,
          774,
          510,
          423,
          597,
          349,
          429,
          483,
          607,
          542,
          548,
          510,
          420,
          664,
          487,
          692,
          669,
          672,
          799,
          700,
          707,
          901,
          677,
          871,
          675,
          514,
          685,
          690,
          820,
          838,
          597,
          706,
          603,
          446,
          439,
          544,
          533,
          561,
          589,
          537,
          776,
          548,
          683,
          582,
          423,
          707,
          677,
          574,
          455,
          915,
          654,
          387,
          784,
          834,
          732,
          427,
          472,
          748,
          604,
          513,
          614,
          731,
          428,
          587,
          557,
          399,
          564,
          621,
          542,
          455,
          511,
          494,
          418,
          482,
          532,
          905,
          537,
          720,
          799,
          587,
          493,
          677,
          646,
          570,
          562,
          573,
          524,
          446,
          627,
          515,
          739,
          716,
          751,
          636,
          573,
          563,
          585,
          525,
          598,
          571,
          574,
          578,
          552,
          701,
          527,
          667,
          733,
          674,
          483,
          484,
          690,
          639,
          570,
          573,
          599,
          767,
          554,
          515,
          587,
          399,
          643,
          543,
          744,
          436,
          606,
          423,
          449,
          575,
          509,
          382,
          584,
          413,
          397,
          474,
          576,
          636,
          608,
          432,
          470,
          453,
          673,
          550,
          510,
          648,
          626,
          457,
          466,
          603,
          688,
          618,
          607,
          333,
          363,
          432,
          401,
          567,
          557,
          597,
          676,
          619,
          418,
          576,
          537,
          434,
          505,
          456,
          415,
          464,
          407,
          399,
          466,
          454,
          555,
          425,
          381,
          440,
          485,
          593,
          625,
          436,
          492,
          444,
          598,
          546,
          472,
          615,
          572,
          461,
          609,
          607,
          517,
          594,
          536,
          621,
          562,
          532,
          361,
          500,
          639,
          678,
          820,
          468,
          500,
          455,
          473,
          593,
          709,
          601,
          473,
          571,
          694,
          469,
          469,
          637,
          341,
          716,
          465,
          492,
          711,
          545,
          520,
          647,
          597,
          531,
          805,
          486,
          507,
          508,
          429,
          505,
          537,
          454,
          600,
          683,
          696,
          708,
          725,
          686,
          679,
          685,
          631,
          670,
          716,
          735,
          676,
          671,
          538,
          452,
          554,
          453,
          463,
          623,
          481,
          521,
          699,
          755,
          481,
          945,
          688,
          464,
          467,
          507,
          621,
          563,
          698,
          602,
          451,
          508,
          502,
          350,
          603,
          458,
          419,
          652,
          665,
          797,
          709,
          646,
          594,
          598,
          481,
          703,
          395,
          308,
          329,
          520,
          571,
          430,
          462,
          442,
          473,
          583,
          470,
          303,
          339,
          501,
          432,
          577,
          457,
          419,
          474,
          560,
          450,
          480,
          487,
          396,
          420,
          407,
          391,
          500,
          440,
          436,
          458,
          455,
          390,
          432,
          451,
          504,
          375,
          374,
          379,
          360,
          406,
          542,
          501,
          410,
          334,
          538,
          512,
          540,
          373,
          414,
          538,
          630,
          527,
          636,
          756,
          607,
          494,
          517,
          518,
          409,
          536,
          400,
          434,
          447,
          449,
          505,
          555,
          437,
          467,
          816,
          529,
          343,
          687,
          492,
          590,
          448,
          585,
          481,
          462,
          481,
          462,
          632,
          494,
          449,
          535,
          595,
          544,
          501,
          686,
          489,
          651,
          577,
          713,
          535,
          387,
          435,
          607,
          522,
          692,
          491,
          548,
          503,
          637,
          517,
          538,
          590,
          463,
          711,
          652,
          567,
          459,
          518,
          448,
          400,
          479,
          650,
          515,
          402,
          438,
          431,
          502,
          415,
          484,
          497,
          486,
          553,
          443,
          528,
          557,
          505,
          488,
          512,
          609,
          522,
          469,
          357,
          572,
          700,
          513,
          440,
          696,
          363,
          590,
          641,
          489,
          516,
          324,
          538,
          728,
          757,
          375,
          480,
          430,
          469,
          500,
          651,
          484,
          540,
          392,
          592,
          501,
          537,
          518,
          527,
          485,
          551,
          386,
          655,
          687,
          379,
          584,
          573,
          602,
          420,
          368,
          565,
          475,
          443,
          561,
          414,
          662,
          551,
          371,
          397,
          515,
          541,
          721,
          632,
          543,
          423,
          536,
          555,
          556,
          565,
          545,
          565,
          561,
          559,
          561,
          567,
          386,
          433,
          384,
          420,
          386,
          445,
          371,
          477,
          423,
          369,
          418,
          417,
          431,
          529,
          495,
          381,
          549
         ],
         "xaxis": "x",
         "yaxis": "y"
        }
       ],
       "layout": {
        "barmode": "relative",
        "legend": {
         "tracegroupgap": 0
        },
        "template": {
         "data": {
          "bar": [
           {
            "error_x": {
             "color": "#2a3f5f"
            },
            "error_y": {
             "color": "#2a3f5f"
            },
            "marker": {
             "line": {
              "color": "#E5ECF6",
              "width": 0.5
             },
             "pattern": {
              "fillmode": "overlay",
              "size": 10,
              "solidity": 0.2
             }
            },
            "type": "bar"
           }
          ],
          "barpolar": [
           {
            "marker": {
             "line": {
              "color": "#E5ECF6",
              "width": 0.5
             },
             "pattern": {
              "fillmode": "overlay",
              "size": 10,
              "solidity": 0.2
             }
            },
            "type": "barpolar"
           }
          ],
          "carpet": [
           {
            "aaxis": {
             "endlinecolor": "#2a3f5f",
             "gridcolor": "white",
             "linecolor": "white",
             "minorgridcolor": "white",
             "startlinecolor": "#2a3f5f"
            },
            "baxis": {
             "endlinecolor": "#2a3f5f",
             "gridcolor": "white",
             "linecolor": "white",
             "minorgridcolor": "white",
             "startlinecolor": "#2a3f5f"
            },
            "type": "carpet"
           }
          ],
          "choropleth": [
           {
            "colorbar": {
             "outlinewidth": 0,
             "ticks": ""
            },
            "type": "choropleth"
           }
          ],
          "contour": [
           {
            "colorbar": {
             "outlinewidth": 0,
             "ticks": ""
            },
            "colorscale": [
             [
              0,
              "#0d0887"
             ],
             [
              0.1111111111111111,
              "#46039f"
             ],
             [
              0.2222222222222222,
              "#7201a8"
             ],
             [
              0.3333333333333333,
              "#9c179e"
             ],
             [
              0.4444444444444444,
              "#bd3786"
             ],
             [
              0.5555555555555556,
              "#d8576b"
             ],
             [
              0.6666666666666666,
              "#ed7953"
             ],
             [
              0.7777777777777778,
              "#fb9f3a"
             ],
             [
              0.8888888888888888,
              "#fdca26"
             ],
             [
              1,
              "#f0f921"
             ]
            ],
            "type": "contour"
           }
          ],
          "contourcarpet": [
           {
            "colorbar": {
             "outlinewidth": 0,
             "ticks": ""
            },
            "type": "contourcarpet"
           }
          ],
          "heatmap": [
           {
            "colorbar": {
             "outlinewidth": 0,
             "ticks": ""
            },
            "colorscale": [
             [
              0,
              "#0d0887"
             ],
             [
              0.1111111111111111,
              "#46039f"
             ],
             [
              0.2222222222222222,
              "#7201a8"
             ],
             [
              0.3333333333333333,
              "#9c179e"
             ],
             [
              0.4444444444444444,
              "#bd3786"
             ],
             [
              0.5555555555555556,
              "#d8576b"
             ],
             [
              0.6666666666666666,
              "#ed7953"
             ],
             [
              0.7777777777777778,
              "#fb9f3a"
             ],
             [
              0.8888888888888888,
              "#fdca26"
             ],
             [
              1,
              "#f0f921"
             ]
            ],
            "type": "heatmap"
           }
          ],
          "heatmapgl": [
           {
            "colorbar": {
             "outlinewidth": 0,
             "ticks": ""
            },
            "colorscale": [
             [
              0,
              "#0d0887"
             ],
             [
              0.1111111111111111,
              "#46039f"
             ],
             [
              0.2222222222222222,
              "#7201a8"
             ],
             [
              0.3333333333333333,
              "#9c179e"
             ],
             [
              0.4444444444444444,
              "#bd3786"
             ],
             [
              0.5555555555555556,
              "#d8576b"
             ],
             [
              0.6666666666666666,
              "#ed7953"
             ],
             [
              0.7777777777777778,
              "#fb9f3a"
             ],
             [
              0.8888888888888888,
              "#fdca26"
             ],
             [
              1,
              "#f0f921"
             ]
            ],
            "type": "heatmapgl"
           }
          ],
          "histogram": [
           {
            "marker": {
             "pattern": {
              "fillmode": "overlay",
              "size": 10,
              "solidity": 0.2
             }
            },
            "type": "histogram"
           }
          ],
          "histogram2d": [
           {
            "colorbar": {
             "outlinewidth": 0,
             "ticks": ""
            },
            "colorscale": [
             [
              0,
              "#0d0887"
             ],
             [
              0.1111111111111111,
              "#46039f"
             ],
             [
              0.2222222222222222,
              "#7201a8"
             ],
             [
              0.3333333333333333,
              "#9c179e"
             ],
             [
              0.4444444444444444,
              "#bd3786"
             ],
             [
              0.5555555555555556,
              "#d8576b"
             ],
             [
              0.6666666666666666,
              "#ed7953"
             ],
             [
              0.7777777777777778,
              "#fb9f3a"
             ],
             [
              0.8888888888888888,
              "#fdca26"
             ],
             [
              1,
              "#f0f921"
             ]
            ],
            "type": "histogram2d"
           }
          ],
          "histogram2dcontour": [
           {
            "colorbar": {
             "outlinewidth": 0,
             "ticks": ""
            },
            "colorscale": [
             [
              0,
              "#0d0887"
             ],
             [
              0.1111111111111111,
              "#46039f"
             ],
             [
              0.2222222222222222,
              "#7201a8"
             ],
             [
              0.3333333333333333,
              "#9c179e"
             ],
             [
              0.4444444444444444,
              "#bd3786"
             ],
             [
              0.5555555555555556,
              "#d8576b"
             ],
             [
              0.6666666666666666,
              "#ed7953"
             ],
             [
              0.7777777777777778,
              "#fb9f3a"
             ],
             [
              0.8888888888888888,
              "#fdca26"
             ],
             [
              1,
              "#f0f921"
             ]
            ],
            "type": "histogram2dcontour"
           }
          ],
          "mesh3d": [
           {
            "colorbar": {
             "outlinewidth": 0,
             "ticks": ""
            },
            "type": "mesh3d"
           }
          ],
          "parcoords": [
           {
            "line": {
             "colorbar": {
              "outlinewidth": 0,
              "ticks": ""
             }
            },
            "type": "parcoords"
           }
          ],
          "pie": [
           {
            "automargin": true,
            "type": "pie"
           }
          ],
          "scatter": [
           {
            "marker": {
             "colorbar": {
              "outlinewidth": 0,
              "ticks": ""
             }
            },
            "type": "scatter"
           }
          ],
          "scatter3d": [
           {
            "line": {
             "colorbar": {
              "outlinewidth": 0,
              "ticks": ""
             }
            },
            "marker": {
             "colorbar": {
              "outlinewidth": 0,
              "ticks": ""
             }
            },
            "type": "scatter3d"
           }
          ],
          "scattercarpet": [
           {
            "marker": {
             "colorbar": {
              "outlinewidth": 0,
              "ticks": ""
             }
            },
            "type": "scattercarpet"
           }
          ],
          "scattergeo": [
           {
            "marker": {
             "colorbar": {
              "outlinewidth": 0,
              "ticks": ""
             }
            },
            "type": "scattergeo"
           }
          ],
          "scattergl": [
           {
            "marker": {
             "colorbar": {
              "outlinewidth": 0,
              "ticks": ""
             }
            },
            "type": "scattergl"
           }
          ],
          "scattermapbox": [
           {
            "marker": {
             "colorbar": {
              "outlinewidth": 0,
              "ticks": ""
             }
            },
            "type": "scattermapbox"
           }
          ],
          "scatterpolar": [
           {
            "marker": {
             "colorbar": {
              "outlinewidth": 0,
              "ticks": ""
             }
            },
            "type": "scatterpolar"
           }
          ],
          "scatterpolargl": [
           {
            "marker": {
             "colorbar": {
              "outlinewidth": 0,
              "ticks": ""
             }
            },
            "type": "scatterpolargl"
           }
          ],
          "scatterternary": [
           {
            "marker": {
             "colorbar": {
              "outlinewidth": 0,
              "ticks": ""
             }
            },
            "type": "scatterternary"
           }
          ],
          "surface": [
           {
            "colorbar": {
             "outlinewidth": 0,
             "ticks": ""
            },
            "colorscale": [
             [
              0,
              "#0d0887"
             ],
             [
              0.1111111111111111,
              "#46039f"
             ],
             [
              0.2222222222222222,
              "#7201a8"
             ],
             [
              0.3333333333333333,
              "#9c179e"
             ],
             [
              0.4444444444444444,
              "#bd3786"
             ],
             [
              0.5555555555555556,
              "#d8576b"
             ],
             [
              0.6666666666666666,
              "#ed7953"
             ],
             [
              0.7777777777777778,
              "#fb9f3a"
             ],
             [
              0.8888888888888888,
              "#fdca26"
             ],
             [
              1,
              "#f0f921"
             ]
            ],
            "type": "surface"
           }
          ],
          "table": [
           {
            "cells": {
             "fill": {
              "color": "#EBF0F8"
             },
             "line": {
              "color": "white"
             }
            },
            "header": {
             "fill": {
              "color": "#C8D4E3"
             },
             "line": {
              "color": "white"
             }
            },
            "type": "table"
           }
          ]
         },
         "layout": {
          "annotationdefaults": {
           "arrowcolor": "#2a3f5f",
           "arrowhead": 0,
           "arrowwidth": 1
          },
          "autotypenumbers": "strict",
          "coloraxis": {
           "colorbar": {
            "outlinewidth": 0,
            "ticks": ""
           }
          },
          "colorscale": {
           "diverging": [
            [
             0,
             "#8e0152"
            ],
            [
             0.1,
             "#c51b7d"
            ],
            [
             0.2,
             "#de77ae"
            ],
            [
             0.3,
             "#f1b6da"
            ],
            [
             0.4,
             "#fde0ef"
            ],
            [
             0.5,
             "#f7f7f7"
            ],
            [
             0.6,
             "#e6f5d0"
            ],
            [
             0.7,
             "#b8e186"
            ],
            [
             0.8,
             "#7fbc41"
            ],
            [
             0.9,
             "#4d9221"
            ],
            [
             1,
             "#276419"
            ]
           ],
           "sequential": [
            [
             0,
             "#0d0887"
            ],
            [
             0.1111111111111111,
             "#46039f"
            ],
            [
             0.2222222222222222,
             "#7201a8"
            ],
            [
             0.3333333333333333,
             "#9c179e"
            ],
            [
             0.4444444444444444,
             "#bd3786"
            ],
            [
             0.5555555555555556,
             "#d8576b"
            ],
            [
             0.6666666666666666,
             "#ed7953"
            ],
            [
             0.7777777777777778,
             "#fb9f3a"
            ],
            [
             0.8888888888888888,
             "#fdca26"
            ],
            [
             1,
             "#f0f921"
            ]
           ],
           "sequentialminus": [
            [
             0,
             "#0d0887"
            ],
            [
             0.1111111111111111,
             "#46039f"
            ],
            [
             0.2222222222222222,
             "#7201a8"
            ],
            [
             0.3333333333333333,
             "#9c179e"
            ],
            [
             0.4444444444444444,
             "#bd3786"
            ],
            [
             0.5555555555555556,
             "#d8576b"
            ],
            [
             0.6666666666666666,
             "#ed7953"
            ],
            [
             0.7777777777777778,
             "#fb9f3a"
            ],
            [
             0.8888888888888888,
             "#fdca26"
            ],
            [
             1,
             "#f0f921"
            ]
           ]
          },
          "colorway": [
           "#636efa",
           "#EF553B",
           "#00cc96",
           "#ab63fa",
           "#FFA15A",
           "#19d3f3",
           "#FF6692",
           "#B6E880",
           "#FF97FF",
           "#FECB52"
          ],
          "font": {
           "color": "#2a3f5f"
          },
          "geo": {
           "bgcolor": "white",
           "lakecolor": "white",
           "landcolor": "#E5ECF6",
           "showlakes": true,
           "showland": true,
           "subunitcolor": "white"
          },
          "hoverlabel": {
           "align": "left"
          },
          "hovermode": "closest",
          "mapbox": {
           "style": "light"
          },
          "paper_bgcolor": "white",
          "plot_bgcolor": "#E5ECF6",
          "polar": {
           "angularaxis": {
            "gridcolor": "white",
            "linecolor": "white",
            "ticks": ""
           },
           "bgcolor": "#E5ECF6",
           "radialaxis": {
            "gridcolor": "white",
            "linecolor": "white",
            "ticks": ""
           }
          },
          "scene": {
           "xaxis": {
            "backgroundcolor": "#E5ECF6",
            "gridcolor": "white",
            "gridwidth": 2,
            "linecolor": "white",
            "showbackground": true,
            "ticks": "",
            "zerolinecolor": "white"
           },
           "yaxis": {
            "backgroundcolor": "#E5ECF6",
            "gridcolor": "white",
            "gridwidth": 2,
            "linecolor": "white",
            "showbackground": true,
            "ticks": "",
            "zerolinecolor": "white"
           },
           "zaxis": {
            "backgroundcolor": "#E5ECF6",
            "gridcolor": "white",
            "gridwidth": 2,
            "linecolor": "white",
            "showbackground": true,
            "ticks": "",
            "zerolinecolor": "white"
           }
          },
          "shapedefaults": {
           "line": {
            "color": "#2a3f5f"
           }
          },
          "ternary": {
           "aaxis": {
            "gridcolor": "white",
            "linecolor": "white",
            "ticks": ""
           },
           "baxis": {
            "gridcolor": "white",
            "linecolor": "white",
            "ticks": ""
           },
           "bgcolor": "#E5ECF6",
           "caxis": {
            "gridcolor": "white",
            "linecolor": "white",
            "ticks": ""
           }
          },
          "title": {
           "x": 0.05
          },
          "xaxis": {
           "automargin": true,
           "gridcolor": "white",
           "linecolor": "white",
           "ticks": "",
           "title": {
            "standoff": 15
           },
           "zerolinecolor": "white",
           "zerolinewidth": 2
          },
          "yaxis": {
           "automargin": true,
           "gridcolor": "white",
           "linecolor": "white",
           "ticks": "",
           "title": {
            "standoff": 15
           },
           "zerolinecolor": "white",
           "zerolinewidth": 2
          }
         }
        },
        "title": {
         "text": "Count of All Rank Compensations"
        },
        "xaxis": {
         "anchor": "y",
         "domain": [
          0,
          1
         ],
         "title": {
          "text": "All Rank Comp"
         }
        },
        "yaxis": {
         "anchor": "x",
         "domain": [
          0,
          1
         ],
         "title": {
          "text": "count"
         }
        }
       }
      },
      "text/html": [
       "<div>                            <div id=\"c0bcb198-3aa7-43d6-8ad9-a6e2688002f2\" class=\"plotly-graph-div\" style=\"height:525px; width:100%;\"></div>            <script type=\"text/javascript\">                require([\"plotly\"], function(Plotly) {                    window.PLOTLYENV=window.PLOTLYENV || {};                                    if (document.getElementById(\"c0bcb198-3aa7-43d6-8ad9-a6e2688002f2\")) {                    Plotly.newPlot(                        \"c0bcb198-3aa7-43d6-8ad9-a6e2688002f2\",                        [{\"alignmentgroup\":\"True\",\"bingroup\":\"x\",\"hovertemplate\":\"All Rank Comp=%{x}<br>count=%{y}<extra></extra>\",\"legendgroup\":\"\",\"marker\":{\"color\":\"#636efa\",\"pattern\":{\"shape\":\"\"}},\"name\":\"\",\"nbinsx\":100,\"offsetgroup\":\"\",\"orientation\":\"v\",\"showlegend\":false,\"texttemplate\":\"%{value}\",\"x\":[487,677,559,670,423,477,478,546,523,503,366,493,363,363,362,578,449,335,426,387,580,587,548,504,483,428,419,471,498,482,391,477,562,426,504,435,453,550,460,363,593,507,645,488,464,1075,507,690,699,685,705,721,707,707,699,688,693,669,699,656,751,805,695,708,658,535,413,494,612,621,403,549,829,618,1000,799,689,705,748,632,732,639,711,660,610,680,729,825,570,526,642,684,637,725,754,444,665,458,617,460,410,498,527,468,649,620,490,558,576,680,654,778,721,596,701,553,678,517,704,553,558,761,714,863,673,570,637,733,785,587,415,604,515,721,456,477,480,446,540,601,563,463,616,564,605,653,659,591,497,545,507,412,562,547,528,484,434,489,509,515,753,487,711,511,453,624,506,540,546,379,607,500,502,479,484,719,598,398,486,483,407,570,574,472,600,418,416,638,666,445,531,425,405,434,504,450,561,396,723,451,363,498,428,471,436,550,517,447,474,529,489,435,648,428,422,502,636,541,455,399,572,438,544,662,437,701,318,467,472,464,405,497,431,515,868,395,490,427,531,468,500,531,511,531,916,659,596,493,574,591,516,437,501,544,587,551,496,477,418,395,524,444,469,491,685,503,599,504,522,537,540,420,411,418,722,530,715,443,353,290,505,480,415,787,548,637,545,397,350,358,474,477,471,554,340,342,338,380,335,603,561,514,372,342,482,525,347,363,532,355,555,420,474,405,472,503,367,521,335,628,584,382,524,478,512,406,412,391,440,467,559,458,483,587,446,418,403,421,387,699,483,413,434,774,416,492,510,790,712,466,761,435,686,651,415,644,632,505,989,717,951,617,560,546,578,593,678,705,513,593,747,665,467,539,777,777,762,686,779,682,601,505,719,693,515,419,329,554,530,518,502,734,617,571,448,513,526,573,600,719,669,577,482,562,530,440,635,682,629,496,456,374,434,566,462,340,578,493,589,527,392,571,648,369,605,628,371,604,585,571,459,429,732,671,557,619,710,580,400,582,555,669,633,442,760,450,539,659,468,427,436,508,496,433,518,583,645,580,540,441,602,570,532,473,543,606,522,547,719,503,377,374,526,364,388,460,377,381,392,442,476,474,473,461,356,448,482,508,502,600,592,686,577,579,730,495,465,463,390,406,366,413,436,475,548,382,318,318,537,520,394,364,430,512,498,411,474,386,526,518,510,365,347,384,375,418,644,862,507,489,456,499,371,404,503,435,394,426,372,431,379,518,389,505,401,422,407,610,678,536,529,674,506,514,394,500,397,436,473,425,467,476,393,529,364,431,426,502,547,481,452,354,635,482,378,410,774,510,423,597,349,429,483,607,542,548,510,420,664,487,692,669,672,799,700,707,901,677,871,675,514,685,690,820,838,597,706,603,446,439,544,533,561,589,537,776,548,683,582,423,707,677,574,455,915,654,387,784,834,732,427,472,748,604,513,614,731,428,587,557,399,564,621,542,455,511,494,418,482,532,905,537,720,799,587,493,677,646,570,562,573,524,446,627,515,739,716,751,636,573,563,585,525,598,571,574,578,552,701,527,667,733,674,483,484,690,639,570,573,599,767,554,515,587,399,643,543,744,436,606,423,449,575,509,382,584,413,397,474,576,636,608,432,470,453,673,550,510,648,626,457,466,603,688,618,607,333,363,432,401,567,557,597,676,619,418,576,537,434,505,456,415,464,407,399,466,454,555,425,381,440,485,593,625,436,492,444,598,546,472,615,572,461,609,607,517,594,536,621,562,532,361,500,639,678,820,468,500,455,473,593,709,601,473,571,694,469,469,637,341,716,465,492,711,545,520,647,597,531,805,486,507,508,429,505,537,454,600,683,696,708,725,686,679,685,631,670,716,735,676,671,538,452,554,453,463,623,481,521,699,755,481,945,688,464,467,507,621,563,698,602,451,508,502,350,603,458,419,652,665,797,709,646,594,598,481,703,395,308,329,520,571,430,462,442,473,583,470,303,339,501,432,577,457,419,474,560,450,480,487,396,420,407,391,500,440,436,458,455,390,432,451,504,375,374,379,360,406,542,501,410,334,538,512,540,373,414,538,630,527,636,756,607,494,517,518,409,536,400,434,447,449,505,555,437,467,816,529,343,687,492,590,448,585,481,462,481,462,632,494,449,535,595,544,501,686,489,651,577,713,535,387,435,607,522,692,491,548,503,637,517,538,590,463,711,652,567,459,518,448,400,479,650,515,402,438,431,502,415,484,497,486,553,443,528,557,505,488,512,609,522,469,357,572,700,513,440,696,363,590,641,489,516,324,538,728,757,375,480,430,469,500,651,484,540,392,592,501,537,518,527,485,551,386,655,687,379,584,573,602,420,368,565,475,443,561,414,662,551,371,397,515,541,721,632,543,423,536,555,556,565,545,565,561,559,561,567,386,433,384,420,386,445,371,477,423,369,418,417,431,529,495,381,549],\"xaxis\":\"x\",\"yaxis\":\"y\",\"type\":\"histogram\"}],                        {\"template\":{\"data\":{\"bar\":[{\"error_x\":{\"color\":\"#2a3f5f\"},\"error_y\":{\"color\":\"#2a3f5f\"},\"marker\":{\"line\":{\"color\":\"#E5ECF6\",\"width\":0.5},\"pattern\":{\"fillmode\":\"overlay\",\"size\":10,\"solidity\":0.2}},\"type\":\"bar\"}],\"barpolar\":[{\"marker\":{\"line\":{\"color\":\"#E5ECF6\",\"width\":0.5},\"pattern\":{\"fillmode\":\"overlay\",\"size\":10,\"solidity\":0.2}},\"type\":\"barpolar\"}],\"carpet\":[{\"aaxis\":{\"endlinecolor\":\"#2a3f5f\",\"gridcolor\":\"white\",\"linecolor\":\"white\",\"minorgridcolor\":\"white\",\"startlinecolor\":\"#2a3f5f\"},\"baxis\":{\"endlinecolor\":\"#2a3f5f\",\"gridcolor\":\"white\",\"linecolor\":\"white\",\"minorgridcolor\":\"white\",\"startlinecolor\":\"#2a3f5f\"},\"type\":\"carpet\"}],\"choropleth\":[{\"colorbar\":{\"outlinewidth\":0,\"ticks\":\"\"},\"type\":\"choropleth\"}],\"contour\":[{\"colorbar\":{\"outlinewidth\":0,\"ticks\":\"\"},\"colorscale\":[[0.0,\"#0d0887\"],[0.1111111111111111,\"#46039f\"],[0.2222222222222222,\"#7201a8\"],[0.3333333333333333,\"#9c179e\"],[0.4444444444444444,\"#bd3786\"],[0.5555555555555556,\"#d8576b\"],[0.6666666666666666,\"#ed7953\"],[0.7777777777777778,\"#fb9f3a\"],[0.8888888888888888,\"#fdca26\"],[1.0,\"#f0f921\"]],\"type\":\"contour\"}],\"contourcarpet\":[{\"colorbar\":{\"outlinewidth\":0,\"ticks\":\"\"},\"type\":\"contourcarpet\"}],\"heatmap\":[{\"colorbar\":{\"outlinewidth\":0,\"ticks\":\"\"},\"colorscale\":[[0.0,\"#0d0887\"],[0.1111111111111111,\"#46039f\"],[0.2222222222222222,\"#7201a8\"],[0.3333333333333333,\"#9c179e\"],[0.4444444444444444,\"#bd3786\"],[0.5555555555555556,\"#d8576b\"],[0.6666666666666666,\"#ed7953\"],[0.7777777777777778,\"#fb9f3a\"],[0.8888888888888888,\"#fdca26\"],[1.0,\"#f0f921\"]],\"type\":\"heatmap\"}],\"heatmapgl\":[{\"colorbar\":{\"outlinewidth\":0,\"ticks\":\"\"},\"colorscale\":[[0.0,\"#0d0887\"],[0.1111111111111111,\"#46039f\"],[0.2222222222222222,\"#7201a8\"],[0.3333333333333333,\"#9c179e\"],[0.4444444444444444,\"#bd3786\"],[0.5555555555555556,\"#d8576b\"],[0.6666666666666666,\"#ed7953\"],[0.7777777777777778,\"#fb9f3a\"],[0.8888888888888888,\"#fdca26\"],[1.0,\"#f0f921\"]],\"type\":\"heatmapgl\"}],\"histogram\":[{\"marker\":{\"pattern\":{\"fillmode\":\"overlay\",\"size\":10,\"solidity\":0.2}},\"type\":\"histogram\"}],\"histogram2d\":[{\"colorbar\":{\"outlinewidth\":0,\"ticks\":\"\"},\"colorscale\":[[0.0,\"#0d0887\"],[0.1111111111111111,\"#46039f\"],[0.2222222222222222,\"#7201a8\"],[0.3333333333333333,\"#9c179e\"],[0.4444444444444444,\"#bd3786\"],[0.5555555555555556,\"#d8576b\"],[0.6666666666666666,\"#ed7953\"],[0.7777777777777778,\"#fb9f3a\"],[0.8888888888888888,\"#fdca26\"],[1.0,\"#f0f921\"]],\"type\":\"histogram2d\"}],\"histogram2dcontour\":[{\"colorbar\":{\"outlinewidth\":0,\"ticks\":\"\"},\"colorscale\":[[0.0,\"#0d0887\"],[0.1111111111111111,\"#46039f\"],[0.2222222222222222,\"#7201a8\"],[0.3333333333333333,\"#9c179e\"],[0.4444444444444444,\"#bd3786\"],[0.5555555555555556,\"#d8576b\"],[0.6666666666666666,\"#ed7953\"],[0.7777777777777778,\"#fb9f3a\"],[0.8888888888888888,\"#fdca26\"],[1.0,\"#f0f921\"]],\"type\":\"histogram2dcontour\"}],\"mesh3d\":[{\"colorbar\":{\"outlinewidth\":0,\"ticks\":\"\"},\"type\":\"mesh3d\"}],\"parcoords\":[{\"line\":{\"colorbar\":{\"outlinewidth\":0,\"ticks\":\"\"}},\"type\":\"parcoords\"}],\"pie\":[{\"automargin\":true,\"type\":\"pie\"}],\"scatter\":[{\"marker\":{\"colorbar\":{\"outlinewidth\":0,\"ticks\":\"\"}},\"type\":\"scatter\"}],\"scatter3d\":[{\"line\":{\"colorbar\":{\"outlinewidth\":0,\"ticks\":\"\"}},\"marker\":{\"colorbar\":{\"outlinewidth\":0,\"ticks\":\"\"}},\"type\":\"scatter3d\"}],\"scattercarpet\":[{\"marker\":{\"colorbar\":{\"outlinewidth\":0,\"ticks\":\"\"}},\"type\":\"scattercarpet\"}],\"scattergeo\":[{\"marker\":{\"colorbar\":{\"outlinewidth\":0,\"ticks\":\"\"}},\"type\":\"scattergeo\"}],\"scattergl\":[{\"marker\":{\"colorbar\":{\"outlinewidth\":0,\"ticks\":\"\"}},\"type\":\"scattergl\"}],\"scattermapbox\":[{\"marker\":{\"colorbar\":{\"outlinewidth\":0,\"ticks\":\"\"}},\"type\":\"scattermapbox\"}],\"scatterpolar\":[{\"marker\":{\"colorbar\":{\"outlinewidth\":0,\"ticks\":\"\"}},\"type\":\"scatterpolar\"}],\"scatterpolargl\":[{\"marker\":{\"colorbar\":{\"outlinewidth\":0,\"ticks\":\"\"}},\"type\":\"scatterpolargl\"}],\"scatterternary\":[{\"marker\":{\"colorbar\":{\"outlinewidth\":0,\"ticks\":\"\"}},\"type\":\"scatterternary\"}],\"surface\":[{\"colorbar\":{\"outlinewidth\":0,\"ticks\":\"\"},\"colorscale\":[[0.0,\"#0d0887\"],[0.1111111111111111,\"#46039f\"],[0.2222222222222222,\"#7201a8\"],[0.3333333333333333,\"#9c179e\"],[0.4444444444444444,\"#bd3786\"],[0.5555555555555556,\"#d8576b\"],[0.6666666666666666,\"#ed7953\"],[0.7777777777777778,\"#fb9f3a\"],[0.8888888888888888,\"#fdca26\"],[1.0,\"#f0f921\"]],\"type\":\"surface\"}],\"table\":[{\"cells\":{\"fill\":{\"color\":\"#EBF0F8\"},\"line\":{\"color\":\"white\"}},\"header\":{\"fill\":{\"color\":\"#C8D4E3\"},\"line\":{\"color\":\"white\"}},\"type\":\"table\"}]},\"layout\":{\"annotationdefaults\":{\"arrowcolor\":\"#2a3f5f\",\"arrowhead\":0,\"arrowwidth\":1},\"autotypenumbers\":\"strict\",\"coloraxis\":{\"colorbar\":{\"outlinewidth\":0,\"ticks\":\"\"}},\"colorscale\":{\"diverging\":[[0,\"#8e0152\"],[0.1,\"#c51b7d\"],[0.2,\"#de77ae\"],[0.3,\"#f1b6da\"],[0.4,\"#fde0ef\"],[0.5,\"#f7f7f7\"],[0.6,\"#e6f5d0\"],[0.7,\"#b8e186\"],[0.8,\"#7fbc41\"],[0.9,\"#4d9221\"],[1,\"#276419\"]],\"sequential\":[[0.0,\"#0d0887\"],[0.1111111111111111,\"#46039f\"],[0.2222222222222222,\"#7201a8\"],[0.3333333333333333,\"#9c179e\"],[0.4444444444444444,\"#bd3786\"],[0.5555555555555556,\"#d8576b\"],[0.6666666666666666,\"#ed7953\"],[0.7777777777777778,\"#fb9f3a\"],[0.8888888888888888,\"#fdca26\"],[1.0,\"#f0f921\"]],\"sequentialminus\":[[0.0,\"#0d0887\"],[0.1111111111111111,\"#46039f\"],[0.2222222222222222,\"#7201a8\"],[0.3333333333333333,\"#9c179e\"],[0.4444444444444444,\"#bd3786\"],[0.5555555555555556,\"#d8576b\"],[0.6666666666666666,\"#ed7953\"],[0.7777777777777778,\"#fb9f3a\"],[0.8888888888888888,\"#fdca26\"],[1.0,\"#f0f921\"]]},\"colorway\":[\"#636efa\",\"#EF553B\",\"#00cc96\",\"#ab63fa\",\"#FFA15A\",\"#19d3f3\",\"#FF6692\",\"#B6E880\",\"#FF97FF\",\"#FECB52\"],\"font\":{\"color\":\"#2a3f5f\"},\"geo\":{\"bgcolor\":\"white\",\"lakecolor\":\"white\",\"landcolor\":\"#E5ECF6\",\"showlakes\":true,\"showland\":true,\"subunitcolor\":\"white\"},\"hoverlabel\":{\"align\":\"left\"},\"hovermode\":\"closest\",\"mapbox\":{\"style\":\"light\"},\"paper_bgcolor\":\"white\",\"plot_bgcolor\":\"#E5ECF6\",\"polar\":{\"angularaxis\":{\"gridcolor\":\"white\",\"linecolor\":\"white\",\"ticks\":\"\"},\"bgcolor\":\"#E5ECF6\",\"radialaxis\":{\"gridcolor\":\"white\",\"linecolor\":\"white\",\"ticks\":\"\"}},\"scene\":{\"xaxis\":{\"backgroundcolor\":\"#E5ECF6\",\"gridcolor\":\"white\",\"gridwidth\":2,\"linecolor\":\"white\",\"showbackground\":true,\"ticks\":\"\",\"zerolinecolor\":\"white\"},\"yaxis\":{\"backgroundcolor\":\"#E5ECF6\",\"gridcolor\":\"white\",\"gridwidth\":2,\"linecolor\":\"white\",\"showbackground\":true,\"ticks\":\"\",\"zerolinecolor\":\"white\"},\"zaxis\":{\"backgroundcolor\":\"#E5ECF6\",\"gridcolor\":\"white\",\"gridwidth\":2,\"linecolor\":\"white\",\"showbackground\":true,\"ticks\":\"\",\"zerolinecolor\":\"white\"}},\"shapedefaults\":{\"line\":{\"color\":\"#2a3f5f\"}},\"ternary\":{\"aaxis\":{\"gridcolor\":\"white\",\"linecolor\":\"white\",\"ticks\":\"\"},\"baxis\":{\"gridcolor\":\"white\",\"linecolor\":\"white\",\"ticks\":\"\"},\"bgcolor\":\"#E5ECF6\",\"caxis\":{\"gridcolor\":\"white\",\"linecolor\":\"white\",\"ticks\":\"\"}},\"title\":{\"x\":0.05},\"xaxis\":{\"automargin\":true,\"gridcolor\":\"white\",\"linecolor\":\"white\",\"ticks\":\"\",\"title\":{\"standoff\":15},\"zerolinecolor\":\"white\",\"zerolinewidth\":2},\"yaxis\":{\"automargin\":true,\"gridcolor\":\"white\",\"linecolor\":\"white\",\"ticks\":\"\",\"title\":{\"standoff\":15},\"zerolinecolor\":\"white\",\"zerolinewidth\":2}}},\"xaxis\":{\"anchor\":\"y\",\"domain\":[0.0,1.0],\"title\":{\"text\":\"All Rank Comp\"}},\"yaxis\":{\"anchor\":\"x\",\"domain\":[0.0,1.0],\"title\":{\"text\":\"count\"}},\"legend\":{\"tracegroupgap\":0},\"title\":{\"text\":\"Count of All Rank Compensations\"},\"barmode\":\"relative\"},                        {\"responsive\": true}                    ).then(function(){\n",
       "                            \n",
       "var gd = document.getElementById('c0bcb198-3aa7-43d6-8ad9-a6e2688002f2');\n",
       "var x = new MutationObserver(function (mutations, observer) {{\n",
       "        var display = window.getComputedStyle(gd).display;\n",
       "        if (!display || display === 'none') {{\n",
       "            console.log([gd, 'removed!']);\n",
       "            Plotly.purge(gd);\n",
       "            observer.disconnect();\n",
       "        }}\n",
       "}});\n",
       "\n",
       "// Listen for the removal of the full notebook cells\n",
       "var notebookContainer = gd.closest('#notebook-container');\n",
       "if (notebookContainer) {{\n",
       "    x.observe(notebookContainer, {childList: true});\n",
       "}}\n",
       "\n",
       "// Listen for the clearing of the current output cell\n",
       "var outputEl = gd.closest('.output');\n",
       "if (outputEl) {{\n",
       "    x.observe(outputEl, {childList: true});\n",
       "}}\n",
       "\n",
       "                        })                };                });            </script>        </div>"
      ]
     },
     "metadata": {},
     "output_type": "display_data"
    }
   ],
   "source": [
    "# Visualize outliers for Full Professor Comp, Associate Professor Comp, Assistant Professor Comp, All Rank Comp\n",
    "\n",
    "# Full Professor Comp\n",
    "fig = px.histogram(df2, x='Full Professor Comp', nbins=100,\n",
    "                   text_auto=True, title='Count of Full Professor Compensations')\n",
    "fig.show()\n",
    "\n",
    "# Associate Professor Comp\n",
    "fig = px.histogram(df2, x='Associate Professor Comp', nbins=100,\n",
    "                   text_auto=True, title='Count of Associate Professor Compensations')\n",
    "fig.show()\n",
    "\n",
    "# Assistant Professor Comp\n",
    "fig = px.histogram(df2, x='Assistant Professor Comp', nbins=100,\n",
    "                   text_auto=True, title='Count of Assistant Professor Compensations')\n",
    "fig.show()\n",
    "\n",
    "# All Rank Comp\n",
    "fig = px.histogram(df2, x='All Rank Comp', nbins=100,\n",
    "                   text_auto=True, title='Count of All Rank Compensations')\n",
    "fig.show()\n"
   ]
  },
  {
   "cell_type": "code",
   "execution_count": 68,
   "id": "dc71c260",
   "metadata": {},
   "outputs": [
    {
     "name": "stdout",
     "output_type": "stream",
     "text": [
      "root\n",
      " |-- Row: integer (nullable = true)\n",
      " |-- FICE: integer (nullable = true)\n",
      " |-- Name: string (nullable = true)\n",
      " |-- Postal: string (nullable = true)\n",
      " |-- Type: string (nullable = true)\n",
      " |-- Full Professor Salary: double (nullable = true)\n",
      " |-- Associate Professor Salary: double (nullable = true)\n",
      " |-- Assistant Professor Salary: double (nullable = true)\n",
      " |-- All Rank Salary: integer (nullable = true)\n",
      " |-- Full Professor Comp: double (nullable = true)\n",
      " |-- Associate Professor Comp: double (nullable = true)\n",
      " |-- Assistant Professor Comp: double (nullable = true)\n",
      " |-- All Rank Comp: integer (nullable = true)\n",
      " |-- Number of Full Professors: integer (nullable = true)\n",
      " |-- Number of Associate Professors: integer (nullable = true)\n",
      " |-- Number of Assistant Professors: integer (nullable = true)\n",
      " |-- Number of Instructors: integer (nullable = true)\n",
      " |-- Number of All Rank Faculty: integer (nullable = true)\n",
      "\n",
      "+---+-----+--------------------+------+----+---------------------+--------------------------+--------------------------+---------------+-------------------+------------------------+------------------------+-------------+-------------------------+------------------------------+------------------------------+---------------------+--------------------------+\n",
      "|Row| FICE|                Name|Postal|Type|Full Professor Salary|Associate Professor Salary|Assistant Professor Salary|All Rank Salary|Full Professor Comp|Associate Professor Comp|Assistant Professor Comp|All Rank Comp|Number of Full Professors|Number of Associate Professors|Number of Assistant Professors|Number of Instructors|Number of All Rank Faculty|\n",
      "+---+-----+--------------------+------+----+---------------------+--------------------------+--------------------------+---------------+-------------------+------------------------+------------------------+-------------+-------------------------+------------------------------+------------------------------+---------------------+--------------------------+\n",
      "|  1| 1061|Alaska Pacific Un...|    AK| IIB|                454.0|                     382.0|                     362.0|            382|              567.0|                   485.0|                   471.0|          487|                        6|                            11|                             9|                    4|                        32|\n",
      "|  2| 1063|Univ.Alaska-Fairb...|    AK|   I|                686.0|                     560.0|                     432.0|            508|              914.0|                   753.0|                   572.0|          677|                       74|                           125|                           118|                   40|                       404|\n",
      "|  3| 1065|Univ.Alaska-South...|    AK| IIA|                533.0|                     494.0|                     329.0|            415|              716.0|                   663.0|                   442.0|          559|                        9|                            26|                            20|                    9|                        70|\n",
      "|  4|11462|Univ.Alaska-Ancho...|    AK| IIA|                612.0|                     507.0|                     414.0|            498|              825.0|                   681.0|                   557.0|          670|                      115|                           124|                           101|                   21|                       392|\n",
      "|  5| 1002|Alabama Agri.&Mec...|    AL| IIA|                442.0|                     369.0|                     310.0|            350|              530.0|                   444.0|                   376.0|          423|                       59|                            77|                           102|                   24|                       262|\n",
      "|  6| 1004|University of Mon...|    AL| IIA|                441.0|                     385.0|                     310.0|            388|              542.0|                   473.0|                   383.0|          477|                       57|                            33|                            35|                    2|                       127|\n",
      "|  7| 1008|Athens State College|    AL| IIB|                466.0|                     394.0|                     351.0|            396|              558.0|                   476.0|                   427.0|          478|                       20|                            18|                            30|                    0|                        68|\n",
      "|  8| 1009|Auburn University...|    AL|   I|                580.0|                     437.0|                     374.0|            455|              692.0|                   527.0|                   451.0|          546|                      366|                           354|                           301|                   66|                      1109|\n",
      "|  9| 1012|Birmingham Southe...|    AL| IIB|                498.0|                     379.0|                     322.0|            401|              655.0|                   501.0|                   404.0|          523|                       34|                            25|                            27|                    3|                        89|\n",
      "| 10| 1016|Univ. of North Al...|    AL| IIB|                506.0|                     412.0|                     359.0|            411|              607.0|                   508.0|                   445.0|          503|                       67|                            40|                            66|                   27|                       200|\n",
      "| 11| 1019|  Huntingdon College|    AL| IIB|                339.0|                     303.0|                     287.0|            301|              421.0|                   371.0|                   347.0|          366|                        8|                            15|                            19|                    2|                        44|\n",
      "| 12| 1020|Jacksonville Stat...|    AL| IIA|                461.0|                     389.0|                     338.0|            386|              585.0|                   496.0|                   436.0|          493|                      106|                            42|                            66|                   58|                       272|\n",
      "| 13| 1024|Livingston Univer...|    AL| IIB|                360.0|                     304.0|                     258.0|            300|              433.0|                   369.0|                   313.0|          363|                       27|                            25|                            33|                    4|                        89|\n",
      "| 14| 1029|University of Mobile|    AL| IIB|                354.0|                     321.0|                     277.0|            291|              436.0|                   401.0|                   346.0|          363|                       17|                            19|                            31|                   19|                        86|\n",
      "| 15| 1033|     Oakwood College|    AL| IIB|                301.0|                     290.0|                     283.0|            290|              375.0|                   363.0|                   355.0|          362|                       18|                            28|                            28|                    3|                        77|\n",
      "| 16| 1036|  Samford University|    AL| IIA|                565.0|                     425.0|                     363.0|            449|              710.0|                   556.0|                   476.0|          578|                       83|                            46|                            77|                    9|                       215|\n",
      "| 17| 1041| Spring Hill College|    AL| IIB|                431.0|                     352.0|                     311.0|            373|              518.0|                   425.0|                   374.0|          449|                       23|                            17|                            14|                    1|                        55|\n",
      "| 18| 1044|    Stillman College|    AL| IIB|                321.0|                     288.0|                     251.0|            272|              388.0|                   354.0|                   312.0|          335|                       13|                            18|                            18|                   10|                        59|\n",
      "| 19| 1047|Troy State Univer...|    AL| IIA|                462.0|                     385.0|                     322.0|            350|              560.0|                   467.0|                   392.0|          426|                       25|                            59|                           100|                   19|                       204|\n",
      "| 20| 1050| Tuskegee University|    AL| IIA|                410.0|                     352.0|                     306.0|            327|              487.0|                   415.0|                   362.0|          387|                       57|                            65|                            85|                   45|                       254|\n",
      "+---+-----+--------------------+------+----+---------------------+--------------------------+--------------------------+---------------+-------------------+------------------------+------------------------+-------------+-------------------------+------------------------------+------------------------------+---------------------+--------------------------+\n",
      "only showing top 20 rows\n",
      "\n"
     ]
    }
   ],
   "source": [
    "import os\n",
    "\n",
    "df = spark.read.options(\n",
    "    header='True',\n",
    "    inferSchema='True',\n",
    "    delimiter=',',\n",
    ").csv(os.path.expanduser('~/cp468-Project/aaup.csv'))\n",
    "df.printSchema()\n",
    "df.show()"
   ]
  },
  {
   "cell_type": "code",
   "execution_count": 69,
   "id": "323dc404",
   "metadata": {},
   "outputs": [
    {
     "data": {
      "image/png": "[encoded data removed]",
      "text/plain": [
       "<Figure size 864x864 with 1 Axes>"
      ]
     },
     "metadata": {
      "needs_background": "light"
     },
     "output_type": "display_data"
    },
    {
     "data": {
      "image/png": "[encoded data removed]",
      "text/plain": [
       "<Figure size 864x864 with 1 Axes>"
      ]
     },
     "metadata": {
      "needs_background": "light"
     },
     "output_type": "display_data"
    },
    {
     "data": {
      "image/png": "[encoded data removed]",
      "text/plain": [
       "<Figure size 864x864 with 1 Axes>"
      ]
     },
     "metadata": {
      "needs_background": "light"
     },
     "output_type": "display_data"
    },
    {
     "data": {
      "image/png": "[encoded data removed]",
      "text/plain": [
       "<Figure size 864x864 with 1 Axes>"
      ]
     },
     "metadata": {
      "needs_background": "light"
     },
     "output_type": "display_data"
    }
   ],
   "source": [
    "plt.rcParams[\"figure.figsize\"] = (12,12)\n",
    "\n",
    "fullArray = df.select(col(\"Full Professor Salary\"), col(\"Number of Full Professors\"),col(\"Full Professor Comp\")).collect()\n",
    "associateArray = df.select(col(\"Associate Professor Salary\"), col(\"Number of Associate Professors\"),col(\"Associate Professor Comp\")).collect()\n",
    "assistantArray = df.select(col(\"Assistant Professor Salary\"), col(\"Number of Assistant Professors\"),col(\"Assistant Professor Comp\")).collect()\n",
    "allArray = df.select(col(\"All Rank Salary\"), col(\"Number of All Rank Faculty\"),col(\"All Rank Comp\")).collect()\n",
    "\n",
    "# Full Professor\n",
    "x = []\n",
    "y = []\n",
    "z = []\n",
    "for i in range(len(fullArray)):\n",
    "    x.append(fullArray[i][0])\n",
    "    y.append(fullArray[i][1])\n",
    "    z.append(fullArray[i][2])\n",
    "fig = plt.figure()\n",
    "ax = fig.add_subplot(projection='3d')\n",
    "ax.scatter(x,y,z)\n",
    "ax.set_xlabel('Salary')\n",
    "ax.set_ylabel('Number of Faculty')\n",
    "ax.set_zlabel('Compensation')\n",
    "plt.title(\"Full Professor\", fontsize = 20)\n",
    "plt.show()\n",
    "\n",
    "# Associate Professor\n",
    "x = []\n",
    "y = []\n",
    "z = []\n",
    "for i in range(len(associateArray)):\n",
    "    x.append(associateArray[i][0])\n",
    "    y.append(associateArray[i][1])\n",
    "    z.append(associateArray[i][2])\n",
    "fig = plt.figure()\n",
    "ax = fig.add_subplot(projection='3d')\n",
    "ax.scatter(x,y,z)\n",
    "ax.set_xlabel('Salary')\n",
    "ax.set_ylabel('Number of Faculty')\n",
    "ax.set_zlabel('Compensation')\n",
    "plt.title(\"Associate Professor\", fontsize = 20)\n",
    "plt.show()\n",
    "\n",
    "# Assistant Professor\n",
    "x = []\n",
    "y = []\n",
    "z = []\n",
    "for i in range(len(assistantArray)):\n",
    "    x.append(assistantArray[i][0])\n",
    "    y.append(assistantArray[i][1])\n",
    "    z.append(assistantArray[i][2])\n",
    "fig = plt.figure()\n",
    "ax = fig.add_subplot(projection='3d')\n",
    "ax.scatter(x,y,z)\n",
    "ax.set_xlabel('Salary')\n",
    "ax.set_ylabel('Number of Faculty')\n",
    "ax.set_zlabel('Compensation')\n",
    "plt.title(\"Assistant Professor\", fontsize = 20)\n",
    "plt.show()\n",
    "\n",
    "# All Rank\n",
    "x = []\n",
    "y = []\n",
    "z = []\n",
    "for i in range(len(allArray)):\n",
    "    x.append(allArray[i][0])\n",
    "    y.append(allArray[i][1])\n",
    "    z.append(allArray[i][2])\n",
    "fig = plt.figure()\n",
    "ax = fig.add_subplot(projection='3d')\n",
    "ax.scatter(x,y,z)\n",
    "ax.set_xlabel('Salary')\n",
    "ax.set_ylabel('Number of Faculty')\n",
    "ax.set_zlabel('Compensation')\n",
    "plt.title(\"All Rank\", fontsize = 20)\n",
    "plt.show()"
   ]
  },
  {
   "cell_type": "code",
   "execution_count": 70,
   "id": "9b1642bd",
   "metadata": {},
   "outputs": [
    {
     "name": "stdout",
     "output_type": "stream",
     "text": [
      "1058 data entries (removed outliers)\n"
     ]
    }
   ],
   "source": [
    "# Computes Z-score of each respective column, and removes rows with Z-scores above 3. 1058 data entries now.\n",
    "df3 = df2[(np.abs(stats.zscore(df2['Full Professor Comp'])) < 3)]\n",
    "df3 = df3[(np.abs(stats.zscore(df3['Associate Professor Comp'])) < 3)]\n",
    "df3 = df3[(np.abs(stats.zscore(df3['Assistant Professor Comp'])) < 3)]\n",
    "df3 = df3[(np.abs(stats.zscore(df3['All Rank Comp'])) < 3)]\n",
    "print(\"{:.0f} data entries (removed outliers)\".format(len(df3.index)))"
   ]
  },
  {
   "cell_type": "code",
   "execution_count": 71,
   "id": "c4fdb991",
   "metadata": {},
   "outputs": [
    {
     "data": {
      "text/plain": [
       "'\\nWe can see from the variable correlation coefficients that there is high correlation between the different salaries\\nof each rank. Although high correlation in linear regression models can cause problems with multicollinearity and make\\nregression coefficients unreliable, we do not need to remove any of the features because the highly correlated features\\nwill be modelled in seperate linear regression equations.\\n'"
      ]
     },
     "execution_count": 71,
     "metadata": {},
     "output_type": "execute_result"
    }
   ],
   "source": [
    "corr_data = df3.corr(method='pearson')\n",
    "corr_data.to_csv(\"correlationCoefficients.csv\", encoding='utf-8', index=True)\n",
    "\n",
    "'''\n",
    "We can see from the variable correlation coefficients that there is high correlation between the different salaries\n",
    "of each rank. Although high correlation in linear regression models can cause problems with multicollinearity and make\n",
    "regression coefficients unreliable, we do not need to remove any of the features because the highly correlated features\n",
    "will be modelled in seperate linear regression equations.\n",
    "'''"
   ]
  },
  {
   "cell_type": "code",
   "execution_count": 86,
   "id": "c5218a5b",
   "metadata": {},
   "outputs": [
    {
     "name": "stdout",
     "output_type": "stream",
     "text": [
      "[ 1.29825179 -0.02867791]\n",
      "-23.828804243035506\n",
      "16.57703863349319\n",
      "477.2632379161607\n",
      "21.846355254736675\n"
     ]
    }
   ],
   "source": [
    "x = df3[['Full Professor Salary', \"Number of Full Professors\"]]\n",
    "y = df3['Full Professor Comp']\n",
    "x_train, x_test, y_train, y_test = train_test_split(x, y, test_size = 0.3)\n",
    "\n",
    "model = LinearRegression()\n",
    "model.fit(x_train, y_train)\n",
    "print(model.coef_)\n",
    "print(model.intercept_)\n",
    "\n",
    "pd.DataFrame(model.coef_, x.columns, columns = ['Coeff'])\n",
    "\n",
    "predictions = model.predict(x_test)\n",
    "\n",
    "print(metrics.mean_absolute_error(y_test, predictions))\n",
    "\n",
    "print(metrics.mean_squared_error(y_test, predictions))\n",
    "\n",
    "print(np.sqrt(metrics.mean_squared_error(y_test, predictions)))"
   ]
  },
  {
   "cell_type": "code",
   "execution_count": 87,
   "id": "f88368b1",
   "metadata": {},
   "outputs": [
    {
     "name": "stdout",
     "output_type": "stream",
     "text": [
      "[ 1.35568907 -0.03292018]\n",
      "-38.434958446472706\n",
      "14.766902946740414\n",
      "347.3189022099251\n",
      "18.63649382823725\n"
     ]
    }
   ],
   "source": [
    "x = df3[['Associate Professor Salary', \"Number of Associate Professors\"]]\n",
    "y = df3['Associate Professor Comp']\n",
    "x_train, x_test, y_train, y_test = train_test_split(x, y, test_size = 0.3)\n",
    "\n",
    "model = LinearRegression()\n",
    "model.fit(x_train, y_train)\n",
    "print(model.coef_)\n",
    "print(model.intercept_)\n",
    "\n",
    "pd.DataFrame(model.coef_, x.columns, columns = ['Coeff'])\n",
    "\n",
    "predictions = model.predict(x_test)\n",
    "\n",
    "print(metrics.mean_absolute_error(y_test, predictions))\n",
    "\n",
    "print(metrics.mean_squared_error(y_test, predictions))\n",
    "\n",
    "print(np.sqrt(metrics.mean_squared_error(y_test, predictions)))"
   ]
  },
  {
   "cell_type": "code",
   "execution_count": 88,
   "id": "22ca5a12",
   "metadata": {},
   "outputs": [
    {
     "name": "stdout",
     "output_type": "stream",
     "text": [
      "[ 1.34783096 -0.01453419]\n",
      "-30.95948053714858\n",
      "12.609667987741437\n",
      "263.7953112963445\n",
      "16.24177672843536\n"
     ]
    }
   ],
   "source": [
    "x = df3[['Assistant Professor Salary', \"Number of Assistant Professors\"]]\n",
    "y = df3['Assistant Professor Comp']\n",
    "x_train, x_test, y_train, y_test = train_test_split(x, y, test_size = 0.3)\n",
    "\n",
    "model = LinearRegression()\n",
    "model.fit(x_train, y_train)\n",
    "print(model.coef_)\n",
    "print(model.intercept_)\n",
    "\n",
    "pd.DataFrame(model.coef_, x.columns, columns = ['Coeff'])\n",
    "\n",
    "predictions = model.predict(x_test)\n",
    "\n",
    "print(metrics.mean_absolute_error(y_test, predictions))\n",
    "\n",
    "print(metrics.mean_squared_error(y_test, predictions))\n",
    "\n",
    "print(np.sqrt(metrics.mean_squared_error(y_test, predictions)))"
   ]
  },
  {
   "cell_type": "code",
   "execution_count": 89,
   "id": "6c864f17",
   "metadata": {},
   "outputs": [
    {
     "name": "stdout",
     "output_type": "stream",
     "text": [
      "[ 1.31780312 -0.00999107]\n",
      "-24.863650668791138\n",
      "14.232404096131768\n",
      "325.64548647113395\n",
      "18.045650070616297\n"
     ]
    }
   ],
   "source": [
    "x = df3[['All Rank Salary', \"Number of All Rank Faculty\"]]\n",
    "y = df3['All Rank Comp']\n",
    "x_train, x_test, y_train, y_test = train_test_split(x, y, test_size = 0.3)\n",
    "\n",
    "model = LinearRegression()\n",
    "model.fit(x_train, y_train)\n",
    "print(model.coef_)\n",
    "print(model.intercept_)\n",
    "\n",
    "pd.DataFrame(model.coef_, x.columns, columns = ['Coeff'])\n",
    "\n",
    "predictions = model.predict(x_test)\n",
    "\n",
    "print(metrics.mean_absolute_error(y_test, predictions))\n",
    "\n",
    "print(metrics.mean_squared_error(y_test, predictions))\n",
    "\n",
    "print(np.sqrt(metrics.mean_squared_error(y_test, predictions)))"
   ]
  },
  {
   "cell_type": "code",
   "execution_count": null,
   "id": "7583cb22",
   "metadata": {},
   "outputs": [],
   "source": []
  }
 ],
 "metadata": {
  "kernelspec": {
   "display_name": "Python 3 (ipykernel)",
   "language": "python",
   "name": "python3"
  },
  "language_info": {
   "codemirror_mode": {
    "name": "ipython",
    "version": 3
   },
   "file_extension": ".py",
   "mimetype": "text/x-python",
   "name": "python",
   "nbconvert_exporter": "python",
   "pygments_lexer": "ipython3",
   "version": "3.9.12"
  }
 },
 "nbformat": 4,
 "nbformat_minor": 5
}
